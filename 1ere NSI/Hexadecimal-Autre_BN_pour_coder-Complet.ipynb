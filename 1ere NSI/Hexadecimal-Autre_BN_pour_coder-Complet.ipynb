








<!DOCTYPE html>
<html lang="en">

<head>
  <meta charset="utf-8">
  <title>Jupyter Notebook Viewer</title>
  <meta name="viewport" content="width=device-width, initial-scale=1.0">
  <meta name="description" content="">
  <meta name="author" content="">
  
  <meta name="robots" content="noindex,nofollow">
  

  <!--NEW RELIC Start Perf Measurement-->
  
  <!--NREND-->

  <!-- Le styles -->
  <link href="/static/build/styles.css" rel="stylesheet">

  <!-- Le HTML5 shim, for IE6-8 support of HTML5 elements -->
  <!--[if lt IE 9]>
    <script src="http://html5shim.googlecode.com/svn/trunk/html5.js"></script>
  <![endif]-->

  <!-- Le fav and touch icons -->
  <link rel="shortcut icon" href="/static/ico/ipynb_icon_16x16.png">
  <link rel="apple-touch-icon-precomposed" sizes="144x144"
        href="/static/ico/apple-touch-icon-144-precomposed.png">
  <link rel="apple-touch-icon-precomposed" sizes="114x114"
        href="/static/ico/apple-touch-icon-114-precomposed.png">
  <link rel="apple-touch-icon-precomposed" sizes="72x72"
        href="/static/ico/apple-touch-icon-72-precomposed.png">
  <link rel="apple-touch-icon-precomposed"
        href="/static/ico/apple-touch-icon-57-precomposed.png">
  
  

  

  
  <meta name="twitter:card" content="summary">
  <meta name="twitter:title" content="Notebook on nbviewer">
  <meta name="twitter:description" content="Check out this Jupyter notebook!">

  
  <meta name="twitter:domain" content="nbviewer.jupyter.org">
  <meta name="twitter:image:src" content="http://ipython.org/ipython-doc/dev/_images/ipynb_icon_128x128.png">

  
    <link href="/static/build/notebook.css" rel="stylesheet">
  

  

  
    <script src="https://cdnjs.cloudflare.com/ajax/libs/mathjax/2.7.1/MathJax.js?config=TeX-AMS_HTML" type="text/javascript">
    </script>
    <script type="text/javascript">
      init_mathjax = function() {
        if (window.MathJax) {
          // MathJax loaded
          MathJax.Hub.Config({
            TeX: {
              equationNumbers: {
                autoNumber: "AMS",
                useLabelIds: true
              }
            },
            tex2jax: {
              inlineMath: [ ['$','$'], ["\\(","\\)"] ],
              displayMath: [ ['$$','$$'], ["\\[","\\]"] ],
              processEscapes: true,
              processEnvironments: true
            },
            displayAlign: 'center',
            "HTML-CSS": {
              styles: {'.MathJax_Display': {"margin": 0}},
              linebreaks: { automatic: true }
            }
          });
          MathJax.Hub.Queue(["Typeset", MathJax.Hub]);
        }
      }
      init_mathjax();
    </script>
  

  
    <script>
      (function() {
        function addWidgetsRenderer() {
          var mimeElement = document.querySelector('script[type="application/vnd.jupyter.widget-view+json"]');
          var scriptElement = document.createElement('script');
          var widgetRendererSrc = 'https://unpkg.com/@jupyter-widgets/html-manager@0.15/dist/embed-amd.js';
          var widgetState;

          try {
            widgetState = mimeElement && JSON.parse(mimeElement.innerHTML);

            if (widgetState && (widgetState.version_major < 2 || !widgetState.version_major)) {
              widgetRendererSrc = 'https://unpkg.com/jupyter-js-widgets@2.1/dist/embed.js';
            }
          } catch(e) {}

          scriptElement.src = widgetRendererSrc;
          document.body.appendChild(scriptElement);
        }

        document.addEventListener('DOMContentLoaded', addWidgetsRenderer);
      }());
    </script>
  

</head>

<body class="nbviewer">

  <!-- These are loaded at the top of the body so they are available to
       notebook cells when they are loaded below. -->
  <script src="/static/components/jquery/dist/jquery.min.js"></script>
  <script src="/static/components/requirejs/require.js"></script>
  <script src="/static/components/moment/min/moment.min.js"></script>
<!-- Navbar
================================================== -->
  <nav id="menubar" class="navbar navbar-default navbar-fixed-top" data-spy="affix">
    <div class="container">
      <div class="navbar-header">
        <button type="button" class="navbar-toggle collapsed" data-toggle="collapse" data-target=".navbar-collapse">
          <span class="sr-only">Toggle navigation</span>
          <i class="fa fa-bars"></i>
        </button>
        <a class="navbar-brand" href="/">
          <img src="/static/img/nav_logo.svg" width="159"/>
        </a>
      </div>

      <div class="collapse navbar-collapse">
        <ul class="nav navbar-nav navbar-right">
          <li>
            <a class="active" href="https://jupyter.org">JUPYTER</a>
          </li>
          <li>
    <a href="/faq" title="FAQ" >
      
        <span>FAQ</span>
      
    </a>
  </li>

          
  
    
  
    
      
        <li>
    <a href="slides/github/ericECmorlaix/1NSI_2020-2021/blob/master/Hexadecimal-Autre_BN_pour_coder-Complet.ipynb" title="View as Slides" >
      <span class="fa fa-gift fa-2x menu-icon"></span>
      <span class="menu-text">View as Slides</span>
    </a>
  </li>
      
    
  
    
      
        <li>
    <a href="script/github/ericECmorlaix/1NSI_2020-2021/blob/master/Hexadecimal-Autre_BN_pour_coder-Complet.ipynb" title="View as Code" >
      <span class="fa fa-code fa-2x menu-icon"></span>
      <span class="menu-text">View as Code</span>
    </a>
  </li>
      
    
  

  
    <li>
    <a href="#" title="Python 3 Kernel" >
      <span class="fa fa-server fa-2x menu-icon"></span>
      <span class="menu-text">Python 3 Kernel</span>
    </a>
  </li>
  

  
    <li>
    <a href="https://github.com/ericECmorlaix/1NSI_2020-2021/blob/master/Hexadecimal-Autre_BN_pour_coder-Complet.ipynb" title="View on GitHub" >
      <span class="fa fa-github fa-2x menu-icon"></span>
      <span class="menu-text">View on GitHub</span>
    </a>
  </li>
  

  
    <li>
    <a href="https://mybinder.org/v2/gh/ericECmorlaix/1NSI_2020-2021/master?filepath=Hexadecimal-Autre_BN_pour_coder-Complet.ipynb" title="Execute on Binder" >
      <span class="fa fa-icon-binder fa-2x menu-icon"></span>
      <span class="menu-text">Execute on Binder</span>
    </a>
  </li>
  

  <li>
    <a href="https://raw.githubusercontent.com/ericECmorlaix/1NSI_2020-2021/master/Hexadecimal-Autre_BN_pour_coder-Complet.ipynb" title="Download Notebook" download>
      <span class="fa fa-download fa-2x menu-icon"></span>
      <span class="menu-text">Download Notebook</span>
    </a>
  </li>

        </ul>
      </div><!-- /.navbar-collapse -->
      
      
    </div>
  </nav>

  <div class="container container-main">
    
  
  <ol class="breadcrumb">
    
      <li>
        <a href="/github/ericECmorlaix/1NSI_2020-2021/tree/master">1NSI_2020-2021</a>
      </li>
    
      <li>
        <a href="/github/ericECmorlaix/1NSI_2020-2021/tree/master/Hexadecimal-Autre_BN_pour_coder-Complet.ipynb">Hexadecimal-Autre_BN_pour_coder-Complet.ipynb</a>
      </li>
    
  </ol>
  
  <div id="notebook">
    <div id="notebook-container">
      <div class="cell border-box-sizing text_cell rendered"><div class="prompt input_prompt">
</div><div class="inner_cell">
<div class="text_cell_render border-box-sizing rendered_html">
<h1 id="Le-Bloc-Note-pour-apprendre-&#224;-coder-en-hexad&#233;cimal-:">Le Bloc Note pour apprendre &#224; coder en hexad&#233;cimal :<a class="anchor-link" href="#Le-Bloc-Note-pour-apprendre-&#224;-coder-en-hexad&#233;cimal-:">&#182;</a></h1><p>Nous savons maintenant que de nos jours les ordinateurs comme pratiquement tous les systèmes numériques communiquent en faisant circuler des informations sous la forme de mots binaires à 8 bits = 1 octet que l'on nomme bytes même si celà n'a pas toujours été le cas : <a href="https://fr.wikipedia.org/wiki/Byte">https://fr.wikipedia.org/wiki/Byte</a>.</p>
<p>Pour un humain (normalement constitué), il est fastidieux d'écrire ou de déchiffré à la volée de telles trames d'informations directement au format binaire :</p>
<p><code>0100111001010011010010010010110000100000011000110010011101100101011100110111010000100000011000110110111101101111011011000010000000100001</code></p>
<p>Le format hexadécimal présente de façon plus condensée un message binaire constitué d'une suite d'octects.</p>

</div>
</div>
</div>
<div class="cell border-box-sizing text_cell rendered"><div class="prompt input_prompt">
</div><div class="inner_cell">
<div class="text_cell_render border-box-sizing rendered_html">
<h1 id="Syst&#232;me-hexad&#233;cimal-:">Syst&#232;me hexad&#233;cimal :<a class="anchor-link" href="#Syst&#232;me-hexad&#233;cimal-:">&#182;</a></h1>
</div>
</div>
</div>
<div class="cell border-box-sizing text_cell rendered"><div class="prompt input_prompt">
</div><div class="inner_cell">
<div class="text_cell_render border-box-sizing rendered_html">
<p>C’est un système de base $16$ qui utilise donc seize symboles différents :</p>
$$ 0, 1, 2, 3, 4, 5, 6, 7, 8, 9, A, B, C, D, E, F$$<p>Pour distinguer un nombre hexadécimal on indique le code <code>0x</code> (ou le symbole <code>#</code>) avant le nombre ou l’indice $_{16}$ (ou $_h$) après le nombre.</p>
<p>Les lettres A à F correspondent respectivement au nombre décimaux ? $10, 11, 12, 13, 14, 15$</p>
<p>$AC53_{16}$ = $10 \times 16^3 + 12 \times 16^2 + 5 \times 16^1 + 3 \times 16^0$</p>

</div>
</div>
</div>
<div class="cell border-box-sizing text_cell rendered"><div class="prompt input_prompt">
</div><div class="inner_cell">
<div class="text_cell_render border-box-sizing rendered_html">
<h2 id="Correspondance-entre-nombres-de-diff&#233;rentes-bases-:">Correspondance entre nombres de diff&#233;rentes bases :<a class="anchor-link" href="#Correspondance-entre-nombres-de-diff&#233;rentes-bases-:">&#182;</a></h2><p><img src="https://ericecmorlaix.github.io/img/Stepper-Correspondance-Complet.svg" alt="Tableau de correspondance entre bases"></p>

</div>
</div>
</div>
<div class="cell border-box-sizing text_cell rendered"><div class="prompt input_prompt">
</div><div class="inner_cell">
<div class="text_cell_render border-box-sizing rendered_html">
<h2 id="Changement-de-base-:">Changement de base :<a class="anchor-link" href="#Changement-de-base-:">&#182;</a></h2><h3 id="Conversion-d&#8217;un-nombre-hexad&#233;cimal-en-binaire.">Conversion d&#8217;un nombre hexad&#233;cimal en binaire.<a class="anchor-link" href="#Conversion-d&#8217;un-nombre-hexad&#233;cimal-en-binaire.">&#182;</a></h3><p>Chaque symbole du nombre écrit dans le système hexadécimal est remplacé par son équivalent écrit dans le système binaire.</p>
<p>Exemple : Convertir $ECA_{16}$ = ${1110_2\over E_{16}}{1100_2\over C_{16}}{1010_2\over A_{16}}$ = $1110 1100 1010_2$</p>
<h3 id="Conversion-d&#8217;un-nombre-binaire-en-hexad&#233;cimal.">Conversion d&#8217;un nombre binaire en hexad&#233;cimal.<a class="anchor-link" href="#Conversion-d&#8217;un-nombre-binaire-en-hexad&#233;cimal.">&#182;</a></h3><p>C’est l’inverse de la précédente. Il faut donc regrouper les 1 et les 0 du nombre par 4 en commençant par la droite, quitte à rajouter des 0 à gauche, puis chaque groupe est remplacé par le symbole hexadécimal correspondant.</p>
<p>Exemple : Convertir $1100001101111_2$ = ${1_{16}\over 0001_2}{8_{16}\over 1000_2}{6_{16}\over 0110_2}{F_{16}\over 1111_2}$ = $186F_{16}$</p>

</div>
</div>
</div>
<div class="cell border-box-sizing text_cell rendered"><div class="prompt input_prompt">
</div><div class="inner_cell">
<div class="text_cell_render border-box-sizing rendered_html">
<h3 class='fa fa-graduation-cap' style="color: MediumSeaGreen"> A faire vous même n°1 :</h3><p>Recoder en hexadécimal la trame d'information binaire donnée au début de ce notebook.</p>
<table>
<thead><tr>
<th style="text-align:center">Binaire</th>
<th style="text-align:center">Hexadecimal</th>
<th style="text-align:center">ASCII</th>
</tr>
</thead>
<tbody>
<tr>
<td style="text-align:center"><code>01001110</code></td>
<td style="text-align:center"><code>4E</code></td>
<td style="text-align:center"></td>
</tr>
<tr>
<td style="text-align:center"><code>01010011</code></td>
<td style="text-align:center"><code>53</code></td>
<td style="text-align:center"></td>
</tr>
<tr>
<td style="text-align:center"><code>01001001</code></td>
<td style="text-align:center"><code>49</code></td>
<td style="text-align:center"></td>
</tr>
<tr>
<td style="text-align:center"><code>00101100</code></td>
<td style="text-align:center"><code>2C</code></td>
<td style="text-align:center"></td>
</tr>
<tr>
<td style="text-align:center"><code>00100000</code></td>
<td style="text-align:center"><code>20</code></td>
<td style="text-align:center"></td>
</tr>
<tr>
<td style="text-align:center"><code>01100011</code></td>
<td style="text-align:center"><code>63</code></td>
<td style="text-align:center"></td>
</tr>
<tr>
<td style="text-align:center"><code>00100111</code></td>
<td style="text-align:center"><code>27</code></td>
<td style="text-align:center"></td>
</tr>
<tr>
<td style="text-align:center"><code>01100101</code></td>
<td style="text-align:center"><code>65</code></td>
<td style="text-align:center"></td>
</tr>
<tr>
<td style="text-align:center"><code>01110011</code></td>
<td style="text-align:center"><code>73</code></td>
<td style="text-align:center"></td>
</tr>
<tr>
<td style="text-align:center"><code>01110100</code></td>
<td style="text-align:center"><code>74</code></td>
<td style="text-align:center"></td>
</tr>
<tr>
<td style="text-align:center"><code>00100000</code></td>
<td style="text-align:center"><code>20</code></td>
<td style="text-align:center"></td>
</tr>
<tr>
<td style="text-align:center"><code>01100011</code></td>
<td style="text-align:center"><code>63</code></td>
<td style="text-align:center"></td>
</tr>
<tr>
<td style="text-align:center"><code>01101111</code></td>
<td style="text-align:center"><code>6F</code></td>
<td style="text-align:center"></td>
</tr>
<tr>
<td style="text-align:center"><code>01101111</code></td>
<td style="text-align:center"><code>6F</code></td>
<td style="text-align:center"></td>
</tr>
<tr>
<td style="text-align:center"><code>01101100</code></td>
<td style="text-align:center"><code>6C</code></td>
<td style="text-align:center"></td>
</tr>
<tr>
<td style="text-align:center"><code>00100000</code></td>
<td style="text-align:center"><code>20</code></td>
<td style="text-align:center"></td>
</tr>
<tr>
<td style="text-align:center"><code>00100001</code></td>
<td style="text-align:center"><code>21</code></td>
</tr>
</tbody>
</table>
<h3 class='fa fa-graduation-cap' style="color: darkorange"> A faire vous même n°2 :</h3><p>L'objectif de cet exercice est de convertir des nombres entiers donnés en décimal, en binaire ou en héxadécimal, pour dessiner une image matricielle dans un quadrillage $8 \times 8$.</p>
<p>Chaque case de l'image correspond à un bit. Une ligne de l'image fait 8 cases, soit 8 bits ou 1 octet.</p>
<p>Lorsque le bit est à 1 alors la case est noire, lorsque le bit est à 0 alors la case est blanche.</p>
<h4 id="Exemple-:">Exemple :<a class="anchor-link" href="#Exemple-:">&#182;</a></h4><p><img src="https://ericecmorlaix.github.io/img/NSI-Exemple-2D_Code.png" alt="ExerciceCodage.png"></p>
<h4 id="A-faire-vous-m&#234;me-:-compl&#233;ter-le-quadrillage-pour-d&#233;couvrir-l'image...">A faire vous m&#234;me : <strong>compl&#233;ter</strong> le quadrillage pour d&#233;couvrir l'image...<a class="anchor-link" href="#A-faire-vous-m&#234;me-:-compl&#233;ter-le-quadrillage-pour-d&#233;couvrir-l'image...">&#182;</a></h4><p><img src="https://ericecmorlaix.github.io/img/NSI-2D_Code.png" alt="ExerciceCodage.png"></p>
<h4 id="V&#233;rification-:">V&#233;rification :<a class="anchor-link" href="#V&#233;rification-:">&#182;</a></h4><p>Un moyen de vérifer si on n'a pas fait d'erreur est de fournir un nombre qui pourrait être un code de validation.</p>
<p>Cette méthode n'est pas fiable à 100% mais elle permet très souvent de savoir si une erreur a été commise.</p>
<p>Pour chaque colonne, on compte le nombre de 1 ; si ce nombre est pair, on marque 0 ; s'il est impair, on marque 1. On obtient ainsi un nombre 8 bits (1 pour chaque colonne).</p>
<p>Le code de validation de l'image ci-dessus est égal à 202. Utilisez-le pour valider votre codage.</p>
<p><img src="https://ericecmorlaix.github.io/img/NSI-Validation-2D_Code.png" alt="ExerciceCodage.png"></p>
<h4 id="Correction-:">Correction :<a class="anchor-link" href="#Correction-:">&#182;</a></h4><p><img src="https://ericecmorlaix.github.io/img/NSI-Correction-2D_Code.png" alt="ExerciceCodage.png"></p>

</div>
</div>
</div>
<div class="cell border-box-sizing text_cell rendered"><div class="prompt input_prompt">
</div><div class="inner_cell">
<div class="text_cell_render border-box-sizing rendered_html">
<h2 id="Fonctions-de-conversion-de-Python-:">Fonctions de conversion de Python :<a class="anchor-link" href="#Fonctions-de-conversion-de-Python-:">&#182;</a></h2><p>La fonction <code>bin()</code> permet de convertir un nombre en binaire :</p>

</div>
</div>
</div>
<div class="cell border-box-sizing code_cell rendered">
<div class="input">
<div class="prompt input_prompt">In&nbsp;[&nbsp;]:</div>
<div class="inner_cell">
    <div class="input_area">
<div class=" highlight hl-ipython3"><pre><span></span><span class="nb">bin</span><span class="p">(</span><span class="mi">91</span><span class="p">)</span>
</pre></div>

    </div>
</div>
</div>

</div>
<div class="cell border-box-sizing code_cell rendered">
<div class="input">
<div class="prompt input_prompt">In&nbsp;[&nbsp;]:</div>
<div class="inner_cell">
    <div class="input_area">
<div class=" highlight hl-ipython3"><pre><span></span><span class="nb">bin</span><span class="p">(</span><span class="mh">0x5b</span><span class="p">)</span>
</pre></div>

    </div>
</div>
</div>

</div>
<div class="cell border-box-sizing text_cell rendered"><div class="prompt input_prompt">
</div><div class="inner_cell">
<div class="text_cell_render border-box-sizing rendered_html">
<p>La fonction <code>hex()</code> permet de convertir un nombre en hexadécimal :</p>

</div>
</div>
</div>
<div class="cell border-box-sizing code_cell rendered">
<div class="input">
<div class="prompt input_prompt">In&nbsp;[&nbsp;]:</div>
<div class="inner_cell">
    <div class="input_area">
<div class=" highlight hl-ipython3"><pre><span></span><span class="nb">hex</span><span class="p">(</span><span class="mi">91</span><span class="p">)</span>
</pre></div>

    </div>
</div>
</div>

</div>
<div class="cell border-box-sizing code_cell rendered">
<div class="input">
<div class="prompt input_prompt">In&nbsp;[&nbsp;]:</div>
<div class="inner_cell">
    <div class="input_area">
<div class=" highlight hl-ipython3"><pre><span></span><span class="nb">hex</span><span class="p">(</span><span class="mb">0b1011011</span><span class="p">)</span>
</pre></div>

    </div>
</div>
</div>

</div>
<div class="cell border-box-sizing text_cell rendered"><div class="prompt input_prompt">
</div><div class="inner_cell">
<div class="text_cell_render border-box-sizing rendered_html">
<p>La fonction <code>int()</code> permet de convertir un nombre en décimal :</p>

</div>
</div>
</div>
<div class="cell border-box-sizing code_cell rendered">
<div class="input">
<div class="prompt input_prompt">In&nbsp;[&nbsp;]:</div>
<div class="inner_cell">
    <div class="input_area">
<div class=" highlight hl-ipython3"><pre><span></span><span class="nb">int</span><span class="p">(</span><span class="mb">0b1111010111</span><span class="p">)</span>
</pre></div>

    </div>
</div>
</div>

</div>
<div class="cell border-box-sizing code_cell rendered">
<div class="input">
<div class="prompt input_prompt">In&nbsp;[&nbsp;]:</div>
<div class="inner_cell">
    <div class="input_area">
<div class=" highlight hl-ipython3"><pre><span></span><span class="nb">int</span><span class="p">(</span><span class="mh">0x5b</span><span class="p">)</span>
</pre></div>

    </div>
</div>
</div>

</div>
<div class="cell border-box-sizing text_cell rendered"><div class="prompt input_prompt">
</div><div class="inner_cell">
<div class="text_cell_render border-box-sizing rendered_html">
<h2 id="Codage-Hexad&#233;cimal-des-couleurs-:">Codage Hexad&#233;cimal des couleurs :<a class="anchor-link" href="#Codage-Hexad&#233;cimal-des-couleurs-:">&#182;</a></h2><p>Les couleurs RVB peuvent être exprimées dans différents formats comme : (34,255,67) ou #90FF56.</p>
<p>(34,255,67) indique les composantes Rouge=34, Vert=255, Bleu=67 avec des nombres en base 10.</p>
<p>Tandis que #90FF56 indique Rouge=90, Vert=FF, Bleu=56 en base 16.</p>
<p>Le préfixe # indique seulement qu'il s'agit d'une écriture hexadécimale.</p>
<h3 class='fa fa-graduation-cap' style="color: MediumSeaGreen"> A faire vous même n°3 :</h3><ul>
<li>Les deux codes proposés ci-dessus, (34,255,67) et #90FF56, représentent-ils la même couleur ?</li>
</ul>
<p style="color:blue"><strong>Non, (34,255,67) = #22FF43 alors que #90FF56 = (144,255,76)</strong></p><p>Vérifiez votre réponse avec le module <code>ipythonblocks</code> et son sélectionneur de couleur intégré :</p>
<blockquote><p>Sur iPad, vérifier si le module <code>ipythonblocks</code> est déjà installé :</p>
<div class="highlight"><pre><span></span><span class="o">%</span><span class="n">pip</span> <span class="nb">list</span>
</pre></div>
<p>Sinon il faut l'installer en faisant :</p>
<div class="highlight"><pre><span></span><span class="o">%</span><span class="n">pip</span> <span class="n">install</span> <span class="n">ipythonblocks</span>
</pre></div>
</blockquote>

</div>
</div>
</div>
<div class="cell border-box-sizing code_cell rendered">
<div class="input">
<div class="prompt input_prompt">In&nbsp;[1]:</div>
<div class="inner_cell">
    <div class="input_area">
<div class=" highlight hl-ipython3"><pre><span></span><span class="kn">from</span> <span class="nn">ipythonblocks</span> <span class="kn">import</span> <span class="n">show_color</span><span class="p">,</span> <span class="n">embed_colorpicker</span>
</pre></div>

    </div>
</div>
</div>

</div>
<div class="cell border-box-sizing code_cell rendered">
<div class="input">
<div class="prompt input_prompt">In&nbsp;[3]:</div>
<div class="inner_cell">
    <div class="input_area">
<div class=" highlight hl-ipython3"><pre><span></span><span class="n">show_color</span><span class="p">(</span><span class="mi">34</span><span class="p">,</span><span class="mi">255</span><span class="p">,</span><span class="mi">67</span><span class="p">)</span><span class="c1"># #22FF43</span>
</pre></div>

    </div>
</div>
</div>

<div class="output_wrapper">
<div class="output">


<div class="output_area">

    <div class="prompt"></div>



<div class="output_html rendered_html output_subarea ">
<div style="height: 60px; min-width: 200px; background-color: rgb(34, 255, 67)"></div>
</div>

</div>

</div>
</div>

</div>
<div class="cell border-box-sizing code_cell rendered">
<div class="input">
<div class="prompt input_prompt">In&nbsp;[4]:</div>
<div class="inner_cell">
    <div class="input_area">
<div class=" highlight hl-ipython3"><pre><span></span><span class="n">show_color</span><span class="p">(</span><span class="mi">144</span><span class="p">,</span><span class="mi">255</span><span class="p">,</span><span class="mi">86</span><span class="p">)</span><span class="c1"># #90FF56</span>
</pre></div>

    </div>
</div>
</div>

<div class="output_wrapper">
<div class="output">


<div class="output_area">

    <div class="prompt"></div>



<div class="output_html rendered_html output_subarea ">
<div style="height: 60px; min-width: 200px; background-color: rgb(144, 255, 76)"></div>
</div>

</div>

</div>
</div>

</div>
<div class="cell border-box-sizing code_cell rendered">
<div class="input">
<div class="prompt input_prompt">In&nbsp;[6]:</div>
<div class="inner_cell">
    <div class="input_area">
<div class=" highlight hl-ipython3"><pre><span></span><span class="n">embed_colorpicker</span><span class="p">()</span>
</pre></div>

    </div>
</div>
</div>

<div class="output_wrapper">
<div class="output">


<div class="output_area">

    <div class="prompt"></div>



<div class="output_html rendered_html output_subarea ">

        <iframe width="100%" height="550px" src="https://www.colorpicker.com/" frameborder="0" allowfullscreen></iframe>
        
</div>

</div>

</div>
</div>

</div>
<div class="cell border-box-sizing text_cell rendered"><div class="prompt input_prompt">
</div><div class="inner_cell">
<div class="text_cell_render border-box-sizing rendered_html">
<blockquote><p>Pour plus d'information sur les couleurs utilisées en HTML :</p>
<ul>
<li><a href="https://htmlcolorcodes.com/fr/selecteur-de-couleur/">https://htmlcolorcodes.com/fr/selecteur-de-couleur/</a></li>
</ul>
</blockquote>

</div>
</div>
</div>
<div class="cell border-box-sizing text_cell rendered"><div class="prompt input_prompt">
</div><div class="inner_cell">
<div class="text_cell_render border-box-sizing rendered_html">
<h3 class='fa fa-code' style="color: tomato"> A faire vous même n°4 :</h3><p>On observe que le module <code>ipythonbloks</code> ne prend pas les codes couleurs au format hexadécimal.
Nous aurions donc besoin d'une fonction python qui prenne en entrée une chaine de caractères correspondante au code hexadécimal d'une couleur et qui renvoie son code convertit au format décimal dans une chaine de caractères en sortie...</p>

</div>
</div>
</div>
<div class="cell border-box-sizing text_cell rendered"><div class="prompt input_prompt">
</div><div class="inner_cell">
<div class="text_cell_render border-box-sizing rendered_html">
<hr>
<h2 id="R&#233;f&#233;rences-aux-programmes-:">R&#233;f&#233;rences aux programmes :<a class="anchor-link" href="#R&#233;f&#233;rences-aux-programmes-:">&#182;</a></h2><p><style type="text/css">
.tg  {border-collapse:collapse;border-spacing:0;}
.tg td{font-family:Arial, sans-serif;font-size:14px;padding:10px 5px;border-style:solid;border-width:1px;overflow:hidden;word-break:normal;border-color:black;}
.tg th{font-family:Arial, sans-serif;font-size:14px;font-weight:normal;padding:10px 5px;border-style:solid;border-width:1px;overflow:hidden;word-break:normal;border-color:black;}
.tg .tg-cv16{font-weight:bold;background-color:#dae8fc;border-color:inherit;text-align:center}
.tg .tg-xldj{border-color:inherit;text-align:left}
</style></p>
<table class="tg">
  <tr>
    <th class="tg-cv16">Compétences développées</th>
    <th class="tg-cv16">Capacités attendues</th>
    <th class="tg-cv16">Commentaires</th>
  </tr>
  <tr>
    <td class="tg-xldj">Écriture d’un entier positif dans une base b ⩾ 2</td>
    <td class="tg-xldj">Passer de la représentation d’une base dans une autre.</td>
    <td class="tg-xldj">Les bases 2, 10 et 16 sont privilégiées.</td>
  </tr>
</table>
</div>
</div>
</div>
<div class="cell border-box-sizing text_cell rendered"><div class="prompt input_prompt">
</div><div class="inner_cell">
<div class="text_cell_render border-box-sizing rendered_html">
<p><a rel="license" href="https://creativecommons.org/licenses/by-sa/4.0/"><img alt="Licence Creative Commons" style="border-width:0" src="https://i.creativecommons.org/l/by-sa/4.0/88x31.png" /></a><br />Ce document est mis à disposition selon les termes de la <a rel="license" href="https://creativecommons.org/licenses/by-sa/4.0/">Licence Creative Commons Attribution -  Partage dans les Mêmes Conditions 4.0 International</a>.</p>
<p>Pour toute question, suggestion ou commentaire : <a href="/cdn-cgi/l/email-protection#1f7a6d767c31727e7b7a7c5f7a7c72706d737e766731796d"><span class="__cf_email__" data-cfemail="0366716a602d6e626766604366606e6c716f626a7b2d6571">[email&#160;protected]</span></a></p>

</div>
</div>
</div>
 


    </div>
  </div>

  </div>


  
    <footer class="footer hidden-print">
      <div class="container">
        <div class="col-md-4">
          <p>
            This website does not host notebooks, it only renders notebooks
            available on other websites.
          </p>
        </div>

        <div class="col-md-4">
          <p>
            Delivered by <a href="https://www.fastly.com/">Fastly</a>,
            Rendered by <a href="https://ovhcloud.com">OVHCloud</a>
          </p>
          <p>
            nbviewer GitHub <a href="https://github.com/jupyter/nbviewer">repository</a>.
          </p>
        </div>

        <div class="col-md-4">
          
  
            
              <p>
                nbviewer version:
                <a href="https://github.com/jupyter/nbviewer/commit/e83752b49e1663d3feb1c157d31fb51451f11c0a">
                  e83752b
                </a>
              </p>
            
          
  
  <p>
    nbconvert version: <a href="https://github.com/jupyter/nbconvert/releases/tag/5.6.1">
      5.6.1
    </a>
  </p>
  

          
  
  
  <p>
    Rendered
    <span class='date' data-date='Thu, 08 Oct 2020 12:55:13 UTC' title='Thu, 08 Oct 2020 12:55:13 UTC'>(Thu, 08 Oct 2020 12:55:13 UTC)</span>
  </p>
  

        </div>
      </div>
    </footer>
  

  <script data-cfasync="false" src="/cdn-cgi/scripts/5c5dd728/cloudflare-static/email-decode.min.js"></script><script src="/static/components/bootstrap/js/bootstrap.min.js"></script>
  <script src="/static/components/headroom.js/dist/headroom.min.js"></script>
  <script src="/static/components/headroom.js/dist/jQuery.headroom.min.js"></script>

  
  
  <script>
    $(function(){ $("#menubar").headroom({
      tolerance: 5,
      offset: 205,
      classes: {
        initial: "animated",
        pinned: "slideInDown",
        unpinned: "slideOutUp"
      }
    })});
  </script>


  
  <script>
    (function(i,s,o,g,r,a,m){i['GoogleAnalyticsObject']=r;i[r]=i[r]||function(){
      (i[r].q=i[r].q||[]).push(arguments)},i[r].l=1*new Date();a=s.createElement(o),
      m=s.getElementsByTagName(o)[0];a.async=1;a.src=g;m.parentNode.insertBefore(a,m)
    })(window,document,'script','https://www.google-analytics.com/analytics.js','ga');
    ga('create', 'UA-52617120-5', 'auto',
       {'storage': 'none'});
    ga('set', 'anonymizeIp', true);
    ga('send', 'pageview');
  </script>
  
  <script>
    require({
        paths: {
          moment: "/static/components/moment/min/moment.min.js"
        }
      }, ["moment"], function(moment){
      var date = $("footer .date"),
        m = moment(new Date(date.data('date'))),
        update = function(){ date.text(m.fromNow()); };
      setInterval(update, 61*1000);
      update();
      var w = $(window).scroll(function(event){
        $("body").toggleClass("scrolled", w.scrollTop() > 0);
      });
    });
  </script>

  <!--NEW RELIC Stop Perf Measurement-->
  
  <!--NEW RELIC End-->
</body>
</html>