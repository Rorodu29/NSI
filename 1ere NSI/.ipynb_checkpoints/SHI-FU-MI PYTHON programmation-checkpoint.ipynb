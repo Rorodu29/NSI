{
 "cells": [
  {
   "cell_type": "code",
   "execution_count": 3,
   "metadata": {},
   "outputs": [
    {
     "name": "stdout",
     "output_type": "stream",
     "text": [
      "1 : pierre, 2 : papier, 3 : ciseaux ? 3\n",
      "Egalité\n",
      "1 : pierre, 2 : papier, 3 : ciseaux ? 2\n",
      "Egalité\n",
      "1 : pierre, 2 : papier, 3 : ciseaux ? 1\n",
      "Egalité\n",
      "1 : pierre, 2 : papier, 3 : ciseaux ? 2\n",
      "L'ordi a gagné\n",
      "1 : pierre, 2 : papier, 3 : ciseaux ? E\n",
      "Sorry you lose, try again\n",
      "L'ordi as 1 points, et vous avez 0 points !\n"
     ]
    }
   ],
   "source": [
    "\n",
    "from random import *\n",
    "\n",
    "P_Joueur = 0\n",
    "C_Joueur = 0\n",
    "\n",
    "P_Ordi = 0\n",
    "C_Ordi = 0\n",
    "\n",
    "for i in range (1, 6):\n",
    "    \n",
    "    C_Ordi = randint(1, 3)              \n",
    "    C_Joueur = input(\"1 : pierre, 2 : papier, 3 : ciseaux ? \") \n",
    "    while C_Joueur == \"1\" :\n",
    "        if C_Ordi == 1:\n",
    "            print(\"Egalité\")\n",
    "        elif C_Ordi == 2 :\n",
    "            print(\"L'ordi a gagné\")\n",
    "            P_Ordi = P_Ordi + 1\n",
    "        elif C_Ordi == 3 :\n",
    "            print(\"Vous avez gagné !\")\n",
    "            print(\"Bravo !\")\n",
    "            P_Joueur = P_Joueur + 1\n",
    "        break\n",
    "        \n",
    "            \n",
    "    while C_Joueur == \"2\" :\n",
    "        if C_Ordi == 1 :\n",
    "            print(\"Vous avez gagné !\")\n",
    "            print(\"Bravo !\")\n",
    "            P_Joueur = P_Joueur + 1\n",
    "            \n",
    "        elif C_Ordi == 2 :\n",
    "               print(\"Egalité\")\n",
    "                \n",
    "        elif C_Ordi == 3 :\n",
    "            print(\"L'ordi a gagné\")\n",
    "            P_Ordi = P_Ordi + 1\n",
    "        break\n",
    "        \n",
    "            \n",
    "    while C_Joueur == \"3\" :\n",
    "        if C_Ordi == 1 :\n",
    "            print(\"L'ordi a gagné\")\n",
    "            P_Ordi = P_Ordi + 1\n",
    "            \n",
    "        elif P_Ordi == 2 :\n",
    "            print(\"Vous avez gagné !\")\n",
    "            print(\"Bravo !\")\n",
    "            P_Joueur = P_Joueur + 1\n",
    "            \n",
    "        elif C_Ordi == 3 :\n",
    "             print(\"Egalité\")\n",
    "        break \n",
    "\n",
    "if P_Joueur > P_Ordi :\n",
    "    print(\"You win GG !\")\n",
    "    print(\"Vous avez\", P_Joueur, \"points, et l'ordi as\", P_Ordi, \"points !\")\n",
    "    \n",
    "if P_Joueur < P_Ordi :\n",
    "    print(\"Sorry you lose, try again\")\n",
    "    print(\"L'ordi as\", P_Ordi, \"points, et vous avez\", P_Joueur, \"points !\")\n",
    "elif P_Joueur == P_Ordi :\n",
    "    print (\"draw\")"
   ]
  },
  {
   "cell_type": "code",
   "execution_count": null,
   "metadata": {},
   "outputs": [],
   "source": []
  },
  {
   "cell_type": "code",
   "execution_count": null,
   "metadata": {},
   "outputs": [],
   "source": []
  },
  {
   "cell_type": "code",
   "execution_count": null,
   "metadata": {},
   "outputs": [],
   "source": []
  }
 ],
 "metadata": {
  "kernelspec": {
   "display_name": "Python 3",
   "language": "python",
   "name": "python3"
  },
  "language_info": {
   "codemirror_mode": {
    "name": "ipython",
    "version": 3
   },
   "file_extension": ".py",
   "mimetype": "text/x-python",
   "name": "python",
   "nbconvert_exporter": "python",
   "pygments_lexer": "ipython3",
   "version": "3.7.8"
  }
 },
 "nbformat": 4,
 "nbformat_minor": 4
}
