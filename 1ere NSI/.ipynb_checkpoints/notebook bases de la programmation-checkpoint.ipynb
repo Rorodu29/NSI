{
 "cells": [
  {
   "cell_type": "code",
   "execution_count": 50,
   "metadata": {},
   "outputs": [
    {
     "name": "stdout",
     "output_type": "stream",
     "text": [
      "Hello world!\n"
     ]
    }
   ],
   "source": [
    "#Écrivez un programme permettant au robot d'afficher précisément le texte Hello world!.\n",
    "print(\"Hello world!\")"
   ]
  },
  {
   "cell_type": "code",
   "execution_count": null,
   "metadata": {},
   "outputs": [],
   "source": [
    "CHAPITRE AFFICHAGE DE TEXTE, SUITE D.INSTRUCTION "
   ]
  },
  {
   "cell_type": "code",
   "execution_count": 3,
   "metadata": {},
   "outputs": [
    {
     "name": "stdout",
     "output_type": "stream",
     "text": [
      "Je dois respecter le Grand Sorcier.\n",
      "Je dois respecter le Grand Sorcier.\n",
      "Je dois respecter le Grand Sorcier.\n",
      "Je dois respecter le Grand Sorcier.\n",
      "Je dois respecter le Grand Sorcier.\n",
      "Je dois respecter le Grand Sorcier.\n",
      "Je dois respecter le Grand Sorcier.\n",
      "Je dois respecter le Grand Sorcier.\n",
      "Je dois respecter le Grand Sorcier.\n",
      "Je dois respecter le Grand Sorcier.\n",
      "Je dois respecter le Grand Sorcier.\n",
      "Je dois respecter le Grand Sorcier.\n",
      "Je dois respecter le Grand Sorcier.\n",
      "Je dois respecter le Grand Sorcier.\n",
      "Je dois respecter le Grand Sorcier.\n",
      "Je dois respecter le Grand Sorcier.\n",
      "Je dois respecter le Grand Sorcier.\n",
      "Je dois respecter le Grand Sorcier.\n",
      "Je dois respecter le Grand Sorcier.\n",
      "Je dois respecter le Grand Sorcier.\n",
      "Je dois respecter le Grand Sorcier.\n",
      "Je dois respecter le Grand Sorcier.\n",
      "Je dois respecter le Grand Sorcier.\n",
      "Je dois respecter le Grand Sorcier.\n",
      "Je dois respecter le Grand Sorcier.\n",
      "Je dois respecter le Grand Sorcier.\n",
      "Je dois respecter le Grand Sorcier.\n",
      "Je dois respecter le Grand Sorcier.\n",
      "Je dois respecter le Grand Sorcier.\n",
      "Je dois respecter le Grand Sorcier.\n",
      "Je dois respecter le Grand Sorcier.\n",
      "Je dois respecter le Grand Sorcier.\n",
      "Je dois respecter le Grand Sorcier.\n",
      "Je dois respecter le Grand Sorcier.\n",
      "Je dois respecter le Grand Sorcier.\n",
      "Je dois respecter le Grand Sorcier.\n",
      "Je dois respecter le Grand Sorcier.\n",
      "Je dois respecter le Grand Sorcier.\n",
      "Je dois respecter le Grand Sorcier.\n",
      "Je dois respecter le Grand Sorcier.\n",
      "Je dois respecter le Grand Sorcier.\n",
      "Je dois respecter le Grand Sorcier.\n",
      "Je dois respecter le Grand Sorcier.\n",
      "Je dois respecter le Grand Sorcier.\n",
      "Je dois respecter le Grand Sorcier.\n",
      "Je dois respecter le Grand Sorcier.\n",
      "Je dois respecter le Grand Sorcier.\n",
      "Je dois respecter le Grand Sorcier.\n",
      "Je dois respecter le Grand Sorcier.\n",
      "Je dois respecter le Grand Sorcier.\n",
      "Je dois respecter le Grand Sorcier.\n",
      "Je dois respecter le Grand Sorcier.\n",
      "Je dois respecter le Grand Sorcier.\n",
      "Je dois respecter le Grand Sorcier.\n",
      "Je dois respecter le Grand Sorcier.\n",
      "Je dois respecter le Grand Sorcier.\n",
      "Je dois respecter le Grand Sorcier.\n",
      "Je dois respecter le Grand Sorcier.\n",
      "Je dois respecter le Grand Sorcier.\n",
      "Je dois respecter le Grand Sorcier.\n",
      "Je dois respecter le Grand Sorcier.\n",
      "Je dois respecter le Grand Sorcier.\n",
      "Je dois respecter le Grand Sorcier.\n",
      "Je dois respecter le Grand Sorcier.\n",
      "Je dois respecter le Grand Sorcier.\n",
      "Je dois respecter le Grand Sorcier.\n",
      "Je dois respecter le Grand Sorcier.\n",
      "Je dois respecter le Grand Sorcier.\n",
      "Je dois respecter le Grand Sorcier.\n",
      "Je dois respecter le Grand Sorcier.\n",
      "Je dois respecter le Grand Sorcier.\n",
      "Je dois respecter le Grand Sorcier.\n",
      "Je dois respecter le Grand Sorcier.\n",
      "Je dois respecter le Grand Sorcier.\n",
      "Je dois respecter le Grand Sorcier.\n",
      "Je dois respecter le Grand Sorcier.\n",
      "Je dois respecter le Grand Sorcier.\n",
      "Je dois respecter le Grand Sorcier.\n",
      "Je dois respecter le Grand Sorcier.\n",
      "Je dois respecter le Grand Sorcier.\n",
      "Je dois respecter le Grand Sorcier.\n",
      "Je dois respecter le Grand Sorcier.\n",
      "Je dois respecter le Grand Sorcier.\n",
      "Je dois respecter le Grand Sorcier.\n",
      "Je dois respecter le Grand Sorcier.\n",
      "Je dois respecter le Grand Sorcier.\n",
      "Je dois respecter le Grand Sorcier.\n",
      "Je dois respecter le Grand Sorcier.\n",
      "Je dois respecter le Grand Sorcier.\n",
      "Je dois respecter le Grand Sorcier.\n",
      "Je dois respecter le Grand Sorcier.\n",
      "Je dois respecter le Grand Sorcier.\n",
      "Je dois respecter le Grand Sorcier.\n",
      "Je dois respecter le Grand Sorcier.\n",
      "Je dois respecter le Grand Sorcier.\n",
      "Je dois respecter le Grand Sorcier.\n",
      "Je dois respecter le Grand Sorcier.\n",
      "Je dois respecter le Grand Sorcier.\n",
      "Je dois respecter le Grand Sorcier.\n",
      "Je dois respecter le Grand Sorcier.\n",
      "Je dois respecter le Grand Sorcier.\n",
      "Je dois respecter le Grand Sorcier.\n",
      "Je dois respecter le Grand Sorcier.\n",
      "Je dois respecter le Grand Sorcier.\n",
      "Je dois respecter le Grand Sorcier.\n",
      "Je dois respecter le Grand Sorcier.\n",
      "Je dois respecter le Grand Sorcier.\n",
      "Je dois respecter le Grand Sorcier.\n",
      "Je dois respecter le Grand Sorcier.\n",
      "Je dois respecter le Grand Sorcier.\n",
      "Je dois respecter le Grand Sorcier.\n",
      "Je dois respecter le Grand Sorcier.\n",
      "Je dois respecter le Grand Sorcier.\n",
      "Je dois respecter le Grand Sorcier.\n",
      "Je dois respecter le Grand Sorcier.\n",
      "Je dois respecter le Grand Sorcier.\n",
      "Je dois respecter le Grand Sorcier.\n",
      "Je dois respecter le Grand Sorcier.\n",
      "Je dois respecter le Grand Sorcier.\n",
      "Je dois respecter le Grand Sorcier.\n",
      "Je dois respecter le Grand Sorcier.\n",
      "Je dois respecter le Grand Sorcier.\n",
      "Je dois respecter le Grand Sorcier.\n",
      "Je dois respecter le Grand Sorcier.\n",
      "Je dois respecter le Grand Sorcier.\n",
      "Je dois respecter le Grand Sorcier.\n",
      "Je dois respecter le Grand Sorcier.\n",
      "Je dois respecter le Grand Sorcier.\n",
      "Je dois respecter le Grand Sorcier.\n",
      "Je dois respecter le Grand Sorcier.\n",
      "Je dois respecter le Grand Sorcier.\n",
      "Je dois respecter le Grand Sorcier.\n",
      "Je dois respecter le Grand Sorcier.\n",
      "Je dois respecter le Grand Sorcier.\n",
      "Je dois respecter le Grand Sorcier.\n"
     ]
    }
   ],
   "source": [
    "#Votre programme doit écrire 135 fois la phrase : \"Je dois respecter le Grand Sorcier.\", en plaçant cette phrase exactement une fois sur chaque ligne.\n",
    "for loop in range(135):\n",
    "   print(\"Je dois respecter le Grand Sorcier.\")"
   ]
  },
  {
   "cell_type": "code",
   "execution_count": null,
   "metadata": {},
   "outputs": [],
   "source": [
    "REPETION D.INSTRUCTION"
   ]
  },
  {
   "cell_type": "code",
   "execution_count": 4,
   "metadata": {},
   "outputs": [
    {
     "name": "stdout",
     "output_type": "stream",
     "text": [
      "9 * 8 = 72\n",
      "9 * 8 = 72\n",
      "9 * 8 = 72\n",
      "9 * 8 = 72\n",
      "9 * 8 = 72\n",
      "9 * 8 = 72\n",
      "9 * 8 = 72\n",
      "9 * 8 = 72\n",
      "9 * 8 = 72\n",
      "9 * 8 = 72\n",
      "9 * 8 = 72\n",
      "9 * 8 = 72\n",
      "9 * 8 = 72\n"
     ]
    }
   ],
   "source": [
    "#Corrigez les erreurs contenues dans le programme ci-dessous afin qu'il affiche 13 fois de suite le texte 9 * 8 = 72.\n",
    "#for loop in range(13)\n",
    "#print(\"9 * 8 = 72)\n",
    "for loop in range(13):\n",
    "    print(\"9 * 8 = 72\")\n"
   ]
  },
  {
   "cell_type": "code",
   "execution_count": 5,
   "metadata": {},
   "outputs": [
    {
     "name": "stdout",
     "output_type": "stream",
     "text": [
      "a_a_a_a_a_a_a_a_a_a_a_a_a_a_a_a_a_a_a_a_a_a_a_a_a_a_a_a_a_a_\n",
      "b_b_b_b_b_b_b_b_b_b_b_b_b_b_b_b_b_b_b_b_b_b_b_b_b_b_b_b_b_b_\n",
      "c_c_c_c_c_c_c_c_c_c_c_c_c_c_c_c_c_c_c_c_c_c_c_c_c_c_c_c_c_c_"
     ]
    }
   ],
   "source": [
    "#Votre programme doit écrire 3 lignes, chacune contenant plusieurs fois de suite une lettre suivie du caractère « _ » \n",
    "#(underscore en anglais) : la lettre « a » sur la première ligne, la lettre « b » sur la deuxième et la lettre « c » sur \n",
    "    #la troisième.\n",
    "for loop in range(30):\n",
    "   print(\"a_\",end =\"\")\n",
    "print(\"\")\n",
    "for loop in range (30):\n",
    "    print(\"b_\",end=\"\")\n",
    "print(\"\")\n",
    "for loop in range (30):\n",
    "    print(\"c_\",end=\"\")"
   ]
  },
  {
   "cell_type": "code",
   "execution_count": 6,
   "metadata": {},
   "outputs": [
    {
     "name": "stdout",
     "output_type": "stream",
     "text": [
      "OXOXOXOXOXOXOXOXOXOXOXOXOXOXOXOXOXOXOXOX\n",
      "XOXOXOXOXOXOXOXOXOXOXOXOXOXOXOXOXOXOXOXO\n",
      "OXOXOXOXOXOXOXOXOXOXOXOXOXOXOXOXOXOXOXOX\n",
      "XOXOXOXOXOXOXOXOXOXOXOXOXOXOXOXOXOXOXOXO\n",
      "OXOXOXOXOXOXOXOXOXOXOXOXOXOXOXOXOXOXOXOX\n",
      "XOXOXOXOXOXOXOXOXOXOXOXOXOXOXOXOXOXOXOXO\n",
      "OXOXOXOXOXOXOXOXOXOXOXOXOXOXOXOXOXOXOXOX\n",
      "XOXOXOXOXOXOXOXOXOXOXOXOXOXOXOXOXOXOXOXO\n",
      "OXOXOXOXOXOXOXOXOXOXOXOXOXOXOXOXOXOXOXOX\n",
      "XOXOXOXOXOXOXOXOXOXOXOXOXOXOXOXOXOXOXOXO\n",
      "OXOXOXOXOXOXOXOXOXOXOXOXOXOXOXOXOXOXOXOX\n",
      "XOXOXOXOXOXOXOXOXOXOXOXOXOXOXOXOXOXOXOXO\n",
      "OXOXOXOXOXOXOXOXOXOXOXOXOXOXOXOXOXOXOXOX\n",
      "XOXOXOXOXOXOXOXOXOXOXOXOXOXOXOXOXOXOXOXO\n",
      "OXOXOXOXOXOXOXOXOXOXOXOXOXOXOXOXOXOXOXOX\n",
      "XOXOXOXOXOXOXOXOXOXOXOXOXOXOXOXOXOXOXOXO\n",
      "OXOXOXOXOXOXOXOXOXOXOXOXOXOXOXOXOXOXOXOX\n",
      "XOXOXOXOXOXOXOXOXOXOXOXOXOXOXOXOXOXOXOXO\n",
      "OXOXOXOXOXOXOXOXOXOXOXOXOXOXOXOXOXOXOXOX\n",
      "XOXOXOXOXOXOXOXOXOXOXOXOXOXOXOXOXOXOXOXO\n",
      "OXOXOXOXOXOXOXOXOXOXOXOXOXOXOXOXOXOXOXOX\n",
      "XOXOXOXOXOXOXOXOXOXOXOXOXOXOXOXOXOXOXOXO\n",
      "OXOXOXOXOXOXOXOXOXOXOXOXOXOXOXOXOXOXOXOX\n",
      "XOXOXOXOXOXOXOXOXOXOXOXOXOXOXOXOXOXOXOXO\n",
      "OXOXOXOXOXOXOXOXOXOXOXOXOXOXOXOXOXOXOXOX\n",
      "XOXOXOXOXOXOXOXOXOXOXOXOXOXOXOXOXOXOXOXO\n",
      "OXOXOXOXOXOXOXOXOXOXOXOXOXOXOXOXOXOXOXOX\n",
      "XOXOXOXOXOXOXOXOXOXOXOXOXOXOXOXOXOXOXOXO\n",
      "OXOXOXOXOXOXOXOXOXOXOXOXOXOXOXOXOXOXOXOX\n",
      "XOXOXOXOXOXOXOXOXOXOXOXOXOXOXOXOXOXOXOXO\n",
      "OXOXOXOXOXOXOXOXOXOXOXOXOXOXOXOXOXOXOXOX\n",
      "XOXOXOXOXOXOXOXOXOXOXOXOXOXOXOXOXOXOXOXO\n",
      "OXOXOXOXOXOXOXOXOXOXOXOXOXOXOXOXOXOXOXOX\n",
      "XOXOXOXOXOXOXOXOXOXOXOXOXOXOXOXOXOXOXOXO\n",
      "OXOXOXOXOXOXOXOXOXOXOXOXOXOXOXOXOXOXOXOX\n",
      "XOXOXOXOXOXOXOXOXOXOXOXOXOXOXOXOXOXOXOXO\n",
      "OXOXOXOXOXOXOXOXOXOXOXOXOXOXOXOXOXOXOXOX\n",
      "XOXOXOXOXOXOXOXOXOXOXOXOXOXOXOXOXOXOXOXO\n",
      "OXOXOXOXOXOXOXOXOXOXOXOXOXOXOXOXOXOXOXOX\n",
      "XOXOXOXOXOXOXOXOXOXOXOXOXOXOXOXOXOXOXOXO\n"
     ]
    }
   ],
   "source": [
    "#Votre programme doit afficher un damier de taille 40×40. Assurez-vous bien que la case tout en haut à gauche contienne \n",
    "#un « O », comme c'est le cas dans le damier ci-dessus.\n",
    "for loop in range(20):\n",
    "   for loop in range(20):\n",
    "      print(\"OX\", end = \"\")\n",
    "   print()\n",
    "   for loop in range(20):\n",
    "      print(\"XO\", end = \"\")\n",
    "   print()"
   ]
  },
  {
   "cell_type": "code",
   "execution_count": null,
   "metadata": {},
   "outputs": [],
   "source": [
    "VARIABLES"
   ]
  },
  {
   "cell_type": "code",
   "execution_count": 7,
   "metadata": {},
   "outputs": [
    {
     "name": "stdout",
     "output_type": "stream",
     "text": [
      "42\n"
     ]
    }
   ],
   "source": [
    "#Votre programme doit afficher le nombre 42.\n",
    "print(\"42\")\n"
   ]
  },
  {
   "cell_type": "code",
   "execution_count": 8,
   "metadata": {},
   "outputs": [
    {
     "name": "stdout",
     "output_type": "stream",
     "text": [
      "644\n"
     ]
    }
   ],
   "source": [
    "#Vous savez que l'éclipse aura lieu le 12581e jour et que la date actuelle est le 11937e jour. Votre programme doit calculer et afficher le nombre de jours \n",
    "#qu'il faudra patienter avant de pouvoir admirer l'éclipse.\n",
    "print(12581-11937)"
   ]
  },
  {
   "cell_type": "code",
   "execution_count": 9,
   "metadata": {},
   "outputs": [
    {
     "name": "stdout",
     "output_type": "stream",
     "text": [
      "288\n"
     ]
    }
   ],
   "source": [
    "#L'école est formée de 4 classes, constituées respectivement de 25, 30, 27 et 22 élèves. Cependant, 8 élèves sont \n",
    "#absents aujourd'hui. Sachant que chaque élève présent doit recevoir 3 bonbons, \n",
    "#écrivez un programme qui calcule puis affiche le nombre total de bonbons nécessaires.\n",
    "print(25*3+22*3+22*3+27*3)"
   ]
  },
  {
   "cell_type": "code",
   "execution_count": 10,
   "metadata": {},
   "outputs": [
    {
     "name": "stdout",
     "output_type": "stream",
     "text": [
      "42 84 126\n"
     ]
    }
   ],
   "source": [
    "#L'algoréathlon se constitue de trois étapes à effectuer chaque jour : 2 km de natation, 34 km de cyclisme et 6 km de course à pied.\n",
    "#Sachant qu'un sportif répète ces trois étapes pendant 3 jours de suite, vous devez afficher la distance totale qu'il a parcourue à la fin du 1er jour, à la fin du 2e jour, puis à la fin de l'algoréathlon complet.\n",
    "#Afin de rendre l'affichage convivial sur l'écran du robot, vous souhaitez mettre les trois valeurs sur une même ligne, avec une espace entre chaque valeur et la suivante.\n",
    "distJour = 2 + 34 + 6\n",
    "print(distJour, end = \" \")\n",
    "print(distJour * 2, end = \" \")\n",
    "print(distJour * 3)"
   ]
  },
  {
   "cell_type": "code",
   "execution_count": 11,
   "metadata": {},
   "outputs": [
    {
     "name": "stdout",
     "output_type": "stream",
     "text": [
      "11664\n",
      "432\n"
     ]
    }
   ],
   "source": [
    "#La cour carrée a été mesurée avec quatre bâtons de longueurs respectives 17 m, 7 m, 5 m et 2 m. La longueur du côté de la cour est égale à 5 fois le premier bâton plus 2 fois le second plus 1 fois le troisième plus 2 fois le quatrième.\n",
    "#Votre programme doit afficher deux lignes : la première doit contenir la surface de la cour, et la seconde ligne doit contenir son périmètre. Les résultats doivent être exprimés en mètres carrés et en mètres, respectivement, mais vous ne devez pas afficher l'unité après la valeur numérique.\n",
    "longueur = 17 * 5 + 7 * 2 + 5 * 1 + 2 * 2\n",
    "print(longueur * longueur)\n",
    "print(longueur * 4)"
   ]
  },
  {
   "cell_type": "code",
   "execution_count": 12,
   "metadata": {},
   "outputs": [
    {
     "name": "stdout",
     "output_type": "stream",
     "text": [
      "1\n",
      "2\n",
      "3\n",
      "4\n",
      "5\n",
      "6\n",
      "7\n",
      "8\n",
      "9\n",
      "10\n",
      "11\n",
      "12\n",
      "13\n",
      "14\n",
      "15\n",
      "16\n",
      "17\n",
      "18\n",
      "19\n",
      "20\n",
      "21\n",
      "22\n",
      "23\n",
      "24\n",
      "25\n",
      "26\n",
      "27\n",
      "28\n",
      "29\n",
      "30\n",
      "31\n",
      "32\n",
      "33\n",
      "34\n",
      "35\n",
      "36\n",
      "37\n",
      "38\n",
      "39\n",
      "40\n",
      "41\n",
      "42\n",
      "43\n",
      "44\n",
      "45\n",
      "46\n",
      "47\n",
      "48\n",
      "49\n",
      "50\n",
      "51\n",
      "52\n",
      "53\n",
      "54\n",
      "55\n",
      "56\n",
      "57\n",
      "58\n",
      "59\n",
      "60\n",
      "61\n",
      "62\n",
      "63\n",
      "64\n",
      "65\n",
      "66\n",
      "67\n",
      "68\n",
      "69\n",
      "70\n",
      "71\n",
      "72\n",
      "73\n",
      "74\n",
      "75\n",
      "76\n",
      "77\n",
      "78\n",
      "79\n",
      "80\n",
      "81\n",
      "82\n",
      "83\n",
      "84\n",
      "85\n",
      "86\n",
      "87\n",
      "88\n",
      "89\n",
      "90\n",
      "91\n",
      "92\n",
      "93\n",
      "94\n",
      "95\n",
      "96\n",
      "97\n",
      "98\n",
      "99\n",
      "100\n",
      "J'arrive !\n"
     ]
    }
   ],
   "source": [
    "#Le robot devra compter jusqu'à 100, c'est à dire afficher les entiers de 1 à 100, un par ligne, et ensuite afficher « J'arrive ! ».\n",
    "compte = 1\n",
    "for loop in range(100):\n",
    "   print(compte)\n",
    "   compte = compte + 1\n",
    "print(\"J'arrive !\")"
   ]
  },
  {
   "cell_type": "code",
   "execution_count": 13,
   "metadata": {},
   "outputs": [
    {
     "name": "stdout",
     "output_type": "stream",
     "text": [
      "62370\n"
     ]
    }
   ],
   "source": [
    "largeur = 210\n",
    "longueur = 297\n",
    "surface = longueur * largeur\n",
    "print(surface)"
   ]
  },
  {
   "cell_type": "code",
   "execution_count": 14,
   "metadata": {},
   "outputs": [
    {
     "name": "stdout",
     "output_type": "stream",
     "text": [
      "V\n",
      "V\n",
      "I\n",
      "I\n",
      "V\n",
      "I\n",
      "I\n"
     ]
    }
   ],
   "source": [
    "# Pour chacun des 7 programmes, vous devez afficher sur une ligne soit la lettre « V » pour indiquer que le programme est valide, soit la lettre « I » pour indiquer qu'il est invalide.\n",
    "print(\"V\")\n",
    "print(\"V\")\n",
    "print(\"I\")\n",
    "print(\"I\")\n",
    "print(\"V\")\n",
    "print(\"I\")\n",
    "print(\"I\")"
   ]
  },
  {
   "cell_type": "code",
   "execution_count": 15,
   "metadata": {},
   "outputs": [
    {
     "name": "stdout",
     "output_type": "stream",
     "text": [
      "100\n",
      "99\n",
      "98\n",
      "97\n",
      "96\n",
      "95\n",
      "94\n",
      "93\n",
      "92\n",
      "91\n",
      "90\n",
      "89\n",
      "88\n",
      "87\n",
      "86\n",
      "85\n",
      "84\n",
      "83\n",
      "82\n",
      "81\n",
      "80\n",
      "79\n",
      "78\n",
      "77\n",
      "76\n",
      "75\n",
      "74\n",
      "73\n",
      "72\n",
      "71\n",
      "70\n",
      "69\n",
      "68\n",
      "67\n",
      "66\n",
      "65\n",
      "64\n",
      "63\n",
      "62\n",
      "61\n",
      "60\n",
      "59\n",
      "58\n",
      "57\n",
      "56\n",
      "55\n",
      "54\n",
      "53\n",
      "52\n",
      "51\n",
      "50\n",
      "49\n",
      "48\n",
      "47\n",
      "46\n",
      "45\n",
      "44\n",
      "43\n",
      "42\n",
      "41\n",
      "40\n",
      "39\n",
      "38\n",
      "37\n",
      "36\n",
      "35\n",
      "34\n",
      "33\n",
      "32\n",
      "31\n",
      "30\n",
      "29\n",
      "28\n",
      "27\n",
      "26\n",
      "25\n",
      "24\n",
      "23\n",
      "22\n",
      "21\n",
      "20\n",
      "19\n",
      "18\n",
      "17\n",
      "16\n",
      "15\n",
      "14\n",
      "13\n",
      "12\n",
      "11\n",
      "10\n",
      "9\n",
      "8\n",
      "7\n",
      "6\n",
      "5\n",
      "4\n",
      "3\n",
      "2\n",
      "1\n",
      "0\n",
      "Décollage !\n"
     ]
    }
   ],
   "source": [
    "#Votre programme devra lancer le décompte en partant de 100 puis annoncer le décollage, c'est-à-dire afficher une séquence d'annonces de la forme :\n",
    "compte = 100\n",
    "for loop in range(101):\n",
    "   print(compte)\n",
    "   compte = compte - 1\n",
    "print(\"Décollage !\")"
   ]
  },
  {
   "cell_type": "code",
   "execution_count": 16,
   "metadata": {},
   "outputs": [
    {
     "name": "stdout",
     "output_type": "stream",
     "text": [
      "5476352\n"
     ]
    }
   ],
   "source": [
    "#Sachant qu'il y a actuellement 1337 crapauds et que leur nombre double chaque semaine, votre programme devra afficher le nombre de crapauds qu'il y aura après la 12e semaine.\n",
    "nbCrapauds = 1337\n",
    "for loop in range(12):\n",
    "    nbCrapauds = nbCrapauds * 2\n",
    "print(nbCrapauds)"
   ]
  },
  {
   "cell_type": "code",
   "execution_count": 17,
   "metadata": {},
   "outputs": [
    {
     "name": "stdout",
     "output_type": "stream",
     "text": [
      "1\n",
      "3\n",
      "6\n",
      "10\n",
      "15\n",
      "21\n",
      "28\n",
      "36\n",
      "45\n",
      "55\n",
      "66\n",
      "78\n",
      "91\n",
      "105\n",
      "120\n",
      "136\n",
      "153\n",
      "171\n",
      "190\n",
      "210\n",
      "231\n",
      "253\n",
      "276\n",
      "300\n",
      "325\n",
      "351\n",
      "378\n",
      "406\n",
      "435\n",
      "465\n",
      "496\n",
      "528\n",
      "561\n",
      "595\n",
      "630\n",
      "666\n",
      "703\n",
      "741\n",
      "780\n",
      "820\n",
      "861\n",
      "903\n",
      "946\n",
      "990\n",
      "1035\n",
      "1081\n",
      "1128\n",
      "1176\n",
      "1225\n",
      "1275\n"
     ]
    }
   ],
   "source": [
    " #Écrivez un programme qui affiche sur la première ligne le nombre total de bonbons obtenus si l'on ne réussit qu'1 tir, puis qui affiche sur la deuxième ligne le nombre de bonbons récupérés\n",
    "#si l'on réussit 2 tirs de suite, puis sur la troisième ligne le nombre de bonbons récupérés si l'on réussit 3 tirs de suite, etc. jusqu'à la valeur que l'on peut récupérer si l'on réussit 50 tirs de suite.\n",
    "x=0\n",
    "for loop in range(1,51):\n",
    "    x=x+loop\n",
    "    print(x)"
   ]
  },
  {
   "cell_type": "code",
   "execution_count": 18,
   "metadata": {},
   "outputs": [
    {
     "name": "stdout",
     "output_type": "stream",
     "text": [
      "13041\n"
     ]
    }
   ],
   "source": [
    "#L'objectif est de construire une tour à l'aide de petits cubes en bois, sachant que la forme \n",
    "#de cette tour consiste en un ensemble de grands cubes placés les uns au-dessus des autres.\n",
    "Nbcubes=0\n",
    "largeurArete = 1\n",
    "for loop in range(9):\n",
    "    Nbcubes=Nbcubes + largeurArete**3\n",
    "    largeurArete = largeurArete + 2\n",
    "print(Nbcubes)"
   ]
  },
  {
   "cell_type": "code",
   "execution_count": 19,
   "metadata": {},
   "outputs": [
    {
     "name": "stdout",
     "output_type": "stream",
     "text": [
      "1 2 3 4 5 6 7 8 9 10 11 12 13 14 15 16 17 18 19 20 \n",
      "2 4 6 8 10 12 14 16 18 20 22 24 26 28 30 32 34 36 38 40 \n",
      "3 6 9 12 15 18 21 24 27 30 33 36 39 42 45 48 51 54 57 60 \n",
      "4 8 12 16 20 24 28 32 36 40 44 48 52 56 60 64 68 72 76 80 \n",
      "5 10 15 20 25 30 35 40 45 50 55 60 65 70 75 80 85 90 95 100 \n",
      "6 12 18 24 30 36 42 48 54 60 66 72 78 84 90 96 102 108 114 120 \n",
      "7 14 21 28 35 42 49 56 63 70 77 84 91 98 105 112 119 126 133 140 \n",
      "8 16 24 32 40 48 56 64 72 80 88 96 104 112 120 128 136 144 152 160 \n",
      "9 18 27 36 45 54 63 72 81 90 99 108 117 126 135 144 153 162 171 180 \n",
      "10 20 30 40 50 60 70 80 90 100 110 120 130 140 150 160 170 180 190 200 \n",
      "11 22 33 44 55 66 77 88 99 110 121 132 143 154 165 176 187 198 209 220 \n",
      "12 24 36 48 60 72 84 96 108 120 132 144 156 168 180 192 204 216 228 240 \n",
      "13 26 39 52 65 78 91 104 117 130 143 156 169 182 195 208 221 234 247 260 \n",
      "14 28 42 56 70 84 98 112 126 140 154 168 182 196 210 224 238 252 266 280 \n",
      "15 30 45 60 75 90 105 120 135 150 165 180 195 210 225 240 255 270 285 300 \n",
      "16 32 48 64 80 96 112 128 144 160 176 192 208 224 240 256 272 288 304 320 \n",
      "17 34 51 68 85 102 119 136 153 170 187 204 221 238 255 272 289 306 323 340 \n",
      "18 36 54 72 90 108 126 144 162 180 198 216 234 252 270 288 306 324 342 360 \n",
      "19 38 57 76 95 114 133 152 171 190 209 228 247 266 285 304 323 342 361 380 \n",
      "20 40 60 80 100 120 140 160 180 200 220 240 260 280 300 320 340 360 380 400 \n"
     ]
    }
   ],
   "source": [
    "#Écrivez un programme qui affiche une table de multiplication allant jusqu'à 20 fois 20.\n",
    "ligne=1\n",
    "for loop in range(20):\n",
    "    colonne=1\n",
    "    for loop in range(20):\n",
    "        print(colonne*ligne, end=\" \")\n",
    "        colonne = colonne+1\n",
    "    print()\n",
    "    ligne=ligne+1"
   ]
  },
  {
   "cell_type": "code",
   "execution_count": null,
   "metadata": {},
   "outputs": [],
   "source": [
    "LECTEUR D.ENTRÉE"
   ]
  },
  {
   "cell_type": "code",
   "execution_count": 20,
   "metadata": {},
   "outputs": [
    {
     "name": "stdout",
     "output_type": "stream",
     "text": [
      "3\n",
      "207\n"
     ]
    }
   ],
   "source": [
    "#Votre programme doit lire un entier, qui représente la longueur du côté d'un champ carré en mètres. Il doit ensuite\n",
    "#afficher la masse que l'on pourra récolter de ce champ si l'on suppose que la production sera de 23 kg par mètre carré.\n",
    "longueur=int(input())\n",
    "aire= longueur**2\n",
    "recolte=aire*23\n",
    "print(recolte)"
   ]
  },
  {
   "cell_type": "code",
   "execution_count": 21,
   "metadata": {},
   "outputs": [
    {
     "name": "stdout",
     "output_type": "stream",
     "text": [
      "3\n",
      "172800\n"
     ]
    }
   ],
   "source": [
    "#Votre programme devra lire un entier : le nombre de jours que dure la randonnée. Ensuite, il devra afficher le nombre de fois que l'incantation est répétée, \n",
    "#sachant qu'elle est prononcée une fois par seconde pendant 16 heures par jour (les 8 autres heures, on dort !).\n",
    "jours= int(input())\n",
    "n= jours * (16*3600)\n",
    "print(n)"
   ]
  },
  {
   "cell_type": "code",
   "execution_count": 22,
   "metadata": {},
   "outputs": [
    {
     "name": "stdout",
     "output_type": "stream",
     "text": [
      "3\n",
      "Je dois suivre en cours\n",
      "Je dois suivre en cours\n",
      "Je dois suivre en cours\n"
     ]
    }
   ],
   "source": [
    "#Votre programme doit lire un entier, le nombre de lignes souhaité, et écrira autant de fois que demandé la phrase « Je dois suivre en cours ».\n",
    "nbLignes = int(input())\n",
    "for iLigne in range(nbLignes):\n",
    "   print(\"Je dois suivre en cours\")\n"
   ]
  },
  {
   "cell_type": "code",
   "execution_count": 23,
   "metadata": {},
   "outputs": [
    {
     "name": "stdout",
     "output_type": "stream",
     "text": [
      "9\n",
      "14\n",
      "9\n",
      "10\n",
      "11\n",
      "12\n",
      "13\n",
      "14\n"
     ]
    }
   ],
   "source": [
    "#Étant données deux températures entières tempMin et tempMax, votre programme doit afficher toutes les températures comprises entre les deux, bornes incluses.\n",
    "TempsMin=int(input())\n",
    "TempsMax=int(input())\n",
    "for loop in range(TempsMin,TempsMax+1):\n",
    "    print(loop)"
   ]
  },
  {
   "cell_type": "code",
   "execution_count": 24,
   "metadata": {},
   "outputs": [
    {
     "name": "stdout",
     "output_type": "stream",
     "text": [
      "3\n",
      "66\n",
      "132\n",
      "396\n"
     ]
    }
   ],
   "source": [
    "#Le chef a choisi le nombre 66 pour démarrer le jeu. Votre programme lira l'entier nbNombres, la quantité de nombres attendue par le jeu (nombre de départ inclus). \n",
    "#Il devra ensuite afficher tous les nombres de la partie afin de vous rendre imbattable !\n",
    "nbNombres = int(input())\n",
    "étape = 0\n",
    "résultat = 66\n",
    "for loop in range(nbNombres):\n",
    "   étape = étape + 1\n",
    "   résultat = résultat * étape\n",
    "   print(résultat)"
   ]
  },
  {
   "cell_type": "code",
   "execution_count": 25,
   "metadata": {},
   "outputs": [
    {
     "name": "stdout",
     "output_type": "stream",
     "text": [
      "3\n",
      "4\n",
      "4\n",
      "3\n",
      "7\n",
      "11\n",
      "15\n",
      "19\n"
     ]
    }
   ],
   "source": [
    "#ous devez afficher une suite de nombres, partant de positionDepart et augmentant de largeurEmplacement à chaque fois. \n",
    "#Il y a au total nbVendeurs augmentations à faire. Vous devez afficher la valeur de chacun des nombres de la suite.\n",
    "positiondedepart=int(input())\n",
    "largeuremplacement=int(input())\n",
    "nbvendeurs=int(input())\n",
    "print(positiondedepart)\n",
    "for loop in range(nbvendeurs):\n",
    "    positiondedepart=positiondedepart+largeuremplacement\n",
    "    print(positiondedepart)"
   ]
  },
  {
   "cell_type": "code",
   "execution_count": 26,
   "metadata": {},
   "outputs": [
    {
     "name": "stdout",
     "output_type": "stream",
     "text": [
      "4\n",
      "5\n",
      "6\n",
      "5\n",
      "3\n",
      "2\n",
      "7\n",
      "6\n",
      "4\n",
      "9\n",
      "51\n"
     ]
    }
   ],
   "source": [
    "#Votre programme doit lire 10 entiers puis afficher la somme de tous ces entiers.\n",
    "totalKarvas = 0\n",
    "for loop in range(10):\n",
    "   nbBêtes = int(input())\n",
    "   totalKarvas = totalKarvas + nbBêtes\n",
    "print(totalKarvas)"
   ]
  },
  {
   "cell_type": "code",
   "execution_count": 27,
   "metadata": {},
   "outputs": [
    {
     "name": "stdout",
     "output_type": "stream",
     "text": [
      "1\n",
      "3\n",
      "0\n"
     ]
    }
   ],
   "source": [
    "#Votre programme doit lire deux entiers, représentant respectivement la largeur du socle au niveau du sol et la \n",
    "#largeur du socle au niveau de la face supérieure du socle. Il doit ensuite calculer et afficher le volume du socle.\n",
    "etagemax=int(input())\n",
    "etagemin =int(input())\n",
    "volume=0\n",
    "for loop in range(etagemin,etagemax+1):\n",
    "    volume+=loop*loop\n",
    "print(volume)\n",
    "\n"
   ]
  },
  {
   "cell_type": "code",
   "execution_count": null,
   "metadata": {},
   "outputs": [],
   "source": [
    "BINAIRE"
   ]
  },
  {
   "cell_type": "code",
   "execution_count": 35,
   "metadata": {},
   "outputs": [
    {
     "data": {
      "text/plain": [
       "'0b1011011'"
      ]
     },
     "execution_count": 35,
     "metadata": {},
     "output_type": "execute_result"
    }
   ],
   "source": [
    "bin(91)"
   ]
  },
  {
   "cell_type": "code",
   "execution_count": 29,
   "metadata": {
    "scrolled": true
   },
   "outputs": [
    {
     "data": {
      "text/plain": [
       "'0b1011011'"
      ]
     },
     "execution_count": 29,
     "metadata": {},
     "output_type": "execute_result"
    }
   ],
   "source": [
    "bin(0x5b)"
   ]
  },
  {
   "cell_type": "code",
   "execution_count": 30,
   "metadata": {
    "scrolled": true
   },
   "outputs": [
    {
     "data": {
      "text/plain": [
       "'0x5b'"
      ]
     },
     "execution_count": 30,
     "metadata": {},
     "output_type": "execute_result"
    }
   ],
   "source": [
    "hex(91)"
   ]
  },
  {
   "cell_type": "code",
   "execution_count": 31,
   "metadata": {},
   "outputs": [
    {
     "data": {
      "text/plain": [
       "'0x5b'"
      ]
     },
     "execution_count": 31,
     "metadata": {},
     "output_type": "execute_result"
    }
   ],
   "source": [
    "hex(0b1011011)"
   ]
  },
  {
   "cell_type": "code",
   "execution_count": 32,
   "metadata": {},
   "outputs": [
    {
     "data": {
      "text/plain": [
       "983"
      ]
     },
     "execution_count": 32,
     "metadata": {},
     "output_type": "execute_result"
    }
   ],
   "source": [
    "int(0b1111010111)"
   ]
  },
  {
   "cell_type": "code",
   "execution_count": 33,
   "metadata": {},
   "outputs": [
    {
     "data": {
      "text/plain": [
       "91"
      ]
     },
     "execution_count": 33,
     "metadata": {},
     "output_type": "execute_result"
    }
   ],
   "source": [
    "int(0x5b)"
   ]
  },
  {
   "cell_type": "code",
   "execution_count": 40,
   "metadata": {},
   "outputs": [],
   "source": [
    "def code(a):\n",
    "    return a,ord(a),bin(ord(a))"
   ]
  },
  {
   "cell_type": "code",
   "execution_count": 49,
   "metadata": {},
   "outputs": [],
   "source": [
    "def code(lettre):\n",
    "    return ('a'),97,bin(0b1100001)"
   ]
  },
  {
   "cell_type": "code",
   "execution_count": null,
   "metadata": {},
   "outputs": [],
   "source": []
  },
  {
   "cell_type": "code",
   "execution_count": null,
   "metadata": {},
   "outputs": [],
   "source": []
  }
 ],
 "metadata": {
  "kernelspec": {
   "display_name": "Python 3",
   "language": "python",
   "name": "python3"
  },
  "language_info": {
   "codemirror_mode": {
    "name": "ipython",
    "version": 3
   },
   "file_extension": ".py",
   "mimetype": "text/x-python",
   "name": "python",
   "nbconvert_exporter": "python",
   "pygments_lexer": "ipython3",
   "version": "3.7.8"
  }
 },
 "nbformat": 4,
 "nbformat_minor": 4
}
