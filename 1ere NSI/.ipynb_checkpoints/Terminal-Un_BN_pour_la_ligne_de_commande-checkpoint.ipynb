{
 "cells": [
  {
   "cell_type": "markdown",
   "metadata": {},
   "source": [
    "# Un Bloc Note pour débuter en ligne de commande"
   ]
  },
  {
   "cell_type": "markdown",
   "metadata": {},
   "source": [
    "## Présentation :\n",
    "\n",
    "L'objectif de ce document est de vous faire découvrir par la pratique ***les supers pouvoirs de la ligne de commande*** (ce qui impliquent...).\n",
    "\n",
    "Ainsi, vous saurez dialoguer avec le sytème d'exploitation, l'[OS](https://fr.wikipedia.org/wiki/Syst%C3%A8me_d%27exploitation), de votre machine, sans recourir à une interface graphique, en mode console textuelle comme au temps de premiers ordinateurs. Mais figurez-vous que ceci n'appartient pas qu'à l'ère des \"ordinosaures\", bien au contraire...\n",
    "\n",
    "Pour débuter vous allez mener les activités suivantes dans vos environnements usuels : \n",
    "- sur votre iPad, installer l'application `a-Shell mini` depuis le self-service et la démarrer ;\n",
    "- sur le serveur http://jupyterhub.ecmorlaix.fr:8093, cliquer sur le bouton `Nouveau` en haut à droite de la page d'accueil puis choisir `Terminal`.\n",
    "    \n",
    "Cela à pour effet d'ouvrir une fenêtre qui émule un **Terminal** sur votre écran ;\n",
    "    \n",
    "Le caractère **`$`** s'appelle un **prompt**, c'est-à-dire une invitation à entrer au clavier une commande système dans le Terminal.\n",
    "\n",
    "Le programme qui interprète les instructions de commandes système est appelé **shell**\n",
    "\n",
    "> Il existe une grande variété de shells comme [sh](https://fr.wikipedia.org/wiki/Bourne_shell), [bash](https://fr.wikipedia.org/wiki/Bourne-Again_shell), [dash](https://fr.wikipedia.org/wiki/Debian_Almquist_shell), [ksh](https://fr.wikipedia.org/wiki/Korn_shell), [csh](https://fr.wikipedia.org/wiki/C_shell)..., pour les systèmes de type [UNIX](https://fr.wikipedia.org/wiki/Unix) ; \n",
    "> \n",
    "> - Notre serveur JupyterHub est installé sur une distribution Ubuntu Server, c'est un système d'exploitation de type [GNU](https://fr.wikipedia.org/wiki/GNU)/[Linux](https://fr.wikipedia.org/wiki/Noyau_Linux), aussi, le shell par défaut est donc le bash.\n",
    ">\n",
    "> - Les instructions de commandes de [a-Shell mini](https://apps.apple.com/fr/app/a-shell-mini/id1543537943?l=en#?platform=ipad) sont un portage spécifique de commandes Unix pour iOS et sont volontairement réduites (mais extensibles). Le système d'exploitation installé sur votre iPad se nomme [Darwin](https://fr.wikipedia.org/wiki/Darwin_(informatique)),  aussi [a-Shell](https://github.com/holzschu/a-shell) utilise la version [BSD](https://fr.wikipedia.org/wiki/Berkeley_Software_Distribution) : il y a donc des petites différences dans les options et le comportement des commandes par rapport au bash du projet GNU...\n",
    "\n",
    "Malgré quelques légères variations d'un OS à l'autre, les instructions de commandes pour les systèmes de type [UNIX](https://fr.wikipedia.org/wiki/Unix) sont restées les mêmes depuis les années 1960 et elles fonctionnent aussi bien sous Linux et Mac OS X que maintenant sous Windows 10 avec [PowerShell](https://fr.wikipedia.org/wiki/Windows_PowerShell) et [Windows Subsystem for Linux, WSL](https://fr.wikipedia.org/wiki/Windows_Subsystem_for_Linux). Ainsi donc, **l'apprentissage que vous allez faire ici est portable et sera très certainement durable**...\n",
    "\n",
    "Les instructions de commandes système s'écrivent donc dans un terminal après une invite et ont la forme suivante :\n",
    "\n",
    "**`nom_de_la_commande -option(s) attribut(s)`**\n",
    "\n",
    "Nous avons déjà eu l'occasion d'utiliser de telles commandes depuis le serveur du lycée :\n",
    "- pour télécharger un fichier disponible sur le web `wget URL_du_fichier` ;\n",
    "- ou pour cloner un dépot GitHub `git clone URL_du_depot.git`.\n",
    "\n",
    "<h3 class='fa fa-graduation-cap' style=\"color: MediumSeaGreen\"> A faire vous même n°1 : </h3>\n",
    "\n",
    "- Pour connaitre votre OS, **saisir** successivement sur votre iPad et sur le serveur, les instructions :\n",
    "    - `uname` qui renvoie le nom du système d'exploitation de la machine ;\n",
    "    - `uname -a` qui complète avec d'autres informations concernant la version de l'OS et le hardware de la machine..."
   ]
  },
  {
   "cell_type": "markdown",
   "metadata": {},
   "source": [
    "***\n",
    "\n",
    "## Avertissement, trucs à connaître :\n",
    "\n",
    "- **auto-complétion** : après avoir tapé les premiers caractères, il est possible d'appuyer sur la touche `Tab` qui permet d'ajouter la suite de la commande, du nom du répertoire ou du fichier. Cela évite les erreurs de frappe et est très appréciable pour éviter de saisir le nom de fichier parfois long et complexe comme le nom de certain paquet. Peut être utilisé plusieurs fois si plusieurs noms ont une partie commune. Attention, c'est sensible à la casse !\n",
    "\n",
    "\n",
    "- **historique de commande** : les flèches haut et bas permettent de rappeler des anciennes commandes ; Pour la petite histoire, c'est Bill GATES qui a codé ces touches UNIX quand il était étudiant...\n",
    "\n",
    "\n",
    "- Sur iPad, Nicolas Holzschuch, le développeur de a-Shell mini, a ajouté un bandeau en bas de l'application avec des bouton qui assurent, entre autres, les fonctions d'**auto-complétion** et d'**historique de commande**.\n",
    "\n",
    "<img src=\"https://ericecmorlaix.github.io/img/OS-aShell.png\" alt=\"OS-aShell.png\" width=80%>\n",
    "\n",
    "> Nicolas Holzschuch est Directeur de recherche à l’INRIA de Grenoble-Rhône-Alpes : https://maverick.inria.fr/Members/Nicolas.Holzschuch/, c'est également lui qui développe l'application Carnets.\n",
    "\n",
    "***"
   ]
  },
  {
   "cell_type": "markdown",
   "metadata": {},
   "source": [
    "## Les commandes de bases à découvrir :\n",
    "\n",
    "<h3 class='fa fa-graduation-cap' style=\"color: MediumSeaGreen\"> A faire vous même n°2 : </h3>\n",
    "\n",
    "Pour aller plus avant, la suite de ce notebook présente d'autres commmandes de base à expérimenter dans un terminal...\n",
    "\n",
    "\n",
    "A mesure que vous explorez ce bloc-note et que vous pratiquez la ligne de commande, compléter le tableau suivant pour établir votre synthèse des principales instructions à retenir :\n",
    "\n",
    "|  **Commande**  |  **Option** |  **Paramètre** |  **Action**                     |\n",
    "|:--------------:|:-----------:|:--------------:|:-------------------------------:|\n",
    "| uname          |     ...     |       ...      | ...                             |\n",
    "| mkdir monDossier            |     ...     |       ...      | ...                             |\n",
    "| echo          |     ...     |       ...      | ...                             |\n",
    "| cat      |     ...     |       ...      | ...                             |\n",
    "| mv        |     ...     |       ...      | ...                             |\n",
    "| cd          |     ...     |       ...      | ...                             |\n",
    "| ls          |     ...     |       ...      | ...                             |\n",
    "| uname          |     ...     |       ...      | ...                             |\n",
    "| clear          |     ...     |       ...      | ...                             |\n",
    "| curl wttr.in          |     ...     |       ...      | ...                             |\n",
    "| unzip          |     ...     |       ...      | ...                             |"
   ]
  },
  {
   "cell_type": "markdown",
   "metadata": {},
   "source": [
    "#### Afficher le dossier courant, pwd = present working directory :"
   ]
  },
  {
   "cell_type": "code",
   "execution_count": 1,
   "metadata": {},
   "outputs": [
    {
     "data": {
      "text/plain": [
       "'/home/jovyan'"
      ]
     },
     "execution_count": 1,
     "metadata": {},
     "output_type": "execute_result"
    }
   ],
   "source": [
    "pwd"
   ]
  },
  {
   "cell_type": "markdown",
   "metadata": {},
   "source": [
    "Cette instruction permet de répondre à la question : où suis-je dans l'arborescence des dossiers ?\n",
    "\n",
    "> Sur le serveur du lycée, le texte `jupyter-pnom@r610b:~` indique que vous êtes connecté sur la machine `r610b` sous le nom d'utilisateur `jupyter-pnom` et que le dossier de travail actuel est le dossier `~`, c'est-à-dire votre dossier personnel sur le serveur `/home/jupyter-pnom`.\n",
    "\n",
    "> Le symbole `~` est donc un raccourci pour désigner le dossier personnel de l'utilisateur ; de même les symboles `.` et `..` désignent respectivement le dossier courant et le dossier parent.\n",
    "\n",
    "> Sur votre iPad, l'application a-Shell mini, comme chaque application, a son propre dossier `~`, tel que `private/var/mobile/Containers/Data/Application/1C49F07A-C30F-45E7-ADFD-8C350D68641A`, et par défaut à l'ouverture d'une fenêtre de terminal a-Shell, le dossier courant est `~/Documents`\n",
    "\n",
    "#### Deviner ce que renvoie l'instruction suivante, whoami = ... :"
   ]
  },
  {
   "cell_type": "code",
   "execution_count": 3,
   "metadata": {},
   "outputs": [],
   "source": [
    "whoami\n"
   ]
  },
  {
   "cell_type": "markdown",
   "metadata": {},
   "source": [
    "Cette instruction permet de répondre à la question : ...\n",
    "\n",
    "#### Créer un dossier, mkdir = make directory :\n",
    "\n",
    "> Au fur et à mesure que vous exécutérez les instructions de commande suivantes, observez leur effet sur le serveur JupyterHub dans l'onglet `Home Page` et sur votre iPad avec l'application Fichiers dans le dossier a-Shell mini et ajouter vos propres commentaires d'observation..."
   ]
  },
  {
   "cell_type": "code",
   "execution_count": 4,
   "metadata": {},
   "outputs": [
    {
     "name": "stdout",
     "output_type": "stream",
     "text": [
      "mkdir: cannot create directory ‘monDossier’: File exists\r\n"
     ]
    }
   ],
   "source": [
    "mkdir monDossier"
   ]
  },
  {
   "cell_type": "markdown",
   "metadata": {},
   "source": [
    "#### Créer un fichier vide au format markdown :"
   ]
  },
  {
   "cell_type": "code",
   "execution_count": null,
   "metadata": {},
   "outputs": [],
   "source": [
    "touch monFichierMarkdown.md"
   ]
  },
  {
   "cell_type": "markdown",
   "metadata": {},
   "source": [
    "> Si le fichier existe déjà, la commande `touch` actualise le *timestamp* (l'horadatage) d'accès au fichier.\n",
    "\n",
    "#### Créer un fichier au format texte en y intégrant du contenu par redirection du flux :"
   ]
  },
  {
   "cell_type": "code",
   "execution_count": 7,
   "metadata": {},
   "outputs": [
    {
     "ename": "SyntaxError",
     "evalue": "invalid syntax (<ipython-input-7-f467186ad41b>, line 1)",
     "output_type": "error",
     "traceback": [
      "\u001b[0;36m  File \u001b[0;32m\"<ipython-input-7-f467186ad41b>\"\u001b[0;36m, line \u001b[0;32m1\u001b[0m\n\u001b[0;31m    echo \"Salut le monde\" > monFichierTexte.txt\u001b[0m\n\u001b[0m                        ^\u001b[0m\n\u001b[0;31mSyntaxError\u001b[0m\u001b[0;31m:\u001b[0m invalid syntax\n"
     ]
    }
   ],
   "source": [
    "echo \"Salut le monde\" > monFichierTexte.txt"
   ]
  },
  {
   "cell_type": "markdown",
   "metadata": {},
   "source": [
    "> `echo` est équivalent à un `print()` en python ; ainsi `echo \"Salut le monde\"` affiche en console le message `Salut le monde`.\n",
    "\n",
    "> Le symbole `>` fait une redirection du flux ; ainsi, avec la commande `echo \"Salut le monde\" > monFichierTexte.txt`, la valeur renvoyée par `echo \"Salut le monde\"` est inscrite dans le fichier `monFichierTexte.txt` qui est créé s'il n'existe pas préalablement."
   ]
  },
  {
   "cell_type": "markdown",
   "metadata": {},
   "source": [
    "#### Afficher le contenu d'un fichier :"
   ]
  },
  {
   "cell_type": "code",
   "execution_count": 8,
   "metadata": {},
   "outputs": [
    {
     "name": "stdout",
     "output_type": "stream",
     "text": [
      "cat: monFichierTexte.txt: No such file or directory\r\n"
     ]
    }
   ],
   "source": [
    "cat monFichierTexte.txt"
   ]
  },
  {
   "cell_type": "markdown",
   "metadata": {},
   "source": [
    "> `cat` est la contraction en anglais de *catenate* c'est à dire concaténer..."
   ]
  },
  {
   "cell_type": "code",
   "execution_count": 9,
   "metadata": {},
   "outputs": [
    {
     "ename": "FileNotFoundError",
     "evalue": "[Errno 2] No such file or directory: 'monFichierTexte.txt # touche \"Q\" pour quitter l\\'affichage et revenir au prompt'",
     "output_type": "error",
     "traceback": [
      "\u001b[0;31m---------------------------------------------------------------------------\u001b[0m",
      "\u001b[0;31mFileNotFoundError\u001b[0m                         Traceback (most recent call last)",
      "\u001b[0;32m<ipython-input-9-47394253d09c>\u001b[0m in \u001b[0;36m<module>\u001b[0;34m\u001b[0m\n\u001b[0;32m----> 1\u001b[0;31m \u001b[0mget_ipython\u001b[0m\u001b[0;34m(\u001b[0m\u001b[0;34m)\u001b[0m\u001b[0;34m.\u001b[0m\u001b[0mrun_line_magic\u001b[0m\u001b[0;34m(\u001b[0m\u001b[0;34m'less'\u001b[0m\u001b[0;34m,\u001b[0m \u001b[0;34m'monFichierTexte.txt # touche \"Q\" pour quitter l\\'affichage et revenir au prompt'\u001b[0m\u001b[0;34m)\u001b[0m\u001b[0;34m\u001b[0m\u001b[0;34m\u001b[0m\u001b[0m\n\u001b[0m",
      "\u001b[0;32m/srv/conda/envs/notebook/lib/python3.7/site-packages/IPython/core/interactiveshell.py\u001b[0m in \u001b[0;36mrun_line_magic\u001b[0;34m(self, magic_name, line, _stack_depth)\u001b[0m\n\u001b[1;32m   2324\u001b[0m                 \u001b[0mkwargs\u001b[0m\u001b[0;34m[\u001b[0m\u001b[0;34m'local_ns'\u001b[0m\u001b[0;34m]\u001b[0m \u001b[0;34m=\u001b[0m \u001b[0msys\u001b[0m\u001b[0;34m.\u001b[0m\u001b[0m_getframe\u001b[0m\u001b[0;34m(\u001b[0m\u001b[0mstack_depth\u001b[0m\u001b[0;34m)\u001b[0m\u001b[0;34m.\u001b[0m\u001b[0mf_locals\u001b[0m\u001b[0;34m\u001b[0m\u001b[0;34m\u001b[0m\u001b[0m\n\u001b[1;32m   2325\u001b[0m             \u001b[0;32mwith\u001b[0m \u001b[0mself\u001b[0m\u001b[0;34m.\u001b[0m\u001b[0mbuiltin_trap\u001b[0m\u001b[0;34m:\u001b[0m\u001b[0;34m\u001b[0m\u001b[0;34m\u001b[0m\u001b[0m\n\u001b[0;32m-> 2326\u001b[0;31m                 \u001b[0mresult\u001b[0m \u001b[0;34m=\u001b[0m \u001b[0mfn\u001b[0m\u001b[0;34m(\u001b[0m\u001b[0;34m*\u001b[0m\u001b[0margs\u001b[0m\u001b[0;34m,\u001b[0m \u001b[0;34m**\u001b[0m\u001b[0mkwargs\u001b[0m\u001b[0;34m)\u001b[0m\u001b[0;34m\u001b[0m\u001b[0;34m\u001b[0m\u001b[0m\n\u001b[0m\u001b[1;32m   2327\u001b[0m             \u001b[0;32mreturn\u001b[0m \u001b[0mresult\u001b[0m\u001b[0;34m\u001b[0m\u001b[0;34m\u001b[0m\u001b[0m\n\u001b[1;32m   2328\u001b[0m \u001b[0;34m\u001b[0m\u001b[0m\n",
      "\u001b[0;32m<decorator-gen-118>\u001b[0m in \u001b[0;36mless\u001b[0;34m(self, arg_s)\u001b[0m\n",
      "\u001b[0;32m/srv/conda/envs/notebook/lib/python3.7/site-packages/IPython/core/magic.py\u001b[0m in \u001b[0;36m<lambda>\u001b[0;34m(f, *a, **k)\u001b[0m\n\u001b[1;32m    185\u001b[0m     \u001b[0;31m# but it's overkill for just that one bit of state.\u001b[0m\u001b[0;34m\u001b[0m\u001b[0;34m\u001b[0m\u001b[0;34m\u001b[0m\u001b[0m\n\u001b[1;32m    186\u001b[0m     \u001b[0;32mdef\u001b[0m \u001b[0mmagic_deco\u001b[0m\u001b[0;34m(\u001b[0m\u001b[0marg\u001b[0m\u001b[0;34m)\u001b[0m\u001b[0;34m:\u001b[0m\u001b[0;34m\u001b[0m\u001b[0;34m\u001b[0m\u001b[0m\n\u001b[0;32m--> 187\u001b[0;31m         \u001b[0mcall\u001b[0m \u001b[0;34m=\u001b[0m \u001b[0;32mlambda\u001b[0m \u001b[0mf\u001b[0m\u001b[0;34m,\u001b[0m \u001b[0;34m*\u001b[0m\u001b[0ma\u001b[0m\u001b[0;34m,\u001b[0m \u001b[0;34m**\u001b[0m\u001b[0mk\u001b[0m\u001b[0;34m:\u001b[0m \u001b[0mf\u001b[0m\u001b[0;34m(\u001b[0m\u001b[0;34m*\u001b[0m\u001b[0ma\u001b[0m\u001b[0;34m,\u001b[0m \u001b[0;34m**\u001b[0m\u001b[0mk\u001b[0m\u001b[0;34m)\u001b[0m\u001b[0;34m\u001b[0m\u001b[0;34m\u001b[0m\u001b[0m\n\u001b[0m\u001b[1;32m    188\u001b[0m \u001b[0;34m\u001b[0m\u001b[0m\n\u001b[1;32m    189\u001b[0m         \u001b[0;32mif\u001b[0m \u001b[0mcallable\u001b[0m\u001b[0;34m(\u001b[0m\u001b[0marg\u001b[0m\u001b[0;34m)\u001b[0m\u001b[0;34m:\u001b[0m\u001b[0;34m\u001b[0m\u001b[0;34m\u001b[0m\u001b[0m\n",
      "\u001b[0;32m/srv/conda/envs/notebook/lib/python3.7/site-packages/ipykernel/zmqshell.py\u001b[0m in \u001b[0;36mless\u001b[0;34m(self, arg_s)\u001b[0m\n\u001b[1;32m    340\u001b[0m             \u001b[0mcont\u001b[0m \u001b[0;34m=\u001b[0m \u001b[0mself\u001b[0m\u001b[0;34m.\u001b[0m\u001b[0mshell\u001b[0m\u001b[0;34m.\u001b[0m\u001b[0mpycolorize\u001b[0m\u001b[0;34m(\u001b[0m\u001b[0mopenpy\u001b[0m\u001b[0;34m.\u001b[0m\u001b[0mread_py_file\u001b[0m\u001b[0;34m(\u001b[0m\u001b[0marg_s\u001b[0m\u001b[0;34m,\u001b[0m \u001b[0mskip_encoding_cookie\u001b[0m\u001b[0;34m=\u001b[0m\u001b[0;32mFalse\u001b[0m\u001b[0;34m)\u001b[0m\u001b[0;34m)\u001b[0m\u001b[0;34m\u001b[0m\u001b[0;34m\u001b[0m\u001b[0m\n\u001b[1;32m    341\u001b[0m         \u001b[0;32melse\u001b[0m\u001b[0;34m:\u001b[0m\u001b[0;34m\u001b[0m\u001b[0;34m\u001b[0m\u001b[0m\n\u001b[0;32m--> 342\u001b[0;31m             \u001b[0mcont\u001b[0m \u001b[0;34m=\u001b[0m \u001b[0mopen\u001b[0m\u001b[0;34m(\u001b[0m\u001b[0marg_s\u001b[0m\u001b[0;34m)\u001b[0m\u001b[0;34m.\u001b[0m\u001b[0mread\u001b[0m\u001b[0;34m(\u001b[0m\u001b[0;34m)\u001b[0m\u001b[0;34m\u001b[0m\u001b[0;34m\u001b[0m\u001b[0m\n\u001b[0m\u001b[1;32m    343\u001b[0m         \u001b[0mpage\u001b[0m\u001b[0;34m.\u001b[0m\u001b[0mpage\u001b[0m\u001b[0;34m(\u001b[0m\u001b[0mcont\u001b[0m\u001b[0;34m)\u001b[0m\u001b[0;34m\u001b[0m\u001b[0;34m\u001b[0m\u001b[0m\n\u001b[1;32m    344\u001b[0m \u001b[0;34m\u001b[0m\u001b[0m\n",
      "\u001b[0;31mFileNotFoundError\u001b[0m: [Errno 2] No such file or directory: 'monFichierTexte.txt # touche \"Q\" pour quitter l\\'affichage et revenir au prompt'"
     ]
    }
   ],
   "source": [
    "less monFichierTexte.txt # touche \"Q\" pour quitter l'affichage et revenir au prompt"
   ]
  },
  {
   "cell_type": "markdown",
   "metadata": {},
   "source": [
    "> **Observer** et **expliquer** ce que produisent les instruction suivantes :\n",
    "> ```bash\n",
    "cat monFichierTexte.txt > monAutreFichierTexte.txt\n",
    "cat monAutreFichierTexte.txt\n",
    "```\n",
    "> ça permet de transferer le fichier du monFichierTexte.txt dans un autre dossier et de print dans le terminal ce qu'il y a dans le fichier \n",
    "\n",
    "\n",
    "> **Observer** et **expliquer** la différence entre les deux séquences d'instructions suivantes :\n",
    "> ```bash\n",
    "echo \"Hello world\" > monFichierTexte.txt\n",
    "cat monFichierTexte.txt\n",
    "```\n",
    "> et :\n",
    "> ```bash\n",
    "echo \"Demat d'an holl\" >> monFichierTexte.txt\n",
    "cat monFichierTexte.txt\n",
    "```\n",
    "> le echo permet permet de mettre ce qu'on veut dans le notebook(comme un print) et ensuite print la phrase sur le notebook\n",
    "\n",
    "\n",
    "\n",
    "> **Observer** et **expliquer** ce que produit l'instruction suivante :\n",
    "> ```bash\n",
    "cat monAutreFichierTexte.txt monFichierTexte.txt > monFichierMarkdown.md\n",
    "cat monFichierMarkdown.md\n",
    "```\n",
    "> ça permet de transferer ce qu'il y a dans les deux notebooks dans celui monFichierMarkdown.txt est de print dans le terminal\n",
    "\n",
    "\n",
    "#### Afficher avec la commande cowsay = ... :"
   ]
  },
  {
   "cell_type": "code",
   "execution_count": 5,
   "metadata": {},
   "outputs": [],
   "source": [
    "cowsay 'Bonjour'"
   ]
  },
  {
   "cell_type": "markdown",
   "metadata": {},
   "source": [
    "> Décrire ce que produit l'instruction `cowsay` : sur tablette ça à dessiné une vache qui dit Bonjour mais sur PC ça met bash: cowsay: command not found\n",
    "\n",
    "> **Observer** ce que produit l'instruction suivante sachant que le symbole `|`, *pipe* en Anglais, permet de relier le flux de sortie d'une commande au flux d'entrée d'une autre : ...\n",
    "> ```bash\n",
    "cat monAutreFichierTexte.txt | cowsay -p -T 'U '\n",
    "```\n",
    "> Sur tablette ça met une vache qui tire la langue avec des yeux comme ça [@] et qui dit 'Salut le monde'\n",
    "\n",
    "> **Expliquer** alors ce que produit l'instruction suivante en précisant que permet le symbole `;` :\n",
    "> ```bash\n",
    "cat monFichierMarkdown.md | cowsay > monFichierTexte.txt ; less monFichierTexte.txt\n",
    "```\n",
    "> ...\n",
    "\n",
    "#### Déplacer un fichier, un dossier, mv = move :"
   ]
  },
  {
   "cell_type": "code",
   "execution_count": 6,
   "metadata": {},
   "outputs": [
    {
     "name": "stdout",
     "output_type": "stream",
     "text": [
      "mv: cannot move 'monFichierTexte.txt' to '/home/jupyter-rplomp/monDossier/': No such file or directory\r\n"
     ]
    }
   ],
   "source": [
    "mv monFichierTexte.txt /home/jupyter-pnom/monDossier/ # Sur le serveur, remplacer \"pnom\" par votre nom d'utilisateur"
   ]
  },
  {
   "cell_type": "code",
   "execution_count": null,
   "metadata": {},
   "outputs": [],
   "source": [
    "mv monFichierTexte.txt monDossier/ # Sur iPad"
   ]
  },
  {
   "cell_type": "markdown",
   "metadata": {},
   "source": [
    "> - Commentez pour la destination s'il s'agit d'un chemin absolu ou relatif ;\n",
    "> - Pensez à rafraichir l'affichage dans Fichiers sur iPad comme dans l'onglet `Home Page` sur le serveur.\n",
    "\n",
    "> Remarque : `mv monFichierTexte.txt monDossier/toto.txt`permet de déplacer le fichier tout en le renommant.\n",
    "\n",
    "#### Copier dans un autre dossier, cp = copy :"
   ]
  },
  {
   "cell_type": "code",
   "execution_count": 8,
   "metadata": {},
   "outputs": [
    {
     "name": "stdout",
     "output_type": "stream",
     "text": [
      "cp: cannot stat 'monFichierMarkdown.md': No such file or directory\r\n"
     ]
    }
   ],
   "source": [
    "cp monFichierMarkdown.md monDossier/ # Sur le serveur"
   ]
  },
  {
   "cell_type": "code",
   "execution_count": 9,
   "metadata": {},
   "outputs": [
    {
     "name": "stdout",
     "output_type": "stream",
     "text": [
      "cp: cannot stat 'monFichierMarkdown.md': No such file or directory\r\n"
     ]
    }
   ],
   "source": [
    "cp monFichierMarkdown.md ~/Documents/monDossier/ # Sur iPad"
   ]
  },
  {
   "cell_type": "markdown",
   "metadata": {},
   "source": [
    "#### Changer de dossier courant, cd = change directory :"
   ]
  },
  {
   "cell_type": "code",
   "execution_count": 7,
   "metadata": {},
   "outputs": [
    {
     "name": "stdout",
     "output_type": "stream",
     "text": [
      "/home/jovyan/monDossier\n"
     ]
    }
   ],
   "source": [
    "cd monDossier"
   ]
  },
  {
   "cell_type": "markdown",
   "metadata": {},
   "source": [
    "> Quelle commande permet de vérifier ce changement ?\n",
    ">\n",
    "> ..."
   ]
  },
  {
   "cell_type": "code",
   "execution_count": null,
   "metadata": {},
   "outputs": [],
   "source": [
    "     # pour vérifier..."
   ]
  },
  {
   "cell_type": "markdown",
   "metadata": {},
   "source": [
    "#### Copier et renommer un fichier :"
   ]
  },
  {
   "cell_type": "code",
   "execution_count": null,
   "metadata": {},
   "outputs": [],
   "source": [
    "cp monFichierTexte.txt monFichierTexteBis.txt"
   ]
  },
  {
   "cell_type": "markdown",
   "metadata": {},
   "source": [
    "#### Lister le contenu d'un dossier"
   ]
  },
  {
   "cell_type": "code",
   "execution_count": 10,
   "metadata": {},
   "outputs": [],
   "source": [
    "ls"
   ]
  },
  {
   "cell_type": "code",
   "execution_count": 11,
   "metadata": {},
   "outputs": [
    {
     "name": "stdout",
     "output_type": "stream",
     "text": [
      "\u001b[0m\u001b[01;34m.\u001b[0m/  \u001b[01;34m..\u001b[0m/\r\n"
     ]
    }
   ],
   "source": [
    "ls -a"
   ]
  },
  {
   "cell_type": "code",
   "execution_count": 13,
   "metadata": {},
   "outputs": [
    {
     "name": "stdout",
     "output_type": "stream",
     "text": [
      "total 0\r\n"
     ]
    }
   ],
   "source": [
    "ls -l"
   ]
  },
  {
   "cell_type": "code",
   "execution_count": 15,
   "metadata": {},
   "outputs": [
    {
     "name": "stdout",
     "output_type": "stream",
     "text": [
      "total 4\r\n",
      "drwxr-xr-x  2 jovyan 4294967294    6 Jan 11 08:34 \u001b[0m\u001b[01;34m.\u001b[0m/\r\n",
      "drwxr-xr-x 13 jovyan jovyan     4096 Jan 13 14:41 \u001b[01;34m..\u001b[0m/\r\n"
     ]
    }
   ],
   "source": [
    "ls -al"
   ]
  },
  {
   "cell_type": "code",
   "execution_count": 16,
   "metadata": {},
   "outputs": [
    {
     "name": "stdout",
     "output_type": "stream",
     "text": [
      " ASCII_UTF8-Le_BN_pour_coder_les_caracteres.ipynb\r\n",
      " Brouillon.ipynb\r\n",
      " Chaine-Le_BN_pour_traiter_les_textes_en_machine.ipynb\r\n",
      " DM1-Exercices_en_souffrance.ipynb\r\n",
      " Fonctions_et_modularisation.ipynb\r\n",
      " Hexadecimal-Autre_BN_pour_coder-Complet.ipynb\r\n",
      " ipycanvas-Le_BN_pour_dessiner.ipynb\r\n",
      " Les_types_construits.ipynb\r\n",
      " \u001b[0m\u001b[01;34mMa_rue.py\u001b[0m/\r\n",
      " monAutreFichierTexte.txt\r\n",
      " \u001b[01;34mmonDossier\u001b[0m/\r\n",
      " monFichierMarkdown.md\r\n",
      " monFichierTexteBis.txt\r\n",
      " monFichierTexte.txt\r\n",
      " Network-Un_BN_pour_la_communication_en_reseau.ipynb\r\n",
      "'notebook bases de la programmation.ipynb'\r\n",
      " OS.ipynb\r\n",
      " Programmation-Python3-Quelques_bases.ipynb\r\n",
      " \u001b[01;34m__pycache__\u001b[0m/\r\n",
      " README.md\r\n",
      "'SHI-FU-MI PYTHON programmation.ipynb'\r\n",
      " Terminal-Un_BN_pour_la_ligne_de_commande.ipynb\r\n",
      "\u001b[01;34m'Untitled Folder'\u001b[0m/\r\n",
      " Untitled.ipynb\r\n",
      " untitled.txt\r\n"
     ]
    }
   ],
   "source": [
    "ls .."
   ]
  },
  {
   "cell_type": "markdown",
   "metadata": {},
   "source": [
    "#### Aller au dossier racine"
   ]
  },
  {
   "cell_type": "code",
   "execution_count": 17,
   "metadata": {},
   "outputs": [
    {
     "name": "stdout",
     "output_type": "stream",
     "text": [
      "/\n"
     ]
    }
   ],
   "source": [
    "cd /"
   ]
  },
  {
   "cell_type": "code",
   "execution_count": 18,
   "metadata": {},
   "outputs": [
    {
     "name": "stdout",
     "output_type": "stream",
     "text": [
      "bin:\r\n",
      "\u001b[0m\u001b[01;32mbash\u001b[0m*          \u001b[01;32mdash\u001b[0m*           \u001b[01;32mkill\u001b[0m*           \u001b[01;36mpidof\u001b[0m@       \u001b[01;32mtrue\u001b[0m*\r\n",
      "\u001b[01;32mbunzip2\u001b[0m*       \u001b[01;32mdate\u001b[0m*           \u001b[01;32mless\u001b[0m*           \u001b[01;32mps\u001b[0m*          \u001b[37;41mumount\u001b[0m*\r\n",
      "\u001b[01;32mbzcat\u001b[0m*         \u001b[01;32mdd\u001b[0m*             \u001b[01;32mlessecho\u001b[0m*       \u001b[01;32mpwd\u001b[0m*         \u001b[01;32muname\u001b[0m*\r\n",
      "\u001b[01;36mbzcmp\u001b[0m@         \u001b[01;32mdf\u001b[0m*             \u001b[01;36mlessfile\u001b[0m@       \u001b[01;36mrbash\u001b[0m@       \u001b[01;32muncompress\u001b[0m*\r\n",
      "\u001b[01;32mbzdiff\u001b[0m*        \u001b[01;32mdir\u001b[0m*            \u001b[01;32mlesskey\u001b[0m*        \u001b[01;32mreadlink\u001b[0m*    \u001b[01;32mvdir\u001b[0m*\r\n",
      "\u001b[01;36mbzegrep\u001b[0m@       \u001b[01;32mdmesg\u001b[0m*          \u001b[01;32mlesspipe\u001b[0m*       \u001b[01;32mrm\u001b[0m*          \u001b[01;32mwdctl\u001b[0m*\r\n",
      "\u001b[01;32mbzexe\u001b[0m*         \u001b[01;36mdnsdomainname\u001b[0m@  \u001b[01;32mln\u001b[0m*             \u001b[01;32mrmdir\u001b[0m*       \u001b[01;32mwhich\u001b[0m*\r\n",
      "\u001b[01;36mbzfgrep\u001b[0m@       \u001b[01;36mdomainname\u001b[0m@     \u001b[01;32mlogin\u001b[0m*          \u001b[01;32mrun-parts\u001b[0m*   \u001b[01;36mypdomainname\u001b[0m@\r\n",
      "\u001b[01;32mbzgrep\u001b[0m*        \u001b[01;32mecho\u001b[0m*           \u001b[01;32mls\u001b[0m*             \u001b[01;32msed\u001b[0m*         \u001b[01;32mzcat\u001b[0m*\r\n",
      "\u001b[01;32mbzip2\u001b[0m*         \u001b[01;32megrep\u001b[0m*          \u001b[01;32mlsblk\u001b[0m*          \u001b[01;36msh\u001b[0m@          \u001b[01;32mzcmp\u001b[0m*\r\n",
      "\u001b[01;32mbzip2recover\u001b[0m*  \u001b[01;32mfalse\u001b[0m*          \u001b[01;32mmkdir\u001b[0m*          \u001b[01;36msh.distrib\u001b[0m@  \u001b[01;32mzdiff\u001b[0m*\r\n",
      "\u001b[01;36mbzless\u001b[0m@        \u001b[01;32mfgrep\u001b[0m*          \u001b[01;32mmknod\u001b[0m*          \u001b[01;32msleep\u001b[0m*       \u001b[01;32mzegrep\u001b[0m*\r\n",
      "\u001b[01;32mbzmore\u001b[0m*        \u001b[01;32mfindmnt\u001b[0m*        \u001b[01;32mmktemp\u001b[0m*         \u001b[01;32mstty\u001b[0m*        \u001b[01;32mzfgrep\u001b[0m*\r\n",
      "\u001b[01;32mcat\u001b[0m*           \u001b[01;32mgrep\u001b[0m*           \u001b[01;32mmore\u001b[0m*           \u001b[37;41msu\u001b[0m*          \u001b[01;32mzforce\u001b[0m*\r\n",
      "\u001b[01;32mchgrp\u001b[0m*         \u001b[01;32mgunzip\u001b[0m*         \u001b[37;41mmount\u001b[0m*          \u001b[01;32msync\u001b[0m*        \u001b[01;32mzgrep\u001b[0m*\r\n",
      "\u001b[01;32mchmod\u001b[0m*         \u001b[01;32mgzexe\u001b[0m*          \u001b[01;32mmountpoint\u001b[0m*     \u001b[01;32mtar\u001b[0m*         \u001b[01;32mzless\u001b[0m*\r\n",
      "\u001b[01;32mchown\u001b[0m*         \u001b[01;32mgzip\u001b[0m*           \u001b[01;32mmv\u001b[0m*             \u001b[01;32mtempfile\u001b[0m*    \u001b[01;32mzmore\u001b[0m*\r\n",
      "\u001b[01;32mcp\u001b[0m*            \u001b[01;32mhostname\u001b[0m*       \u001b[01;36mnisdomainname\u001b[0m@  \u001b[01;32mtouch\u001b[0m*       \u001b[01;32mznew\u001b[0m*\r\n",
      "\r\n",
      "boot:\r\n",
      "\r\n",
      "dev:\r\n",
      "\u001b[01;36mcore\u001b[0m@  \u001b[01;33mfull\u001b[0m     \u001b[01;33mnull\u001b[0m   \u001b[01;34mpts\u001b[0m/    \u001b[30;42mshm\u001b[0m/     \u001b[01;36mstdin\u001b[0m@   termination-log  \u001b[01;33murandom\u001b[0m\r\n",
      "\u001b[01;36mfd\u001b[0m@    \u001b[30;42mmqueue\u001b[0m/  \u001b[01;36mptmx\u001b[0m@  \u001b[01;33mrandom\u001b[0m  \u001b[01;36mstderr\u001b[0m@  \u001b[01;36mstdout\u001b[0m@  \u001b[01;33mtty\u001b[0m              \u001b[01;33mzero\u001b[0m\r\n",
      "\r\n",
      "etc:\r\n",
      "adduser.conf            \u001b[01;34mImageMagick-6\u001b[0m/  \u001b[01;36mmtab\u001b[0m@          resolv.conf\r\n",
      "\u001b[01;34malternatives\u001b[0m/           \u001b[01;34minit.d\u001b[0m/         \u001b[01;34mmysql\u001b[0m/         \u001b[01;32mrmt\u001b[0m*\r\n",
      "\u001b[01;34mapt\u001b[0m/                    inputrc         \u001b[01;34mnetwork\u001b[0m/       rpc\r\n",
      "bash.bashrc             issue           networks       securetty\r\n",
      "\u001b[01;34mbash_completion.d\u001b[0m/      issue.net       nsswitch.conf  \u001b[01;34msecurity\u001b[0m/\r\n",
      "bindresvport.blacklist  \u001b[34;42mjupyter\u001b[0m/        \u001b[01;34mopt\u001b[0m/           \u001b[01;34mselinux\u001b[0m/\r\n",
      "\u001b[01;34mca-certificates\u001b[0m/        \u001b[01;34mkernel\u001b[0m/         \u001b[01;36mos-release\u001b[0m@    services\r\n",
      "ca-certificates.conf    \u001b[01;34mldap\u001b[0m/           pam.conf       shadow\r\n",
      "\u001b[01;34mcron.daily\u001b[0m/             ld.so.cache     \u001b[01;34mpam.d\u001b[0m/         shadow-\r\n",
      "debconf.conf            ld.so.conf      passwd         shells\r\n",
      "debian_version          \u001b[01;34mld.so.conf.d\u001b[0m/   passwd-        \u001b[01;34mskel\u001b[0m/\r\n",
      "\u001b[01;34mdefault\u001b[0m/                legal           \u001b[01;34mperl\u001b[0m/          \u001b[01;34mssh\u001b[0m/\r\n",
      "deluser.conf            libaudit.conf   profile        \u001b[01;34mssl\u001b[0m/\r\n",
      "\u001b[01;34mdpkg\u001b[0m/                   locale.alias    \u001b[01;34mprofile.d\u001b[0m/     subgid\r\n",
      "\u001b[01;34memacs\u001b[0m/                  locale.gen      protocols      subgid-\r\n",
      "environment             \u001b[01;34mlogcheck\u001b[0m/       \u001b[01;34mpython\u001b[0m/        subuid\r\n",
      "\u001b[01;34mfonts\u001b[0m/                  login.defs      \u001b[01;34mpython2.7\u001b[0m/     subuid-\r\n",
      "fstab                   \u001b[01;34mlogrotate.d\u001b[0m/    \u001b[01;34mpython3\u001b[0m/       \u001b[01;34msubversion\u001b[0m/\r\n",
      "gai.conf                lsb-release     \u001b[01;34mpython3.6\u001b[0m/     sysctl.conf\r\n",
      "group                   machine-id      \u001b[01;34mrc0.d\u001b[0m/         \u001b[01;34msysctl.d\u001b[0m/\r\n",
      "group-                  magic           \u001b[01;34mrc1.d\u001b[0m/         \u001b[01;34msystemd\u001b[0m/\r\n",
      "gshadow                 magic.mime      \u001b[01;34mrc2.d\u001b[0m/         \u001b[01;34mterminfo\u001b[0m/\r\n",
      "gshadow-                mailcap         \u001b[01;34mrc3.d\u001b[0m/         ucf.conf\r\n",
      "\u001b[01;34mgss\u001b[0m/                    mailcap.order   \u001b[01;34mrc4.d\u001b[0m/         \u001b[01;34mupdate-motd.d\u001b[0m/\r\n",
      "host.conf               \u001b[01;34mmercurial\u001b[0m/      \u001b[01;34mrc5.d\u001b[0m/         wgetrc\r\n",
      "hostname                mime.types      \u001b[01;34mrc6.d\u001b[0m/         \u001b[01;34mX11\u001b[0m/\r\n",
      "hosts                   mke2fs.conf     \u001b[01;34mrcS.d\u001b[0m/\r\n",
      "\r\n",
      "home:\r\n",
      "\u001b[01;34mjovyan\u001b[0m/\r\n",
      "\r\n",
      "lib:\r\n",
      "\u001b[01;36mcpp\u001b[0m@  \u001b[01;34minit\u001b[0m/  \u001b[01;34mlsb\u001b[0m/  \u001b[01;34msystemd\u001b[0m/  \u001b[01;34mterminfo\u001b[0m/  \u001b[01;34mudev\u001b[0m/  \u001b[01;34mx86_64-linux-gnu\u001b[0m/\r\n",
      "\r\n",
      "lib64:\r\n",
      "\u001b[01;36mld-linux-x86-64.so.2\u001b[0m@\r\n",
      "\r\n",
      "media:\r\n",
      "\r\n",
      "mnt:\r\n",
      "\r\n",
      "opt:\r\n",
      "\r\n",
      "proc:\r\n",
      "\u001b[01;34m1\u001b[0m/         crypto       kallsyms     \u001b[01;36mmounts\u001b[0m@       sysrq-trigger\r\n",
      "\u001b[01;34m102\u001b[0m/       devices      \u001b[01;33mkcore\u001b[0m        mtrr          \u001b[01;34msysvipc\u001b[0m/\r\n",
      "\u001b[01;34m149\u001b[0m/       diskstats    \u001b[01;33mkeys\u001b[0m         \u001b[01;36mnet\u001b[0m@          \u001b[01;36mthread-self\u001b[0m@\r\n",
      "\u001b[01;34m267\u001b[0m/       dma          key-users    pagetypeinfo  \u001b[01;33mtimer_list\u001b[0m\r\n",
      "\u001b[01;34m36\u001b[0m/        \u001b[01;34mdriver\u001b[0m/      kmsg         partitions    \u001b[01;34mtty\u001b[0m/\r\n",
      "\u001b[01;34m51\u001b[0m/        execdomains  kpagecgroup  \u001b[01;33msched_debug\u001b[0m   uptime\r\n",
      "\u001b[01;34m69\u001b[0m/        fb           kpagecount   schedstat     version\r\n",
      "\u001b[30;42macpi\u001b[0m/      filesystems  kpageflags   \u001b[30;42mscsi\u001b[0m/         version_signature\r\n",
      "buddyinfo  \u001b[01;34mfs\u001b[0m/          loadavg      \u001b[01;36mself\u001b[0m@         vmallocinfo\r\n",
      "\u001b[01;34mbus\u001b[0m/       interrupts   locks        slabinfo      vmstat\r\n",
      "cgroups    iomem        mdstat       softirqs      zoneinfo\r\n",
      "cmdline    ioports      meminfo      stat\r\n",
      "consoles   \u001b[01;34mipmi\u001b[0m/        misc         swaps\r\n",
      "cpuinfo    \u001b[01;34mirq\u001b[0m/         modules      \u001b[01;34msys\u001b[0m/\r\n",
      "\r\n",
      "projects:\r\n",
      "\u001b[01;34mgh_ericECmorlaix_1NSI_2020-2021\u001b[0m/  \u001b[01;34mgh_Rorodu29_NSI\u001b[0m/\r\n",
      "ls: cannot open directory 'root': Permission denied\r\n",
      "\r\n",
      "run:\r\n",
      "\u001b[30;42mlock\u001b[0m/  \u001b[01;34mmount\u001b[0m/  \u001b[01;34msystemd\u001b[0m/  utmp\r\n",
      "\r\n",
      "sbin:\r\n",
      "\u001b[01;32magetty\u001b[0m*      \u001b[01;32mfsck.cramfs\u001b[0m*    \u001b[01;32mlosetup\u001b[0m*                \u001b[01;32mresize2fs\u001b[0m*\r\n",
      "\u001b[01;32mbadblocks\u001b[0m*   \u001b[01;36mfsck.ext2\u001b[0m@      \u001b[01;32mmke2fs\u001b[0m*                 \u001b[01;32mrunuser\u001b[0m*\r\n",
      "\u001b[01;32mblkdiscard\u001b[0m*  \u001b[01;36mfsck.ext3\u001b[0m@      \u001b[01;32mmkfs\u001b[0m*                   \u001b[01;32msfdisk\u001b[0m*\r\n",
      "\u001b[01;32mblkid\u001b[0m*       \u001b[01;36mfsck.ext4\u001b[0m@      \u001b[01;32mmkfs.bfs\u001b[0m*               \u001b[01;32mshadowconfig\u001b[0m*\r\n",
      "\u001b[01;32mblockdev\u001b[0m*    \u001b[01;32mfsck.minix\u001b[0m*     \u001b[01;32mmkfs.cramfs\u001b[0m*            \u001b[01;32mstart-stop-daemon\u001b[0m*\r\n",
      "\u001b[01;32mcfdisk\u001b[0m*      \u001b[01;32mfsfreeze\u001b[0m*       \u001b[01;36mmkfs.ext2\u001b[0m@              \u001b[01;32msulogin\u001b[0m*\r\n",
      "\u001b[01;32mchcpu\u001b[0m*       \u001b[01;32mfstab-decode\u001b[0m*   \u001b[01;36mmkfs.ext3\u001b[0m@              \u001b[01;32mswaplabel\u001b[0m*\r\n",
      "\u001b[01;32mctrlaltdel\u001b[0m*  \u001b[01;32mfstrim\u001b[0m*         \u001b[01;36mmkfs.ext4\u001b[0m@              \u001b[01;32mswapoff\u001b[0m*\r\n",
      "\u001b[01;32mdebugfs\u001b[0m*     \u001b[01;36mgetty\u001b[0m@          \u001b[01;32mmkfs.minix\u001b[0m*             \u001b[01;32mswapon\u001b[0m*\r\n",
      "\u001b[01;32mdumpe2fs\u001b[0m*    \u001b[01;32mhwclock\u001b[0m*        \u001b[01;32mmkhomedir_helper\u001b[0m*       \u001b[01;32mswitch_root\u001b[0m*\r\n",
      "\u001b[01;32me2fsck\u001b[0m*      \u001b[01;32minitctl\u001b[0m*        \u001b[01;32mmkswap\u001b[0m*                 \u001b[01;32msysctl\u001b[0m*\r\n",
      "\u001b[01;32me2image\u001b[0m*     \u001b[01;32minstallkernel\u001b[0m*  \u001b[30;43mpam_extrausers_chkpwd\u001b[0m*  \u001b[01;32mtune2fs\u001b[0m*\r\n",
      "\u001b[01;36me2label\u001b[0m@     \u001b[01;32misosize\u001b[0m*        \u001b[01;32mpam_extrausers_update\u001b[0m*  \u001b[30;43munix_chkpwd\u001b[0m*\r\n",
      "\u001b[01;32me2undo\u001b[0m*      \u001b[01;32mkillall5\u001b[0m*       \u001b[01;32mpam_tally\u001b[0m*              \u001b[01;32munix_update\u001b[0m*\r\n",
      "\u001b[01;32mfdisk\u001b[0m*       \u001b[01;32mldconfig\u001b[0m*       \u001b[01;32mpam_tally2\u001b[0m*             \u001b[01;32mwipefs\u001b[0m*\r\n",
      "\u001b[01;32mfindfs\u001b[0m*      \u001b[01;32mldconfig.real\u001b[0m*  \u001b[01;32mpivot_root\u001b[0m*             \u001b[01;32mzramctl\u001b[0m*\r\n",
      "\u001b[01;32mfsck\u001b[0m*        \u001b[01;32mlogsave\u001b[0m*        \u001b[01;32mraw\u001b[0m*\r\n",
      "\r\n",
      "srv:\r\n",
      "\u001b[01;34mconda\u001b[0m/  \u001b[01;34mnpm\u001b[0m/\r\n",
      "\r\n",
      "sys:\r\n",
      "\u001b[01;34mblock\u001b[0m/  \u001b[01;34mclass\u001b[0m/  \u001b[01;34mdevices\u001b[0m/   \u001b[01;34mfs\u001b[0m/          \u001b[01;34mkernel\u001b[0m/  \u001b[01;34mpower\u001b[0m/\r\n",
      "\u001b[01;34mbus\u001b[0m/    \u001b[01;34mdev\u001b[0m/    \u001b[30;42mfirmware\u001b[0m/  \u001b[01;34mhypervisor\u001b[0m/  \u001b[01;34mmodule\u001b[0m/\r\n",
      "\r\n",
      "tmp:\r\n",
      "core-js-banners      \u001b[01;34myarn--1601200784173-0.12604238529903533\u001b[0m/\r\n",
      "\u001b[01;34mnpm-1109-c378c1b2\u001b[0m/   \u001b[01;34myarn--1601200785543-0.812458038787502\u001b[0m/\r\n",
      "\u001b[01;34mv8-compile-cache-0\u001b[0m/  \u001b[01;34myarn--1601200787062-0.9426882471246936\u001b[0m/\r\n",
      "\r\n",
      "usr:\r\n",
      "\u001b[01;34mbin\u001b[0m/  \u001b[01;34mgames\u001b[0m/  \u001b[01;34minclude\u001b[0m/  \u001b[01;34mlib\u001b[0m/  \u001b[01;34mlocal\u001b[0m/  \u001b[01;34msbin\u001b[0m/  \u001b[01;34mshare\u001b[0m/  \u001b[01;34msrc\u001b[0m/\r\n",
      "\r\n",
      "var:\r\n",
      "\u001b[01;34mbackups\u001b[0m/  \u001b[01;34mcache\u001b[0m/  \u001b[01;34mlib\u001b[0m/  \u001b[01;34mlocal\u001b[0m/  \u001b[01;36mlock\u001b[0m@  \u001b[01;34mlog\u001b[0m/  \u001b[01;34mmail\u001b[0m/  \u001b[01;34mopt\u001b[0m/  \u001b[01;36mrun\u001b[0m@  \u001b[01;34mspool\u001b[0m/  \u001b[30;42mtmp\u001b[0m/\r\n"
     ]
    }
   ],
   "source": [
    "ls *"
   ]
  },
  {
   "cell_type": "markdown",
   "metadata": {},
   "source": [
    "#### Revenir au dossier utilisateur par défaut"
   ]
  },
  {
   "cell_type": "code",
   "execution_count": 19,
   "metadata": {},
   "outputs": [
    {
     "name": "stdout",
     "output_type": "stream",
     "text": [
      "/home/jovyan\n"
     ]
    }
   ],
   "source": [
    "cd"
   ]
  },
  {
   "cell_type": "code",
   "execution_count": 20,
   "metadata": {},
   "outputs": [
    {
     "name": "stdout",
     "output_type": "stream",
     "text": [
      " ASCII_UTF8-Le_BN_pour_coder_les_caracteres.ipynb\r\n",
      " Brouillon.ipynb\r\n",
      " Chaine-Le_BN_pour_traiter_les_textes_en_machine.ipynb\r\n",
      " DM1-Exercices_en_souffrance.ipynb\r\n",
      " Fonctions_et_modularisation.ipynb\r\n",
      " Hexadecimal-Autre_BN_pour_coder-Complet.ipynb\r\n",
      " ipycanvas-Le_BN_pour_dessiner.ipynb\r\n",
      " Les_types_construits.ipynb\r\n",
      " monAutreFichierTexte.txt\r\n",
      " monFichierMarkdown.md\r\n",
      " monFichierTexteBis.txt\r\n",
      " monFichierTexte.txt\r\n",
      " Network-Un_BN_pour_la_communication_en_reseau.ipynb\r\n",
      "'notebook bases de la programmation.ipynb'\r\n",
      " OS.ipynb\r\n",
      " Programmation-Python3-Quelques_bases.ipynb\r\n",
      " README.md\r\n",
      "'SHI-FU-MI PYTHON programmation.ipynb'\r\n",
      " Terminal-Un_BN_pour_la_ligne_de_commande.ipynb\r\n",
      " Untitled.ipynb\r\n",
      " untitled.txt\r\n",
      "\r\n",
      "Ma_rue.py:\r\n",
      "Dessiner_ma_rue.ipynb  ma_rue.py.ipynb  toit1.py  trait.py\r\n",
      "\r\n",
      "monDossier:\r\n",
      "\r\n",
      "__pycache__:\r\n",
      "ma_rue.cpython-37.pyc\r\n",
      "\r\n",
      "'Untitled Folder':\r\n"
     ]
    }
   ],
   "source": [
    "ls *"
   ]
  },
  {
   "cell_type": "markdown",
   "metadata": {},
   "source": [
    "#### Effacer l'affichage du  terminal"
   ]
  },
  {
   "cell_type": "code",
   "execution_count": 21,
   "metadata": {},
   "outputs": [
    {
     "name": "stdout",
     "output_type": "stream",
     "text": [
      "\u001b[H\u001b[2J"
     ]
    }
   ],
   "source": [
    "clear"
   ]
  },
  {
   "cell_type": "markdown",
   "metadata": {},
   "source": [
    "####  Supprimer un fichier, rm = remove : ( ATTENTION ! C'est sans retour...)"
   ]
  },
  {
   "cell_type": "code",
   "execution_count": null,
   "metadata": {},
   "outputs": [],
   "source": [
    "rm monFichierMarkdown.md"
   ]
  },
  {
   "cell_type": "markdown",
   "metadata": {},
   "source": [
    "####  Supprimer un dossier et tout son contenu : ( ATTENTION ! C'est radical et sans retour...)\n",
    "\n",
    "> `rmdir` permet de supprimer un dossier seulement s'il est vide"
   ]
  },
  {
   "cell_type": "code",
   "execution_count": null,
   "metadata": {},
   "outputs": [],
   "source": [
    "rm -rf monDossier"
   ]
  },
  {
   "cell_type": "markdown",
   "metadata": {},
   "source": [
    "### Aide et Documentation :\n",
    "\n",
    "#### Pour avoir de l'aide sur une commande :"
   ]
  },
  {
   "cell_type": "code",
   "execution_count": 22,
   "metadata": {},
   "outputs": [
    {
     "name": "stdout",
     "output_type": "stream",
     "text": [
      "Usage: rm [OPTION]... [FILE]...\r\n",
      "Remove (unlink) the FILE(s).\r\n",
      "\r\n",
      "  -f, --force           ignore nonexistent files and arguments, never prompt\r\n",
      "  -i                    prompt before every removal\r\n",
      "  -I                    prompt once before removing more than three files, or\r\n",
      "                          when removing recursively; less intrusive than -i,\r\n",
      "                          while still giving protection against most mistakes\r\n",
      "      --interactive[=WHEN]  prompt according to WHEN: never, once (-I), or\r\n",
      "                          always (-i); without WHEN, prompt always\r\n",
      "      --one-file-system  when removing a hierarchy recursively, skip any\r\n",
      "                          directory that is on a file system different from\r\n",
      "                          that of the corresponding command line argument\r\n",
      "      --no-preserve-root  do not treat '/' specially\r\n",
      "      --preserve-root   do not remove '/' (default)\r\n",
      "  -r, -R, --recursive   remove directories and their contents recursively\r\n",
      "  -d, --dir             remove empty directories\r\n",
      "  -v, --verbose         explain what is being done\r\n",
      "      --help     display this help and exit\r\n",
      "      --version  output version information and exit\r\n",
      "\r\n",
      "By default, rm does not remove directories.  Use the --recursive (-r or -R)\r\n",
      "option to remove each listed directory, too, along with all of its contents.\r\n",
      "\r\n",
      "To remove a file whose name starts with a '-', for example '-foo',\r\n",
      "use one of these commands:\r\n",
      "  rm -- -foo\r\n",
      "\r\n",
      "  rm ./-foo\r\n",
      "\r\n",
      "Note that if you use rm to remove a file, it might be possible to recover\r\n",
      "some of its contents, given sufficient expertise and/or time.  For greater\r\n",
      "assurance that the contents are truly unrecoverable, consider using shred.\r\n",
      "\r\n",
      "GNU coreutils online help: <http://www.gnu.org/software/coreutils/>\r\n",
      "Full documentation at: <http://www.gnu.org/software/coreutils/rm>\r\n",
      "or available locally via: info '(coreutils) rm invocation'\r\n"
     ]
    }
   ],
   "source": [
    "rm --help"
   ]
  },
  {
   "cell_type": "markdown",
   "metadata": {},
   "source": [
    "##### ou"
   ]
  },
  {
   "cell_type": "code",
   "execution_count": 23,
   "metadata": {},
   "outputs": [],
   "source": [
    "man rm # touche \"Q\" pour quitterhelp"
   ]
  },
  {
   "cell_type": "markdown",
   "metadata": {},
   "source": [
    "#### Pour obtenir l'aide général :"
   ]
  },
  {
   "cell_type": "code",
   "execution_count": 24,
   "metadata": {},
   "outputs": [
    {
     "data": {
      "text/plain": [
       "Type help() for interactive help, or help(object) for help about object."
      ]
     },
     "execution_count": 24,
     "metadata": {},
     "output_type": "execute_result"
    }
   ],
   "source": [
    "help"
   ]
  },
  {
   "cell_type": "markdown",
   "metadata": {},
   "source": [
    "### Visualiser le code ou télécharger un fichier disponible sur le web :\n",
    "\n",
    "> La commande `wget` n'est pas disponible dans a-Shell. Nous allons utiliser ici la commande [`curl`](https://fr.wikipedia.org/wiki/CURL) qui est plus commune :\n",
    "#### Afficher la météo :"
   ]
  },
  {
   "cell_type": "code",
   "execution_count": 25,
   "metadata": {},
   "outputs": [
    {
     "ename": "SyntaxError",
     "evalue": "invalid syntax (<ipython-input-25-1d548456d7d7>, line 1)",
     "output_type": "error",
     "traceback": [
      "\u001b[0;36m  File \u001b[0;32m\"<ipython-input-25-1d548456d7d7>\"\u001b[0;36m, line \u001b[0;32m1\u001b[0m\n\u001b[0;31m    curl wttr.in/morlaix\u001b[0m\n\u001b[0m            ^\u001b[0m\n\u001b[0;31mSyntaxError\u001b[0m\u001b[0;31m:\u001b[0m invalid syntax\n"
     ]
    }
   ],
   "source": [
    "curl wttr.in/morlaix"
   ]
  },
  {
   "cell_type": "markdown",
   "metadata": {},
   "source": [
    "#### Afficher l'entête d'une page web :"
   ]
  },
  {
   "cell_type": "code",
   "execution_count": null,
   "metadata": {},
   "outputs": [],
   "source": [
    "curl --head http://api.si.lycee.ecmorlaix.fr/APprentissageHtmlCss/"
   ]
  },
  {
   "cell_type": "markdown",
   "metadata": {},
   "source": [
    "#### Copier le code d'une page web dans un fichier dans le dossier courant : "
   ]
  },
  {
   "cell_type": "code",
   "execution_count": 26,
   "metadata": {},
   "outputs": [
    {
     "ename": "SyntaxError",
     "evalue": "invalid syntax (<ipython-input-26-caa1bf7d2201>, line 1)",
     "output_type": "error",
     "traceback": [
      "\u001b[0;36m  File \u001b[0;32m\"<ipython-input-26-caa1bf7d2201>\"\u001b[0;36m, line \u001b[0;32m1\u001b[0m\n\u001b[0;31m    curl http://api.si.lycee.ecmorlaix.fr/APprentissageHtmlCss/ > maPage.html\u001b[0m\n\u001b[0m            ^\u001b[0m\n\u001b[0;31mSyntaxError\u001b[0m\u001b[0;31m:\u001b[0m invalid syntax\n"
     ]
    }
   ],
   "source": [
    "curl http://api.si.lycee.ecmorlaix.fr/APprentissageHtmlCss/ > maPage.html"
   ]
  },
  {
   "cell_type": "markdown",
   "metadata": {},
   "source": [
    "#### Télécharger un fichier du web dans le dossier courant :"
   ]
  },
  {
   "cell_type": "code",
   "execution_count": 27,
   "metadata": {},
   "outputs": [
    {
     "ename": "SyntaxError",
     "evalue": "invalid syntax (<ipython-input-27-0f41ae337cb5>, line 1)",
     "output_type": "error",
     "traceback": [
      "\u001b[0;36m  File \u001b[0;32m\"<ipython-input-27-0f41ae337cb5>\"\u001b[0;36m, line \u001b[0;32m1\u001b[0m\n\u001b[0;31m    curl -O http://api.si.lycee.ecmorlaix.fr/APprentissageHtmlCss/zip/hyperliens.zip\u001b[0m\n\u001b[0m               ^\u001b[0m\n\u001b[0;31mSyntaxError\u001b[0m\u001b[0;31m:\u001b[0m invalid syntax\n"
     ]
    }
   ],
   "source": [
    "curl -O http://api.si.lycee.ecmorlaix.fr/APprentissageHtmlCss/zip/hyperliens.zip"
   ]
  },
  {
   "cell_type": "markdown",
   "metadata": {},
   "source": [
    "#### Télécharger un fichier du web dans le dossier courant en le renommant :"
   ]
  },
  {
   "cell_type": "code",
   "execution_count": null,
   "metadata": {},
   "outputs": [],
   "source": [
    "curl -o monNotebookTerminal.ipynb https://raw.githubusercontent.com/ericECmorlaix/1NSI_2020-2021/master/ipycanvas-Le_BN_pour_dessiner.ipynb "
   ]
  },
  {
   "cell_type": "markdown",
   "metadata": {},
   "source": [
    "### Dézipper un fichier :"
   ]
  },
  {
   "cell_type": "markdown",
   "metadata": {},
   "source": [
    "> Sur iPad, la commande `unzip` n'est pas disponible de base dans a-Shell mini mais il est possible de l'y ajouter comme d'autres commandes à partir de la page https://github.com/holzschu/a-Shell-commands.\n",
    ">\n",
    "> Pour ce faire il faut créer un dossier nommé `bin` dans le dossier `~/Documents/` ; Puis télécharger et déplacer le fichier correspondant à la commande souhaitée dans le dossier `~/Documents/bin`.\n",
    ">\n",
    "> Il est alors possible de l'utiliser comme sur le serveur :"
   ]
  },
  {
   "cell_type": "code",
   "execution_count": null,
   "metadata": {},
   "outputs": [],
   "source": [
    "unzip hyperliens.zip"
   ]
  },
  {
   "cell_type": "markdown",
   "metadata": {},
   "source": [
    "### Zipper des fichiers :"
   ]
  },
  {
   "cell_type": "markdown",
   "metadata": {},
   "source": [
    "> Sur iPad, il faut préalablement ajouter la commande `zip` dans le dossier `~/Documents/bin`"
   ]
  },
  {
   "cell_type": "code",
   "execution_count": null,
   "metadata": {},
   "outputs": [],
   "source": [
    "zip -r monZip.zip monDossier # Compresse tout le contenu de monDossier dans un fichier monZip.zip"
   ]
  },
  {
   "cell_type": "markdown",
   "metadata": {},
   "source": [
    "<h3 class='fa fa-graduation-cap' style=\"color: darkorange\"> A faire vous même n°3 : </h3>\n",
    "    \n",
    "Renseigner vous avec le manuel et l'aide quant aux options des commandes `date` et `cowsay` pour créer un fichier contenant :\n",
    "\n",
    "```code\n",
    " ___________________________\n",
    "< Nous sommes le 06/01/2021 >\n",
    " ---------------------------\n",
    "      \\                    / \\  //\\\n",
    "       \\    |\\___/|      /   \\//  \\\\\n",
    "            /0  0  \\__  /    //  | \\ \\\n",
    "           /     /  \\/_/    //   |  \\  \\\n",
    "           @_^_@'/   \\/_   //    |   \\   \\\n",
    "           //_^_/     \\/_ //     |    \\    \\\n",
    "        ( //) |        \\///      |     \\     \\\n",
    "      ( / /) _|_ /   )  //       |      \\     _\\\n",
    "    ( // /) '/,_ _ _/  ( ; -.    |    _ _\\.-~        .-~~~^-.\n",
    "  (( / / )) ,-{        _      `-.|.-~-.           .~         `.\n",
    " (( // / ))  '/\\      /                 ~-. _ .-~      .-~^-.  \\\n",
    " (( /// ))      `.   {            }                   /      \\  \\\n",
    "  (( / ))     .----~-.\\        \\-'                 .~         \\  `. \\^-.\n",
    "             ///.----..>        \\             _ -~             `.  ^-`  ^-_\n",
    "               ///-._ _ _ _ _ _ _}^ - - - - ~                     ~-- ,.-~\n",
    "                                                                  /.-~\n",
    "```\n"
   ]
  },
  {
   "cell_type": "markdown",
   "metadata": {},
   "source": [
    "<h3 class='fa fa-graduation-cap' style=\"color: darkorange\"> A faire vous même n°4 : </h3>\n",
    "\n",
    "Pour vous entrainer en ligne de commande, résolvez ce jeu de piste  : http://luffah.xyz/bidules/Terminus/"
   ]
  },
  {
   "cell_type": "markdown",
   "metadata": {},
   "source": [
    "### Rechercher :"
   ]
  },
  {
   "cell_type": "markdown",
   "metadata": {},
   "source": [
    "***\n",
    ">Pour de nombreuses commandes, il est souvent utile de faire appel à des méta-caractères :\n",
    "- Il y a évidemment le caractère `*` qui remplace un ou plusieurs caractères (ou même aucun !) ;\n",
    "- Il y a aussi `?` pour ne remplacer qu'un caractère ;\n",
    "- Si vous avez besoin d'un caractère qui est aussi un méta-caractère, utilisez `\\` (anti-slash) devant. Cela évite au caractère d' être interprété par le shell. Il l'affiche seulement.\n",
    "***\n",
    "\n",
    "##### `find` :"
   ]
  },
  {
   "cell_type": "code",
   "execution_count": null,
   "metadata": {},
   "outputs": [],
   "source": [
    "find */*.ipynb"
   ]
  },
  {
   "cell_type": "markdown",
   "metadata": {},
   "source": [
    "##### `grep` :\n",
    "\n",
    "Rechercher ce que permet **grep**. Voici un exemple simple :"
   ]
  },
  {
   "cell_type": "code",
   "execution_count": null,
   "metadata": {},
   "outputs": [],
   "source": [
    "curl -O https://www.gutenberg.org/files/2650/2650-0.txt"
   ]
  },
  {
   "cell_type": "code",
   "execution_count": null,
   "metadata": {},
   "outputs": [],
   "source": [
    "grep Title 2650-0.txt "
   ]
  },
  {
   "cell_type": "code",
   "execution_count": null,
   "metadata": {},
   "outputs": [],
   "source": [
    "grep Author 2650-0.txt"
   ]
  },
  {
   "cell_type": "code",
   "execution_count": null,
   "metadata": {},
   "outputs": [],
   "source": [
    "grep -n  madeleine 2650-0.txt "
   ]
  },
  {
   "cell_type": "markdown",
   "metadata": {},
   "source": [
    "****\n",
    "## Références aux programmes :\n",
    "\n",
    "### Architectures matérielles et systèmes d’exploitation\n",
    "\n",
    "|Contenus|Capacités attendues|Commentaires|\n",
    "|--------|-------------------|------------|\n",
    "|Systèmes d’exploitation.|Identifier les fonctions d’un système d’exploitation.<br/>Utiliser les commandes de base en ligne de commande.<br/>Gérer les droits et permissions d’accès aux fichiers.|Les différences entre systèmes d’exploitation libres et propriétaires sont évoquées.<br/>Les élèves utilisent un système d’exploitation libre.<br/>Il ne s’agit pas d’une étude théorique des systèmes d’exploitation.|\n",
    "\n",
    "****"
   ]
  },
  {
   "cell_type": "markdown",
   "metadata": {},
   "source": [
    "## Ecrire des scripts"
   ]
  },
  {
   "cell_type": "markdown",
   "metadata": {},
   "source": [
    "> A noter qu'on peut également écrire des commandes système dans et les exécuter depuis une cellule de code ipython mais dans ce cas il faut les faire précéder d'un `!`."
   ]
  },
  {
   "cell_type": "code",
   "execution_count": null,
   "metadata": {},
   "outputs": [],
   "source": [
    "# Code à tester dans un notebook sur le serveur ou dans l'interpréteur ipython d'a-Shell mini sur votre iPad\n",
    "def Lister_le_contenu_de_ce_dossier():\n",
    "    liste_du_contenu = !ls\n",
    "    return liste_du_contenu\n",
    "\n",
    "Lister_le_contenu_de_ce_dossier()"
   ]
  },
  {
   "cell_type": "markdown",
   "metadata": {},
   "source": [
    "## Pour conforter et aller plus loin en ligne de commande :\n",
    "\n",
    "- Une application sympathique à faire sur une Raspberry Pi : https://projects.raspberrypi.org/en/projects/pacman-terminal\n",
    "\n",
    "- https://openclassrooms.com/fr/courses/43538-reprenez-le-controle-a-laide-de-linux/37813-la-console-ca-se-mange\n",
    "\n",
    "- https://doc.ubuntu-fr.org/tutoriel/console_ligne_de_commande\n",
    "\n",
    "- https://doc.ubuntu-fr.org/commande_shell\n",
    "\n",
    "- https://linux.goffinet.org/administration/le-shell/la-ligne-de-commande/\n",
    "\n",
    "- http://jp.barralis.com/linux-man/\n",
    "\n",
    "- http://marionpatrick.free.fr/man_html/html/tuto_shell.html\n",
    "\n",
    "Sur Windows 10, installer WSL, les instructions se trouvent ici : \n",
    "- https://docs.microsoft.com/fr-fr/windows/wsl/install-win10#manual-installation-steps\n",
    "- https://doc.ubuntu-fr.org/wsl\n",
    "- https://docs.microsoft.com/fr-fr/windows/terminal/\n",
    "- https://devblogs.microsoft.com/commandline/\n",
    "- https://devblogs.microsoft.com/commandline/getting-started-with-windows-terminal/\n",
    "- https://searchitoperations.techtarget.com/tip/On-Windows-PowerShell-vs-Bash-comparison-gets-interesting"
   ]
  },
  {
   "cell_type": "markdown",
   "metadata": {},
   "source": [
    "<a rel=\"license\" href=\"http://creativecommons.org/licenses/by-sa/4.0/\"><img alt=\"Licence Creative Commons\" style=\"border-width:0\" src=\"https://i.creativecommons.org/l/by-sa/4.0/88x31.png\" /></a><br />Ce document est mis à disposition selon les termes de la <a rel=\"license\" href=\"http://creativecommons.org/licenses/by-sa/4.0/\">Licence Creative Commons Attribution -  Partage dans les Mêmes Conditions 4.0 International</a>.\n",
    "\n",
    "Pour toute question, suggestion ou commentaire : <a href=\"mailto:eric.madec@ecmorlaix.fr\">eric.madec@ecmorlaix.fr</a>"
   ]
  },
  {
   "cell_type": "code",
   "execution_count": null,
   "metadata": {},
   "outputs": [],
   "source": []
  }
 ],
 "metadata": {
  "kernelspec": {
   "display_name": "Python 3",
   "language": "python",
   "name": "python3"
  },
  "language_info": {
   "codemirror_mode": {
    "name": "ipython",
    "version": 3
   },
   "file_extension": ".py",
   "mimetype": "text/x-python",
   "name": "python",
   "nbconvert_exporter": "python",
   "pygments_lexer": "ipython3",
   "version": "3.7.8"
  },
  "toc": {
   "base_numbering": 1,
   "nav_menu": {},
   "number_sections": true,
   "sideBar": true,
   "skip_h1_title": false,
   "title_cell": "Table of Contents",
   "title_sidebar": "Contents",
   "toc_cell": false,
   "toc_position": {},
   "toc_section_display": true,
   "toc_window_display": false
  },
  "varInspector": {
   "cols": {
    "lenName": 16,
    "lenType": 16,
    "lenVar": 40
   },
   "kernels_config": {
    "python": {
     "delete_cmd_postfix": "",
     "delete_cmd_prefix": "del ",
     "library": "var_list.py",
     "varRefreshCmd": "print(var_dic_list())"
    },
    "r": {
     "delete_cmd_postfix": ") ",
     "delete_cmd_prefix": "rm(",
     "library": "var_list.r",
     "varRefreshCmd": "cat(var_dic_list()) "
    }
   },
   "types_to_exclude": [
    "module",
    "function",
    "builtin_function_or_method",
    "instance",
    "_Feature"
   ],
   "window_display": false
  }
 },
 "nbformat": 4,
 "nbformat_minor": 2
}
