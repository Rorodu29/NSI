{
 "cells": [
  {
   "cell_type": "markdown",
   "metadata": {},
   "source": [
    "# Un Bloc Note pour expérimenter la communication dans un réseau :\n",
    "\n",
    "\n",
    "# Introduction :\n",
    "\n",
    "Les réseaux informatiques font partie de notre quotidien depuis de nombreuses années. Ils sont le support de nombreux services (données, voix, vidéo)... \n",
    "\n",
    "> voir la vidéo [Les réseaux informatiques et Internet](https://www.youtube.com/watch?v=JqweQE6TDTc)"
   ]
  },
  {
   "cell_type": "code",
   "execution_count": 1,
   "metadata": {},
   "outputs": [
    {
     "data": {
      "text/html": [
       "<center>\n",
       "<iframe width=\"560\" height=\"315\" src=\"https://www.youtube.com/embed/JqweQE6TDTc\" frameborder=\"0\" allow=\"accelerometer; autoplay; encrypted-media; gyroscope; picture-in-picture\" allowfullscreen></iframe>\n",
       "</center>\n"
      ],
      "text/plain": [
       "<IPython.core.display.HTML object>"
      ]
     },
     "metadata": {},
     "output_type": "display_data"
    }
   ],
   "source": [
    "%%HTML\n",
    "<center>\n",
    "<iframe width=\"560\" height=\"315\" src=\"https://www.youtube.com/embed/JqweQE6TDTc\" frameborder=\"0\" allow=\"accelerometer; autoplay; encrypted-media; gyroscope; picture-in-picture\" allowfullscreen></iframe>\n",
    "</center>"
   ]
  },
  {
   "cell_type": "markdown",
   "metadata": {},
   "source": [
    "Ce BN a pour objectif de vous faire découvrir le fonctionnement des réseaux (LAN / WAN) en les mettant en œuvre, en suivant le chemin (route) emprunté par l’information, en observant les échanges d’informations (traffic), et en construisant, paramétrant, et testant le fonctionnement d'un réseau local LAN..."
   ]
  },
  {
   "cell_type": "markdown",
   "metadata": {},
   "source": [
    "# Expérience n°1 sur le réseau du lycée :\n",
    "Les PC du Labo de SI, comme tous ceux du lycée sont connectés en réseau :\n",
    "<img src=\"https://ericecmorlaix.github.io/img/Reseau.png\" width=\"50%\" >\n",
    "<center><figcaption>Illustration très simplifiée du réseau du lycée.</figcaption></center>\n",
    "\n",
    "### Relever les paramètres du réseau :\n",
    "\n",
    "Depuis un PC sous Windows10 saisir `cmd` dans cortana pour démarrer une invite de commandes et taper `ipconfig`.\n",
    "\n",
    "*(Vous pouvez aussi réaliser cette expérience chez vous sur un PC avec l'OS Windows...)*\n",
    "\n",
    "Quel est l'état des connexions (connecté/déconnecté) ?"
   ]
  },
  {
   "cell_type": "raw",
   "metadata": {},
   "source": [
    "connecté"
   ]
  },
  {
   "cell_type": "markdown",
   "metadata": {},
   "source": [
    "Taper `ipconfig/all`. Quelle est la différence avec la commande précédente ?"
   ]
  },
  {
   "cell_type": "raw",
   "metadata": {},
   "source": [
    "On a beaucoup plus d'information sur le PC et de ce qu'il contient"
   ]
  },
  {
   "cell_type": "markdown",
   "metadata": {},
   "source": [
    "Relever les paramètres IPV4 de la carte réseau de votre PC :"
   ]
  },
  {
   "cell_type": "raw",
   "metadata": {},
   "source": [
    "- Description :Intel(R) Ethernet Connection I217-LM\n",
    "- Adresse Physique : 34-17-EB-AD-50-3E\n",
    "- Configuration \t:\tautomatique  /  (manuelle)\t\t\t(rayer la mention inutile)\n",
    "- Adresse IP : 10.10.5.100\n",
    "- Masque : 255.255.0.0\n",
    "- Passerelle :  10.10.254.201\n",
    "- Serveur(s) DNS : 194.242.114.162\n",
    "- Serveur DHCP : 10.10.254.201\n",
    "- Durée de validité des paramètres IP (durée du bail) :  Bail obtenu: mercredi 13 janvier 2021 16:22:26\n",
    "   Bail expirant: lundi 18 janvier 2021 11:22:22"
   ]
  },
  {
   "cell_type": "markdown",
   "metadata": {},
   "source": [
    "En trois mots, qu’est-ce qu’une adresse MAC ?"
   ]
  },
  {
   "cell_type": "raw",
   "metadata": {},
   "source": [
    "c'est un \n",
    "-identifiant physique stocké dans une carte réseau"
   ]
  },
  {
   "cell_type": "markdown",
   "metadata": {},
   "source": [
    "En trois mots, qu’est-ce qu’un serveur DNS ?"
   ]
  },
  {
   "cell_type": "raw",
   "metadata": {},
   "source": [
    "c'est un service informatique qui traduit un nom de domaine en adresse IP"
   ]
  },
  {
   "cell_type": "markdown",
   "metadata": {},
   "source": [
    "Qu’est-ce qu’un serveur DHCP ?"
   ]
  },
  {
   "cell_type": "raw",
   "metadata": {},
   "source": [
    "c'est un  protocole réseau qui a une configuration dynamique des hôtes"
   ]
  },
  {
   "cell_type": "markdown",
   "metadata": {},
   "source": [
    "Débrancher le câble Ethernet du PC, puis refaire un `ipconfig/all`. Quelle est la différence avec précédemment ?"
   ]
  },
  {
   "cell_type": "raw",
   "metadata": {},
   "source": [
    "On nous donne moins d'information et ça nous met pas le suffixe DNS et ça nous met que le média est deconnecté, mais ça nous met pas les informations précise sur le réseau comme il est deconnecté"
   ]
  },
  {
   "cell_type": "markdown",
   "metadata": {},
   "source": [
    "Reconnecter, et recommencer. Quelle est la différence avec précédemment ?"
   ]
  },
  {
   "cell_type": "raw",
   "metadata": {},
   "source": [
    "ça nous remet le même qu'au debut avec le câble Ethernet, les paramètres IPV4 de la carte réseau du PC."
   ]
  },
  {
   "cell_type": "markdown",
   "metadata": {},
   "source": [
    "Taper `ipconfig/release`. Quelle est l’action de cette commande ?"
   ]
  },
  {
   "cell_type": "raw",
   "metadata": {},
   "source": [
    "cette commande permet de donner la sortie de l'adresse IPv6 de liaison locale (Libère l’adresse IPv6 pour la carte spécifiée)"
   ]
  },
  {
   "cell_type": "markdown",
   "metadata": {},
   "source": [
    "Taper `ipconfig/renew`. Quelle est l’action de cette commande. Qu’est-ce-qui a changé par rapport à\n",
    "la question précédente ?"
   ]
  },
  {
   "cell_type": "raw",
   "metadata": {},
   "source": [
    "cette action nous permet de nous donner plus d'information sur le cable Ethernet et son reseau(elle renouvelle toutes les cartes)"
   ]
  },
  {
   "cell_type": "markdown",
   "metadata": {},
   "source": [
    "Taper `ipconfig/?` pour vérifier vos réponses..."
   ]
  },
  {
   "cell_type": "raw",
   "metadata": {},
   "source": [
    "ipconfig [/allcompartments] [/? | /all |\n",
    "                                 /renew [carte] | /release [carte] |\n",
    "                                 /renew6 [carte] | /release6 [carte] |\n",
    "                                 /flushdns | /displaydns | /registerdns |\n",
    "                                 /showclassid carte |\n",
    "                                 /setclassid carte [ID_classe] |\n",
    "                                 /showclassid6 carte |\n",
    "                                 /setclassid6 carte [ID_classe] ]\n",
    "\n",
    "où\n",
    "    carte             Nom de connexion\n",
    "                       (caractères génériques * et ? autorisés, voir les\n",
    "                        exemples)\n",
    "\n",
    "    Options :\n",
    "       /?               Affiche ce message d’aide\n",
    "       /all             Affiche toutes les informations de configuration.\n",
    "       /release         Libère l’adresse IPv4 pour la carte spécifiée.\n",
    "       /release6        Libère l’adresse IPv6 pour la carte spécifiée.\n",
    "       /renew           Renouvelle l’adresse IPv4 pour la carte spécifiée.\n",
    "       /renew6          Renouvelle l’adresse IPv6 pour la carte spécifiée.\n",
    "       /flushdns        Purge le cache de résolution DNS.\n",
    "       /registerdns     Actualise tous les baux DHCP et réenregistre les noms\n",
    "                        DNS\n",
    "       /displaydns      Affiche le contenu du cache de résolution DNS.\n",
    "       /showclassid     Affiche tous les ID de classe DHCP autorisés pour la\n",
    "                        carte.\n",
    "       /setclassid      Modifie l’ID de classe DHCP.\n",
    "       /showclassid6    Affiche tous les ID de classe DHCP IPv6 autorisés pour\n",
    "                        la carte.\n",
    "       /setclassid6     Modifie l’ID de classe DHCP IPv6.\n",
    "\n",
    "\n",
    "La valeur par défaut affiche uniquement l’adresse IP, le masque de sous-réseau\n",
    "et la passerelle par défaut de chaque carte liée à TCP/IP.\n",
    "\n",
    "Pour Release et Renew, si aucun nom de carte n’est spécifié, les baux d’adresse\n",
    "IP pour toutes les cartes liées à TCP/IP sont libérés ou renouvelés.\n",
    "\n",
    "Pour Setclassid et Setclassid6, si aucun ID de classe n’est spécifié, l’ID de\n",
    "classe est supprimé.\n",
    "\n",
    "Exemples :\n",
    "    > ipconfig                       ... Affiche des informations\n",
    "    > ipconfig /all                  ... Affiche des informations détaillées\n",
    "    > ipconfig /renew                ... renouvelle toutes les cartes\n",
    "    > ipconfig /renew EL*            ... renouvelle toute connexion dont le nom\n",
    "                                         commence par EL\n",
    "    > ipconfig /release *Con*        ... libère toutes les connexions\n",
    "                                         correspondantes,\n",
    "                                         par ex. « Connexion Ethernet\n",
    "                                         câblée 1 » ou « Connexion Ethernet\n",
    "                                         câblée 2 »\n",
    "    > ipconfig /allcompartments      ... Affiche des informations sur tous les\n",
    "                                         compartiments\n",
    "    > ipconfig /allcompartments /all ... Affiche des informations détaillées\n",
    "                                         sur tous les compartiments"
   ]
  },
  {
   "cell_type": "markdown",
   "metadata": {},
   "source": [
    "### Test de communication :\n",
    "\n",
    "La commande couramment utilisée pour tester la communication entre les machines est `ping`. Par exemple, l'instruction `ping 192.168.1.99` permet de vérifier que votre PC communique avec le poste `192.168.1.99`. \n",
    "\n",
    "Tester la communication avec le poste de votre voisin (indiquer la commande et le résultat obtenu). La communication est-elle établie ? Si non, désactiver temporairement le pare-feu (ou régler ces paramètres avancés ICMP pour autoriser une requête d’écho entrante). Qui répond ?"
   ]
  },
  {
   "cell_type": "raw",
   "metadata": {},
   "source": [
    "C:\\Users\\Utilisateur>ping 10.10.4.78\n",
    "\n",
    "Envoi d’une requête 'Ping'  10.10.4.78 avec 32 octets de données :\n",
    "Réponse de 10.10.4.78 : octets=32 temps<1ms TTL=128\n",
    "Réponse de 10.10.4.78 : octets=32 temps<1ms TTL=128\n",
    "Réponse de 10.10.4.78 : octets=32 temps<1ms TTL=128\n",
    "Réponse de 10.10.4.78 : octets=32 temps<1ms TTL=128\n",
    "\n",
    "Statistiques Ping pour 10.10.4.78:\n",
    "    Paquets : envoyés = 4, reçus = 4, perdus = 0 (perte 0%),\n",
    "Durée approximative des boucles en millisecondes :\n",
    "    Minimum = 0ms, Maximum = 0ms, Moyenne = 0ms"
   ]
  },
  {
   "cell_type": "markdown",
   "metadata": {},
   "source": [
    "Tester la communication avec la passerelle (indiquer la commande et le résultat obtenu). La communication est-elle établie ? Qui répond ?"
   ]
  },
  {
   "cell_type": "raw",
   "metadata": {},
   "source": [
    "\n",
    "Envoi d’une requête 'Ping'  10.10.254.201 avec 32 octets de données :\n",
    "Délai d’attente de la demande dépassé. *4\n",
    "Statistiques Ping pour 10.10.254.201:\n",
    "    Paquets : envoyés = 4, reçus = 0, perdus = 4 (perte 100%),"
   ]
  },
  {
   "cell_type": "markdown",
   "metadata": {},
   "source": [
    "Tester la communication avec le 192.168.1.0 (indiquer la commande et le résultat obtenu). La communication est-elle établie ? Qui répond ?"
   ]
  },
  {
   "cell_type": "raw",
   "metadata": {},
   "source": [
    "Envoi d’une requête 'Ping'  192.168.1.0 avec 32 octets de données :\n",
    "Délai d’attente de la demande dépassé.*4\n",
    "Statistiques Ping pour 192.168.1.0:\n",
    "    Paquets : envoyés = 4, reçus = 0, perdus = 4 (perte 100%),"
   ]
  },
  {
   "cell_type": "markdown",
   "metadata": {},
   "source": [
    "Tester la communication avec le site www.google.fr  (indiquer la commande et le résultat obtenu). La communication est-elle établie ? Qui répond ?"
   ]
  },
  {
   "cell_type": "raw",
   "metadata": {},
   "source": [
    "Envoi d’une requête 'ping' sur forcesafesearch.google.com [216.239.38.120] avec 32 octets de données :\n",
    "Délai d’attente de la demande dépassé. *4\n",
    "Statistiques Ping pour 216.239.38.120:\n",
    "    Paquets : envoyés = 4, reçus = 0, perdus = 4 (perte 100%)\n"
   ]
  },
  {
   "cell_type": "markdown",
   "metadata": {},
   "source": [
    "Alors saisir l'IP de la réponse dans la barre d'URL de votre navigateur..."
   ]
  },
  {
   "cell_type": "markdown",
   "metadata": {},
   "source": [
    "Essayer aussi avec l'instruction `nslookup www.google.fr`\n",
    "\n",
    "****\n",
    "> <img src=\"https://ericecmorlaix.github.io/img/OS-aShell.png\" alt=\"OS-aShell.png\" width=20% align=\"right\">\n",
    "> <br>\n",
    ">\n",
    "> Dans l'application [a-Shell mini](https://apps.apple.com/fr/app/a-shell-mini/id1543537943?l=en#?platform=ipad) sur votre iPad,\n",
    "> \n",
    "> tester les commandes `ifconfig`, `ping`, `nslookup`...\n",
    "> \n",
    "> <br>\n",
    "> <br>\n",
    "****"
   ]
  },
  {
   "cell_type": "raw",
   "metadata": {},
   "source": [
    "nslookup de google= Serveur :   fokker.wgip.net\n",
    "Address:  194.242.114.162\n",
    "\n",
    "Réponse ne faisant pas autorité :\n",
    "Nom :    forcesafesearch.google.com\n",
    "Addresses:  2001:4860:4802:32::78\n",
    "          216.239.38.120\n",
    "Aliases:  www.google.fr"
   ]
  },
  {
   "cell_type": "markdown",
   "metadata": {},
   "source": [
    "Essayer maintenant l'instruction `tracert www.google.fr`\n",
    "\n",
    "Faire de même avec `www.ecmorlaix.fr`\n",
    "\n",
    "\n"
   ]
  },
  {
   "cell_type": "raw",
   "metadata": {},
   "source": [
    "\n",
    "tracert = un chemin de paquets de donnée pour aller d'un serveur à un autre\n",
    "ça nous met le nslookup me avec chaque detail, mais ça met qu'il n'est pas reconnu\n",
    "Détermination de l’itinéraire vers forcesafesearch.google.com [216.239.38.120]\n",
    "avec un maximum de 30 sauts :\n",
    "\n",
    "1     *        *        *     Délai d’attente de la demande dépassé. *30\n",
    " \n",
    " Itinéraire déterminé."
   ]
  },
  {
   "cell_type": "code",
   "execution_count": null,
   "metadata": {},
   "outputs": [],
   "source": [
    "Serveur :   fokker.wgip.net\n",
    "Address:  194.242.114.162\n",
    "\n",
    "Réponse ne faisant pas autorité :\n",
    "Nom :    www.ecmorlaix.fr\n",
    "Address:  78.109.85.31\n"
   ]
  },
  {
   "cell_type": "code",
   "execution_count": null,
   "metadata": {},
   "outputs": [],
   "source": []
  },
  {
   "cell_type": "markdown",
   "metadata": {},
   "source": [
    "# Comprendre :\n",
    "\n",
    "## L'adressage IP des machines sur un réseau :\n",
    "\n",
    "Lire et faire les exercices de la fiche de cours [FC_Réseau_TCP-IP-Complet.pdf](FC_Réseau_TCP-IP-Complet.pdf).\n",
    "\n",
    "Ressources complémentaires :\n",
    "\n",
    "- Lire et faire les exercices de la page [Introduction au réseau](https://pixees.fr/informatiquelycee/n_site/nsi_prem_intro_reseau.html) proposée par David ROCHE ;\n",
    "\n",
    "## Les échanges d'informations dans un réseau TCP/IP :\n",
    "\n",
    "- Régarder les vidéos :\n",
    "    - [Internet, IP un protocole universel ?](https://youtu.be/s18KtOLpCg4)\n",
    "    - [C'est quoi le TCP/IP ?](https://youtu.be/_0thnFumSdA)\n",
    "\n",
    "- Lire les pages proposées par David ROCHE :\n",
    "    - [Protocoles TCP et IP](https://pixees.fr/informatiquelycee/n_site/nsi_prem_tcpip.html) ;\n",
    "    - [Le modèle TCP/IP](https://pixees.fr/informatiquelycee/n_site/nsi_prem_modele_tcpip.html) ;\n",
    "    - [Protocole du bit alterné](https://pixees.fr/informatiquelycee/n_site/nsi_prem_bit_alt.html) ;\n",
    "\n",
    "- Faire les exercices :\n",
    "    - [Exercices_Protocoles_Echanges_Données.pdf](Exercices_Protocoles_Echanges_Données.pdf)"
   ]
  },
  {
   "cell_type": "markdown",
   "metadata": {},
   "source": [
    "# Expérience n°2 construire un réseau local :\n",
    "\n",
    "### Entre 2 PC :\n",
    "Dans ce premier montage, vous allez connecter vos ordinateurs directement en utilisant un simple câble Ethernet.\n",
    "<img src=\"https://ericecmorlaix.github.io/img/2PC.png\" width=\"50%\" >\n",
    "\n",
    "Les ordinateurs auront-ils accès à Internet? Justifier :\n",
    "\n",
    "Non car ils ne sont pas connecté à internet car ils sont reliés entre eux\n",
    "\n",
    "Effectuer le montage et configurer la carte réseau en adressage automatique. Attendre 30 secondes, puis relever l'adresse IP de vos ordinateurs et vérifier la connexion par un `ping`.\n",
    "\n",
    "Qu'est-ce qu'une adresse APIPA ?\n",
    "\n",
    "c'est un processus qui permet à un système d'exploitation de s'attribuer automatiquement une adresse IP allant de 169.254.0.0 à 169.254.255.255\n",
    "\n",
    "Quel autre type d'adresse aurait-on pu configurer ?\n",
    "\n",
    "...\n",
    "\n",
    "Qu'est-ce qu'un cable croisé ?\n",
    "\n",
    "C'est un cable qui intervit certain signaux, qui envoye des emissions de chacun aux receptions de l'autre et inverse. Permet le branchement direct entre deux equipements\n",
    "\n",
    "Qu'est-ce que la fonction Auto MDIX ?\n",
    "\n",
    "...\n",
    "\n",
    "### LAN, Local Area Network :\n",
    "L'objectif maintenant est d'établir un réseau LAN entre 2 PC avec un switch ou un routeur puis d'y intégrer un Raspberry Pi afin de s'y connecter à distance. Il sera alors possible d'utiliser les différents services qui y sont installés ou d'y créer de nouveaux...\n",
    "<img src=\"https://ericecmorlaix.github.io/img/LAN.png\" width=\"75%\" >\n",
    "\n",
    "Effectuer le montage et configurer la carte réseau en adressage automatique. Attendre 30 secondes, puis relever l'adresse IP de vos appareils et vérifier la connexion par un `ping`...\n",
    "\n",
    "##### SSH, Secure Shell :\n",
    "\n",
    "Vérifier dans les préférences de configuration du Raspberry Pi que l'interface SSH est activée. ce qui n’est plus le cas par défaut depuis 2016 et une attaque massive sur les objets connectés...\n",
    "\n",
    "A partir de Cortana, rechercher et lancer l'application de bureau PuTTY. Choisir une connection de type [SSH](https://fr.wikipedia.org/wiki/Secure_Shell), saisir l'adresse IP de votre Raspberry Pi puis cliquer sur le bouton `Open` pour ouvrir la connection et établir la communication entre le PC et l'appareil distant.\n",
    "<img src=\"https://ericecmorlaix.github.io/img/W10-PuTTY-SSH.png\" width=\"40%\" >\n",
    "Dans la fenêtre de terminal qui s'ouvre, saisir `Python3`, les trois chevrons `>>>` d'un interpréteur python doivent apparaitre. Tester le bon fonctionnement avec quelques instructions...\n",
    "\n",
    "Puis saisir `exit()` ou faire `Ctrl+D`  pour  quitter et revenir au prompt, saisir `pinout` pour visualiser l'organisation du [GPIO](https://fr.wikipedia.org/wiki/General_Purpose_Input/Output)...\n",
    "\n",
    "Vérifier que depuis un terminal Windows PowerShell sur PC, il est aussi possible de se connecter en SSH avec une instruction en ligne de commande de la forme : `ssh utilisateur@adresse_ip_ou_url_serveur`\n",
    "\n",
    "De même, vérifier que cela est possible depuis a-Shell mini sur votre iPad...\n",
    "\n",
    "Est-il possible de se connecter à plusieurs au Raspberry Pi en SSH ? \n",
    "\n",
    "##### VNC, Virtual Network Computing :\n",
    "\n",
    "Dans les préférences de configuration du Raspberry Pi activer l'interface serveur [VNC](https://fr.wikipedia.org/wiki/Virtual_Network_Computing).\n",
    "Si ce n'est pas déjà fait, installer [Real VNC viewer](https://www.realvnc.com/en/connect/download/viewer/) sur votre PC.\n",
    "A partir de Cortana, rechercher et lancer l'application de bureau VNC Viewer. Faire `Fichier>Nouvelle connexion` et saisir l'adresse IP du Raspberry Pi...\n",
    "\n",
    "Depuis votre PC, dans la fenêtre graphique qui s'ouvre, démarrer un terminal sur le Raspberry Pi, saisir `Python3`, les trois chevrons `>>>` d'un interpréteur python doivent apparaitre. Tester le bon fonctionnement avec quelques instructions...\n",
    "\n",
    "Puis saisir `exit()` ou faire `Ctrl+D` pour  quitter et revenir au prompt, saisir `jupyter notebook` pour démarrer l'application jupyter sur le Raspberry Pi et la piloter depuis votre PC...\n",
    "\n",
    "De même, vérifier que cela est possible depuis votre iPad...\n",
    "\n",
    "Est-il possible de s'y connecter à plusieurs ?\n",
    "\n",
    "##### GPIO, General Purpose Input Output :\n",
    "\n",
    "Si ce n'est pas déjà fait, dans les préférences de configuration du Raspberry Pi activer l'interface `Remote GPIO`\n",
    "Connecter alors une breadboard de base à votre Raspberry Pi et piloter son [GPIO](https://fr.wikipedia.org/wiki/General_Purpose_Input/Output) avec, par exemple, cette suite d'instructions :"
   ]
  },
  {
   "cell_type": "code",
   "execution_count": 1,
   "metadata": {},
   "outputs": [
    {
     "ename": "ModuleNotFoundError",
     "evalue": "No module named 'gpiozero'",
     "output_type": "error",
     "traceback": [
      "\u001b[0;31m---------------------------------------------------------------------------\u001b[0m",
      "\u001b[0;31mModuleNotFoundError\u001b[0m                       Traceback (most recent call last)",
      "\u001b[0;32m<ipython-input-1-8e835267d67b>\u001b[0m in \u001b[0;36m<module>\u001b[0;34m\u001b[0m\n\u001b[0;32m----> 1\u001b[0;31m \u001b[0;32mfrom\u001b[0m \u001b[0mgpiozero\u001b[0m \u001b[0;32mimport\u001b[0m \u001b[0mLED\u001b[0m\u001b[0;34m\u001b[0m\u001b[0;34m\u001b[0m\u001b[0m\n\u001b[0m",
      "\u001b[0;31mModuleNotFoundError\u001b[0m: No module named 'gpiozero'"
     ]
    }
   ],
   "source": [
    "from gpiozero import LED"
   ]
  },
  {
   "cell_type": "code",
   "execution_count": null,
   "metadata": {},
   "outputs": [],
   "source": [
    "maLED = LED(17)"
   ]
  },
  {
   "cell_type": "code",
   "execution_count": null,
   "metadata": {},
   "outputs": [],
   "source": [
    "maLED.on()"
   ]
  },
  {
   "cell_type": "code",
   "execution_count": null,
   "metadata": {},
   "outputs": [],
   "source": [
    "maLED.off()"
   ]
  },
  {
   "cell_type": "code",
   "execution_count": null,
   "metadata": {},
   "outputs": [],
   "source": [
    "from gpiozero import Button"
   ]
  },
  {
   "cell_type": "code",
   "execution_count": null,
   "metadata": {},
   "outputs": [],
   "source": [
    "monBoutton = Button(4)"
   ]
  },
  {
   "cell_type": "code",
   "execution_count": null,
   "metadata": {},
   "outputs": [],
   "source": [
    "not monBoutton.is_pressed"
   ]
  },
  {
   "cell_type": "code",
   "execution_count": null,
   "metadata": {},
   "outputs": [],
   "source": [
    "from time import sleep"
   ]
  },
  {
   "cell_type": "code",
   "execution_count": null,
   "metadata": {},
   "outputs": [],
   "source": [
    "while True:\n",
    "    print(\"Bonjour\")\n",
    "    maLED.on()\n",
    "    sleep(1)\n",
    "    maLED.off()\n",
    "    sleep(1)\n",
    "    if (not monBoutton.is_pressed):\n",
    "        print(\"Kenavo\")\n",
    "        break"
   ]
  },
  {
   "cell_type": "markdown",
   "metadata": {},
   "source": [
    "Enregistrer alors votre script dans un fichier python (`monScript_GPIO.py`) sur le raspberry pi et lancer le depuis votre iPad connecté en SSH...\n",
    "\n",
    "##### Pour aller plus loin :\n",
    "\n",
    "- avec le GPIO : https://gpiozero.readthedocs.io/en/stable/index.html\n",
    "\n",
    "- comment peut-on piloter le GPIO depuis un notebook jupyter s'affichant dans le navigateur d'un PC connecté en SSH au Raspberry Pi, en local ? Et à distance ?\n",
    "    - https://desertbot.io/blog/raspberry-pi-jupyter-gpio\n",
    "    - https://raspberry-pi.fr/nom-domaine/\n",
    "    \n",
    "- quelle différence avec un serveur Jupyterhub comme un [TLJH](https://the-littlest-jupyterhub.readthedocs.io/en/latest/) ou comme décrit là : https://towardsdatascience.com/setup-your-home-jupyterhub-on-a-raspberry-pi-7ad32e20eed"
   ]
  },
  {
   "cell_type": "markdown",
   "metadata": {},
   "source": [
    "# Travaux Pratiques de simulation d'un réseau local :\n",
    "\n",
    "- Avec Filius : faire les activtités de la page [Simulation réseau](https://pixees.fr/informatiquelycee/n_site/nsi_prem_simReseau1.html) proposée par David ROCHE ;"
   ]
  },
  {
   "cell_type": "markdown",
   "metadata": {},
   "source": [
    "# Prolongement IOT :\n",
    "\n",
    "- [Objets connectés, des robots dans nos maisons ?](https://www.youtube.com/watch?v=DOECi_ZKaYI)\n",
    "\n",
    "- Avec QuickPi : [https://amazon.quick-pi.org/](https://amazon.quick-pi.org/)"
   ]
  },
  {
   "cell_type": "markdown",
   "metadata": {
    "slideshow": {
     "slide_type": ""
    }
   },
   "source": [
    "\n",
    " # Ressources :\n",
    "\n",
    "\n",
    "- https://www.lossendiere.com/2016/12/31/comprendre-le-fonctionnement-dun-reseau-informatique/\n",
    "\n",
    "- Ne pas confondre Internet et [Le web, \"site internet\" ou \"site web\" ?](https://youtu.be/GqD6AiaRo3U)\n",
    " \n",
    "- http://www.lycee-ferry-versailles.fr/si-new/index.php?rubrique=5_2_reseaux\n",
    "\n",
    "- https://www.pedagogie.ac-aix-marseille.fr/upload/docs/application/pdf/2015-12/cours_reseaux.pdf\n",
    "\n",
    "- https://pixees.fr/informatiquelycee/"
   ]
  },
  {
   "cell_type": "markdown",
   "metadata": {},
   "source": [
    "****\n",
    "## Références aux programmes :\n",
    "\n",
    "<style type=\"text/css\">\n",
    ".tg  {border-collapse:collapse;border-spacing:0;}\n",
    ".tg td{font-family:Arial, sans-serif;font-size:14px;padding:10px 5px;border-style:solid;border-width:1px;overflow:hidden;word-break:normal;border-color:black;}\n",
    ".tg th{font-family:Arial, sans-serif;font-size:14px;font-weight:normal;padding:10px 5px;border-style:solid;border-width:1px;overflow:hidden;word-break:normal;border-color:black;}\n",
    ".tg .tg-cv16{font-weight:bold;background-color:#dae8fc;border-color:inherit;text-align:center}\n",
    ".tg .tg-xldj{border-color:inherit;text-align:left}\n",
    "</style>\n",
    "\n",
    "<table class=\"tg\">\n",
    "  <tr>\n",
    "    <th class=\"tg-cv16\">Contenus</th>\n",
    "    <th class=\"tg-cv16\">Capacités attendues</th>\n",
    "    <th class=\"tg-cv16\">Commentaires</th>\n",
    "  </tr>\n",
    "  \n",
    "  <tr>\n",
    "    <td class=\"tg-xldj\">Transmission de données dans un réseau<br>Protocoles decommunication<br>Architecture d’un réseau</td>\n",
    "    <td class=\"tg-xldj\">Mettre en évidence l’intérêt du découpage des données en paquets et de leur encapsulation.<br>\n",
    "Dérouler le fonctionnement d’un protocole simple de récupération de perte de paquets (bit alterné).<br>\n",
    "Simuler ou mettre en œuvre un réseau.</td>\n",
    "    <td class=\"tg-xldj\">Le protocole peut être expliqué et simulé en mode débranché.<br>Le lien est fait avec ce qui a été\n",
    "vu en classe de seconde sur le protocole TCP/IP.<br>Le rôle des différents constituants du réseau local de l’établissement\n",
    "est présenté.</td>\n",
    "  </tr>\n",
    "  <tr>\n",
    "    <td class=\"tg-xldj\">Périphériques d’entrée et de sortie<br>Interface HommeMachine (IHM)</td>\n",
    "    <td class=\"tg-xldj\">Identifier le rôle des capteurs et actionneurs.<br>Réaliser par programmation une IHM répondant à un cahier des charges donné.</td>\n",
    "    <td class=\"tg-xldj\">Les activités peuvent être développées sur des objets connectés, des systèmes embarqués ou robots.</td>\n",
    "  </tr>  \n",
    "</table>"
   ]
  }
 ],
 "metadata": {
  "anaconda-cloud": {},
  "kernelspec": {
   "display_name": "Python 3",
   "language": "python",
   "name": "python3"
  },
  "language_info": {
   "codemirror_mode": {
    "name": "ipython",
    "version": 3
   },
   "file_extension": ".py",
   "mimetype": "text/x-python",
   "name": "python",
   "nbconvert_exporter": "python",
   "pygments_lexer": "ipython3",
   "version": "3.7.8"
  },
  "toc": {
   "base_numbering": 1,
   "nav_menu": {},
   "number_sections": true,
   "sideBar": true,
   "skip_h1_title": false,
   "title_cell": "Table of Contents",
   "title_sidebar": "Contents",
   "toc_cell": false,
   "toc_position": {},
   "toc_section_display": true,
   "toc_window_display": false
  },
  "varInspector": {
   "cols": {
    "lenName": 16,
    "lenType": 16,
    "lenVar": 40
   },
   "kernels_config": {
    "python": {
     "delete_cmd_postfix": "",
     "delete_cmd_prefix": "del ",
     "library": "var_list.py",
     "varRefreshCmd": "print(var_dic_list())"
    },
    "r": {
     "delete_cmd_postfix": ") ",
     "delete_cmd_prefix": "rm(",
     "library": "var_list.r",
     "varRefreshCmd": "cat(var_dic_list()) "
    }
   },
   "types_to_exclude": [
    "module",
    "function",
    "builtin_function_or_method",
    "instance",
    "_Feature"
   ],
   "window_display": false
  }
 },
 "nbformat": 4,
 "nbformat_minor": 2
}
