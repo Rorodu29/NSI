{
 "cells": [
  {
   "cell_type": "markdown",
   "metadata": {},
   "source": [
    "# Le Bloc Note pour apprendre à encoder les caractères :"
   ]
  },
  {
   "cell_type": "markdown",
   "metadata": {},
   "source": [
    "Un paquet de données transmit entre deux machines via internet que ce soit du texte, des images ou du son, tout comme un fichier informatique quel qu'il soit, ne sont finalement qu'une suite de 0 et de 1 que l'on peut regrouper par lots de 8 formant ainsi une séquence d'octects...\n",
    "\n",
    "Utiliser un encodage plutôt qu'un autre revient à interpréter la même séquence d'octets de deux façons différentes au risque de commettre des erreurs...\n",
    "\n",
    "## L'ASCII :\n",
    "\n",
    "Pour interpréter correctement un message textuel échangé entre ordinateurs, le choix d'une convention de codage commune et standardisée s'est imposé dès le début des années 1960. C'est la norme **ASCII** pour American Standard Code for Information Interchange qui a été retenu pour le codage des caractères.\n",
    "\n",
    "C'est une table de 128 caractères numérotés de 0 à 127 (codés sur 7 bits) qui inclue les lettres majuscules et minuscules, les symboles de ponctuation (& ~ , . ; # \" - etc...) et les chiffres :\n",
    "\n",
    "<img alt=\"ASCII-Table\" src=\"https://upload.wikimedia.org/wikipedia/commons/d/dd/ASCII-Table.svg\">\n",
    "\n",
    "Ce jeu de symboles est suffisant pour rédiger un programme informatique ou un texte en Anglais. Mais il ne permet pas d'écrire dans d'autres langues qui utiliseraient des accents par exemple...\n",
    "\n",
    "<h3 class='fa fa-graduation-cap' style=\"color: MediumSeaGreen\"> A faire vous même n°1 :</h3>\n",
    "\n",
    "Vérifier si la trame d'informations binaires donnée au début du notebook [Hexadecimal-Autre_BN_pour_coder](Hexadecimal-Autre_BN_pour_coder.ipynb) prend du sens pour vous si on la décode à l'aide de la table ACSCII ?\n",
    "\n",
    "`010011100101001101001001001011000010000001100011001001110110010101110011011101000010000001100011011011110110111101101100001000000100001`\n",
    "\n",
    "<h3>Oui cela à un sens \"NSI, c'est cool !\"</h3>\n",
    "\n",
    "| Binaire  |Hexadecimal| ASCII |\n",
    "|:--------:|:---------:|:-----:|\n",
    "|`01001110`|    `4E`   |   N   |\n",
    "|`01010011`|    `53`   |   S   |\n",
    "|`01001001`|    `49`   |   I   |\n",
    "|`00101100`|    `2C`   |   ,   |\n",
    "|`00100000`|    `20`   |       |\n",
    "|`01100011`|    `63`   |   c   |\n",
    "|`00100111`|    `27`   |   '   |\n",
    "|`01100101`|    `65`   |   e   |\n",
    "|`01110011`|    `73`   |   s   |\n",
    "|`01110100`|    `74`   |   t   |\n",
    "|`00100000`|    `20`   |       |\n",
    "|`01100011`|    `63`   |   c   |\n",
    "|`01101111`|    `6F`   |   o   |\n",
    "|`01101111`|    `6F`   |   o   |\n",
    "|`01101100`|    `6C`   |   l   |\n",
    "|`00100000`|    `20`   |       |\n",
    "|`00100001`|    `21`   |   !   |\n",
    "\n",
    "\n",
    "<h3 class='fa fa-graduation-cap' style=\"color: darkorange\"> A faire vous même n°2 :</h3>\n",
    "\n",
    "Quelle opération arithmétique doit-on réaliser pour passer d'une minuscule à une majuscule ?\n",
    "\n",
    "on doit faire +20 car pour passer de i à I on fait I + 20 et ça nous donne i\n",
    "\n",
    "binaire -> +/- 32\n",
    "\n",
    "sauf pour m,k,l,n,o,z eu on doit faire +2 M->m on doit faire 4D -> 6D\n",
    "\n",
    "\n",
    "<h3 class='fa fa-graduation-cap' style=\"color: tomato\"> A faire vous même n°3 :</h3>\n",
    "\n",
    "Peut-on transformer l'image précédemment étudiée en un message textuel codé en ASCCI ?\n",
    " \n",
    "<img src=\"https://ericecmorlaix.github.io/img/NSI-ASCII-2D_Code.png\" alt=\"ExerciceCodageASCII.png\">\n",
    "\n",
    "11001010  202\n",
    "<h3> Non car cela ne represente pas le texte lié donc il ne represente pas l'image du texte décrypté et on ne peut que aller jusqu'à 127 caractères </h3>\n",
    "\n",
    "...\n",
    "\n",
    "\n",
    "## Python et le codage des caractères :\n",
    "\n",
    "Deux fonctions prédéfinies permettent d’effectuer la conversion entre un caractère et son identifiant numérique :\n",
    "\n",
    "- la fonction `ord()` renvoie l’identifiant numérique correspondant au caractère passé en argument ;\n",
    "\n",
    "- inversement, `chr()` renvoie le caractère correspondant à l'entier passé à cette fonction.\n"
   ]
  },
  {
   "cell_type": "code",
   "execution_count": 1,
   "metadata": {},
   "outputs": [
    {
     "data": {
      "text/plain": [
       "'A'"
      ]
     },
     "execution_count": 1,
     "metadata": {},
     "output_type": "execute_result"
    }
   ],
   "source": [
    "chr(0b01000001)"
   ]
  },
  {
   "cell_type": "code",
   "execution_count": 2,
   "metadata": {},
   "outputs": [
    {
     "data": {
      "text/plain": [
       "'A'"
      ]
     },
     "execution_count": 2,
     "metadata": {},
     "output_type": "execute_result"
    }
   ],
   "source": [
    "chr(0x41)"
   ]
  },
  {
   "cell_type": "code",
   "execution_count": 3,
   "metadata": {},
   "outputs": [
    {
     "data": {
      "text/plain": [
       "65"
      ]
     },
     "execution_count": 3,
     "metadata": {},
     "output_type": "execute_result"
    }
   ],
   "source": [
    "ord('A')"
   ]
  },
  {
   "cell_type": "code",
   "execution_count": 4,
   "metadata": {},
   "outputs": [
    {
     "data": {
      "text/plain": [
       "'0b1000001'"
      ]
     },
     "execution_count": 4,
     "metadata": {},
     "output_type": "execute_result"
    }
   ],
   "source": [
    "bin(65)"
   ]
  },
  {
   "cell_type": "code",
   "execution_count": 5,
   "metadata": {},
   "outputs": [
    {
     "data": {
      "text/plain": [
       "'0x41'"
      ]
     },
     "execution_count": 5,
     "metadata": {},
     "output_type": "execute_result"
    }
   ],
   "source": [
    "hex(ord('A'))"
   ]
  },
  {
   "cell_type": "markdown",
   "metadata": {},
   "source": [
    "<h3 class='fa fa-cog' style=\"color: MediumSeaGreen\"> A faire vous même n°4 :</h3>\n",
    "\n",
    "**Tester** les fonctions suivantes :\n",
    "\n",
    "```python\n",
    "def code(lettre):\n",
    "    return lettre,ord(lettre),bin(ord(lettre))\n",
    "\n",
    "def decode(nombre):\n",
    "    return chr(nombre),nombre,bin(nombre)\n",
    "```\n",
    "Puis, **écrire** un programme qui affiche pour toutes les lettres de l’alphabet un résultat du type :\n",
    "```\n",
    "('a', 97, '0b1100001')\n",
    "('b', 98, '0b1100010')\n",
    "```\n",
    "\n",
    "Enfin, **modifier** la définition des fonctions pour inclure l'affichage du code ASCII en hexadécimal."
   ]
  },
  {
   "cell_type": "code",
   "execution_count": 7,
   "metadata": {},
   "outputs": [],
   "source": [
    "def code(lettre):\n",
    "    return lettre,ord(lettre),bin(ord(lettre))"
   ]
  },
  {
   "cell_type": "code",
   "execution_count": 8,
   "metadata": {
    "scrolled": true
   },
   "outputs": [
    {
     "data": {
      "text/plain": [
       "('A', 65, '0b1000001')"
      ]
     },
     "execution_count": 8,
     "metadata": {},
     "output_type": "execute_result"
    }
   ],
   "source": [
    "code('A')\n"
   ]
  },
  {
   "cell_type": "code",
   "execution_count": 8,
   "metadata": {},
   "outputs": [],
   "source": [
    "def decode(chiffre):\n",
    "    return chr(chiffre),chiffre,bin(chiffre)"
   ]
  },
  {
   "cell_type": "code",
   "execution_count": 4,
   "metadata": {},
   "outputs": [
    {
     "data": {
      "text/plain": [
       "('A', 65, '0b1000001')"
      ]
     },
     "execution_count": 4,
     "metadata": {},
     "output_type": "execute_result"
    }
   ],
   "source": [
    "decode(65)\n",
    "    "
   ]
  },
  {
   "cell_type": "code",
   "execution_count": 6,
   "metadata": {},
   "outputs": [
    {
     "name": "stdout",
     "output_type": "stream",
     "text": [
      "('a', 97, '0b1100001')\n",
      "('b', 98, '0b1100010')\n",
      "('c', 99, '0b1100011')\n",
      "('d', 100, '0b1100100')\n",
      "('e', 101, '0b1100101')\n",
      "('f', 102, '0b1100110')\n",
      "('g', 103, '0b1100111')\n",
      "('h', 104, '0b1101000')\n",
      "('i', 105, '0b1101001')\n",
      "('j', 106, '0b1101010')\n",
      "('k', 107, '0b1101011')\n",
      "('l', 108, '0b1101100')\n",
      "('m', 109, '0b1101101')\n",
      "('n', 110, '0b1101110')\n",
      "('o', 111, '0b1101111')\n",
      "('p', 112, '0b1110000')\n",
      "('q', 113, '0b1110001')\n",
      "('r', 114, '0b1110010')\n",
      "('s', 115, '0b1110011')\n",
      "('t', 116, '0b1110100')\n",
      "('u', 117, '0b1110101')\n",
      "('v', 118, '0b1110110')\n",
      "('w', 119, '0b1110111')\n",
      "('x', 120, '0b1111000')\n",
      "('y', 121, '0b1111001')\n",
      "('z', 122, '0b1111010')\n"
     ]
    }
   ],
   "source": [
    "lettre = 97\n",
    "for i in range(26):\n",
    "    print(decode(lettre))\n",
    "    lettre += 1"
   ]
  },
  {
   "cell_type": "code",
   "execution_count": 11,
   "metadata": {},
   "outputs": [
    {
     "data": {
      "text/plain": [
       "('A', '0b1000001', '0x41')"
      ]
     },
     "execution_count": 11,
     "metadata": {},
     "output_type": "execute_result"
    }
   ],
   "source": [
    "def decode(nombre):\n",
    "    return chr(nombre),bin(nombre),hex(nombre)\n",
    "decode(65)"
   ]
  },
  {
   "cell_type": "markdown",
   "metadata": {},
   "source": [
    "<h3 class='fa fa-code' style=\"color: darkorange\"> A faire vous même n°5 :</h3>\n",
    "\n",
    "**Ecrire** un script qui affiche dans un tableau l'ensemble des caractères imprimables et leur code ASCII respectif"
   ]
  },
  {
   "cell_type": "code",
   "execution_count": 13,
   "metadata": {},
   "outputs": [
    {
     "name": "stdout",
     "output_type": "stream",
     "text": [
      "| dec     | bin        | \n",
      "|0        |0b0 \n",
      "|1        |0b1 \n",
      "|2        |0b10 \n",
      "|3        |0b11 \n",
      "|4        |0b100 \n",
      "|5        |0b101 \n",
      "|6        |0b110 \n",
      "|7        |0b111 \n",
      "|8        |0b1000 \n",
      "|9        |0b1001 \n",
      "|10        |0b1010 \n",
      "|11        |0b1011 \n",
      "|12        |0b1100 \n",
      "|13        |0b1101 \n",
      "|14        |0b1110 \n",
      "|15        |0b1111 \n",
      "|16        |0b10000 \n",
      "|17        |0b10001 \n",
      "|18        |0b10010 \n",
      "|19        |0b10011 \n",
      "|20        |0b10100 \n",
      "|21        |0b10101 \n",
      "|22        |0b10110 \n",
      "|23        |0b10111 \n",
      "|24        |0b11000 \n",
      "|25        |0b11001 \n",
      "|26        |0b11010 \n",
      "|27        |0b11011 \n",
      "|28        |0b11100 \n",
      "|29        |0b11101 \n",
      "|30        |0b11110 \n",
      "|31        |0b11111 \n",
      "|32        |0b100000 \n",
      "|33        |0b100001 \n",
      "|34        |0b100010 \n",
      "|35        |0b100011 \n",
      "|36        |0b100100 \n",
      "|37        |0b100101 \n",
      "|38        |0b100110 \n",
      "|39        |0b100111 \n",
      "|40        |0b101000 \n",
      "|41        |0b101001 \n",
      "|42        |0b101010 \n",
      "|43        |0b101011 \n",
      "|44        |0b101100 \n",
      "|45        |0b101101 \n",
      "|46        |0b101110 \n",
      "|47        |0b101111 \n",
      "|48        |0b110000 \n",
      "|49        |0b110001 \n",
      "|50        |0b110010 \n",
      "|51        |0b110011 \n",
      "|52        |0b110100 \n",
      "|53        |0b110101 \n",
      "|54        |0b110110 \n",
      "|55        |0b110111 \n",
      "|56        |0b111000 \n",
      "|57        |0b111001 \n",
      "|58        |0b111010 \n",
      "|59        |0b111011 \n",
      "|60        |0b111100 \n",
      "|61        |0b111101 \n",
      "|62        |0b111110 \n",
      "|63        |0b111111 \n",
      "|64        |0b1000000 \n",
      "|65        |0b1000001 \n",
      "|66        |0b1000010 \n",
      "|67        |0b1000011 \n",
      "|68        |0b1000100 \n",
      "|69        |0b1000101 \n",
      "|70        |0b1000110 \n",
      "|71        |0b1000111 \n",
      "|72        |0b1001000 \n",
      "|73        |0b1001001 \n",
      "|74        |0b1001010 \n",
      "|75        |0b1001011 \n",
      "|76        |0b1001100 \n",
      "|77        |0b1001101 \n",
      "|78        |0b1001110 \n",
      "|79        |0b1001111 \n",
      "|80        |0b1010000 \n",
      "|81        |0b1010001 \n",
      "|82        |0b1010010 \n",
      "|83        |0b1010011 \n",
      "|84        |0b1010100 \n",
      "|85        |0b1010101 \n",
      "|86        |0b1010110 \n",
      "|87        |0b1010111 \n",
      "|88        |0b1011000 \n",
      "|89        |0b1011001 \n",
      "|90        |0b1011010 \n",
      "|91        |0b1011011 \n",
      "|92        |0b1011100 \n",
      "|93        |0b1011101 \n",
      "|94        |0b1011110 \n",
      "|95        |0b1011111 \n",
      "|96        |0b1100000 \n",
      "|97        |0b1100001 \n",
      "|98        |0b1100010 \n",
      "|99        |0b1100011 \n",
      "|100        |0b1100100 \n",
      "|101        |0b1100101 \n",
      "|102        |0b1100110 \n",
      "|103        |0b1100111 \n",
      "|104        |0b1101000 \n",
      "|105        |0b1101001 \n",
      "|106        |0b1101010 \n",
      "|107        |0b1101011 \n",
      "|108        |0b1101100 \n",
      "|109        |0b1101101 \n",
      "|110        |0b1101110 \n",
      "|111        |0b1101111 \n",
      "|112        |0b1110000 \n",
      "|113        |0b1110001 \n",
      "|114        |0b1110010 \n",
      "|115        |0b1110011 \n",
      "|116        |0b1110100 \n",
      "|117        |0b1110101 \n",
      "|118        |0b1110110 \n",
      "|119        |0b1110111 \n",
      "|120        |0b1111000 \n",
      "|121        |0b1111001 \n",
      "|122        |0b1111010 \n",
      "|123        |0b1111011 \n",
      "|124        |0b1111100 \n",
      "|125        |0b1111101 \n",
      "|126        |0b1111110 \n",
      "|127        |0b1111111 \n",
      "|128        |0b10000000 \n",
      "|129        |0b10000001 \n",
      "|130        |0b10000010 \n",
      "|131        |0b10000011 \n",
      "|132        |0b10000100 \n",
      "|133        |0b10000101 \n",
      "|134        |0b10000110 \n",
      "|135        |0b10000111 \n",
      "|136        |0b10001000 \n",
      "|137        |0b10001001 \n",
      "|138        |0b10001010 \n",
      "|139        |0b10001011 \n",
      "|140        |0b10001100 \n",
      "|141        |0b10001101 \n",
      "|142        |0b10001110 \n",
      "|143        |0b10001111 \n",
      "|144        |0b10010000 \n",
      "|145        |0b10010001 \n",
      "|146        |0b10010010 \n",
      "|147        |0b10010011 \n",
      "|148        |0b10010100 \n",
      "|149        |0b10010101 \n",
      "|150        |0b10010110 \n",
      "|151        |0b10010111 \n",
      "|152        |0b10011000 \n",
      "|153        |0b10011001 \n",
      "|154        |0b10011010 \n",
      "|155        |0b10011011 \n",
      "|156        |0b10011100 \n",
      "|157        |0b10011101 \n",
      "|158        |0b10011110 \n",
      "|159        |0b10011111 \n",
      "|160        |0b10100000 \n",
      "|161        |0b10100001 \n",
      "|162        |0b10100010 \n",
      "|163        |0b10100011 \n",
      "|164        |0b10100100 \n",
      "|165        |0b10100101 \n",
      "|166        |0b10100110 \n",
      "|167        |0b10100111 \n",
      "|168        |0b10101000 \n",
      "|169        |0b10101001 \n",
      "|170        |0b10101010 \n",
      "|171        |0b10101011 \n",
      "|172        |0b10101100 \n",
      "|173        |0b10101101 \n",
      "|174        |0b10101110 \n",
      "|175        |0b10101111 \n",
      "|176        |0b10110000 \n",
      "|177        |0b10110001 \n",
      "|178        |0b10110010 \n",
      "|179        |0b10110011 \n",
      "|180        |0b10110100 \n",
      "|181        |0b10110101 \n",
      "|182        |0b10110110 \n",
      "|183        |0b10110111 \n",
      "|184        |0b10111000 \n",
      "|185        |0b10111001 \n",
      "|186        |0b10111010 \n",
      "|187        |0b10111011 \n",
      "|188        |0b10111100 \n",
      "|189        |0b10111101 \n",
      "|190        |0b10111110 \n",
      "|191        |0b10111111 \n",
      "|192        |0b11000000 \n",
      "|193        |0b11000001 \n",
      "|194        |0b11000010 \n",
      "|195        |0b11000011 \n",
      "|196        |0b11000100 \n",
      "|197        |0b11000101 \n",
      "|198        |0b11000110 \n",
      "|199        |0b11000111 \n",
      "|200        |0b11001000 \n",
      "|201        |0b11001001 \n",
      "|202        |0b11001010 \n",
      "|203        |0b11001011 \n",
      "|204        |0b11001100 \n",
      "|205        |0b11001101 \n",
      "|206        |0b11001110 \n",
      "|207        |0b11001111 \n",
      "|208        |0b11010000 \n",
      "|209        |0b11010001 \n",
      "|210        |0b11010010 \n",
      "|211        |0b11010011 \n",
      "|212        |0b11010100 \n",
      "|213        |0b11010101 \n",
      "|214        |0b11010110 \n",
      "|215        |0b11010111 \n",
      "|216        |0b11011000 \n",
      "|217        |0b11011001 \n",
      "|218        |0b11011010 \n",
      "|219        |0b11011011 \n",
      "|220        |0b11011100 \n",
      "|221        |0b11011101 \n",
      "|222        |0b11011110 \n",
      "|223        |0b11011111 \n",
      "|224        |0b11100000 \n",
      "|225        |0b11100001 \n",
      "|226        |0b11100010 \n",
      "|227        |0b11100011 \n",
      "|228        |0b11100100 \n",
      "|229        |0b11100101 \n",
      "|230        |0b11100110 \n",
      "|231        |0b11100111 \n",
      "|232        |0b11101000 \n",
      "|233        |0b11101001 \n",
      "|234        |0b11101010 \n",
      "|235        |0b11101011 \n",
      "|236        |0b11101100 \n",
      "|237        |0b11101101 \n",
      "|238        |0b11101110 \n",
      "|239        |0b11101111 \n",
      "|240        |0b11110000 \n",
      "|241        |0b11110001 \n",
      "|242        |0b11110010 \n",
      "|243        |0b11110011 \n",
      "|244        |0b11110100 \n",
      "|245        |0b11110101 \n",
      "|246        |0b11110110 \n",
      "|247        |0b11110111 \n",
      "|248        |0b11111000 \n",
      "|249        |0b11111001 \n",
      "|250        |0b11111010 \n",
      "|251        |0b11111011 \n",
      "|252        |0b11111100 \n",
      "|253        |0b11111101 \n",
      "|254        |0b11111110 \n",
      "|255        |0b11111111 \n",
      "\n"
     ]
    }
   ],
   "source": [
    "chaine = \"| dec     | bin        | \" + \"\\n\" \n",
    "for i in range(256) :\n",
    "    chaine += f\"|{i}        |{bin(i)} \" + \"\\n\"\n",
    "print(chaine)"
   ]
  },
  {
   "cell_type": "markdown",
   "metadata": {},
   "source": [
    "<h3 class='fa fa-code' style=\"color: tomato\"> A faire vous même n°6 :</h3>\n",
    "\n",
    "**Ecrire** une fonction `minuscule()` qui prend en argument une lettre majuscule et renvoie la lettre minuscule correspondante."
   ]
  },
  {
   "cell_type": "code",
   "execution_count": 4,
   "metadata": {},
   "outputs": [],
   "source": [
    "def minuscule_facile(lettre):\n",
    "    return lettre.lower()"
   ]
  },
  {
   "cell_type": "code",
   "execution_count": 5,
   "metadata": {},
   "outputs": [
    {
     "data": {
      "text/plain": [
       "'a'"
      ]
     },
     "execution_count": 5,
     "metadata": {},
     "output_type": "execute_result"
    }
   ],
   "source": [
    "minuscule_facile(\"A\")"
   ]
  },
  {
   "cell_type": "markdown",
   "metadata": {},
   "source": [
    "## L'art ASCII :\n",
    "\n",
    "***\n",
    "> De [l’art ASCII](https://fr.wikipedia.org/wiki/Art_ASCII) (prononcé [aski:]) consiste à créer des images uniquement à l'aide des lettres et caractères spéciaux contenus dans l'American Standard Code for Information Interchange [ASCII](https://fr.wikipedia.org/wiki/American_Standard_Code_for_Information_Interchange) \n",
    ">\n",
    "> C'est l'ancêtre des [émoticônes](https://fr.wikipedia.org/wiki/Émoticône)...  ;-)\n",
    "\n",
    "<img src=\"https://ericecmorlaix.github.io/img/aSki.jpg\" alt=\"dessin skieur\" width=40%>\n",
    "<center>Art ASCII ou art à ski ?</center>\n",
    "\n",
    "***\n",
    "\n",
    "Les caractères peuvent être saisis directement par leur code ASCII en utilisant la notation ``\\xhh`` où ``hh`` est le code hexadécimal du caractère."
   ]
  },
  {
   "cell_type": "code",
   "execution_count": 65,
   "metadata": {},
   "outputs": [
    {
     "name": "stdout",
     "output_type": "stream",
     "text": [
      "      \\|||/\n",
      "      (0 0)\n",
      ".~ooO~~(_)~~~~~~.\n",
      "|               |\n",
      "|  L'art ASCII  |\n",
      "|               |\n",
      "'~~~~~~~~~~~ooO~'\n",
      "     (  )(  )\n",
      "      ( )( )\n",
      "     ooO Ooo\n",
      "\n"
     ]
    }
   ],
   "source": [
    "S = '\\x20' * 6 + '\\x5c' + '\\x7c' * 3 + '\\x2f' + \"\\n\"\n",
    "S += '\\x20' * 6 + '(0 0)' + \"\\n\"\n",
    "S += '\\x2e\\x7e\\x6f\\x6f\\x4f\\x7e\\x7e(\\x5f)' + '\\x7e' * 6 + '\\x2e' + \"\\n\"\n",
    "\n",
    "for i in range (0,3):\n",
    "    if i == 1 :\n",
    "        S += '\\x7c  L\\'art ASCII  \\x7c' + \"\\n\"\n",
    "    else :\n",
    "        S += '\\x7c' + '\\x20' * 15 + '\\x7c' + \"\\n\"\n",
    "    \n",
    "S += \"\\x27\" + '\\x7e' * 11 + \"\\x6f\\x6f\\x4f\\x7e\\x27\" + \"\\n\"\n",
    "\n",
    "S += '\\x20' * 5 + '\\x28' + '  \\x29' + '\\x28' + '  \\x29' + \"\\n\"\n",
    "S += '\\x20' * 6 + '\\x28' + ' \\x29' + '\\x28' + ' \\x29'+ \"\\n\"\n",
    "S += '\\x20' * 5 + '\\x6f' * 2 + '\\x4f\\x20\\x4f' + '\\x6f'*2 + \"\\n\"\n",
    "\n",
    "print(S)"
   ]
  },
  {
   "cell_type": "markdown",
   "metadata": {},
   "source": [
    "<h3 class='fa fa-rocket' style=\"color: tomato\"> Prolongement :</h3>\n",
    "\n",
    "**Développer** votre avatar en Art ASCII pour signer les entêtes de vos programmes et les docstrings de vos fonctions..."
   ]
  },
  {
   "cell_type": "code",
   "execution_count": 66,
   "metadata": {},
   "outputs": [
    {
     "name": "stdout",
     "output_type": "stream",
     "text": [
      "        /\\_/\\\n",
      "       / o o \\\n",
      "       \\ ( ) /\n",
      "        \\___/\n",
      "\n"
     ]
    }
   ],
   "source": [
    "S =  '\\x20'* 8 + '\\x2f' + '\\x5c' +'\\x5f' + '\\x2f' + '\\x5c' \"\\n\"\n",
    "S += '\\x20'* 7 + '\\x2f' +  ' o o' +   ' \\x5c' + \"\\n\"\n",
    "S += '\\x20'* 7 + '\\x5c' +  ' ( )'  + ' \\x2f' + \"\\n\"\n",
    "S += '\\x20'* 8 +  '\\x5c' + '\\x5f' * 3 + '\\x2f' +\"\\n\" \n",
    "\n",
    "\n",
    "\n",
    "print(S)\n"
   ]
  },
  {
   "cell_type": "code",
   "execution_count": null,
   "metadata": {},
   "outputs": [],
   "source": []
  },
  {
   "cell_type": "markdown",
   "metadata": {},
   "source": [
    "## Vers l'UTF8 :\n",
    "\n",
    "La nécessité de représenter des textes comportant des caractères non présents dans la table ASCII tels ceux de l'alphabet latin utilisés en français comme le 'à', le 'é' ou le 'ç' impose l'utilisation d'un autre codage que l'ASCII.\n",
    "\n",
    "Plusieurs propositions de codage coexistent.\n",
    "\n",
    "Afin de faciliter les choses, ces propositions sont des extensions du codage ASCII :\n",
    "\n",
    "- le codage des caractères présents dans la table ASCII est conservé ;\n",
    "- le principe du codage de chacun des caractères sur un octet est conservé.\n",
    "\n",
    "Mais les 8 bits de l'octet vont être utilisés. Cela permet de coder $2^8 = 256$ caractères, soit 128 caractères supplémentaires.\n",
    "\n",
    "L'ISO, organisation internationale de normalisation, propose de son côté plusieurs variantes de codages adaptées aux différentes langues. La plus utilisée concerne les langues européennes occidentales. Il s'agit de l'**ISO-8859-1**, aussi nommé **ISO-Latin1**.\n",
    "\n",
    "Microsoft propose le codage dit **Windows-1252** (encore appelé ANSI, bien que cela puisse paraître abusif, l'ANSI, American National Standards Institute, n'ayant jamais validé cette table !).\n",
    "\n",
    "Ce codage ne diffère de l'ISO-8859-1 que pour quelques caractères tels le signe euro, €, la ligature o-e, œ, ou certains guillemets qui utilisent des codes réservés par ISO-Latin-1 pour des caractères de contrôle.\n",
    "\n",
    "Et les autres langues ?\n",
    "À l'évidence, 256 caractères ne suffisant pas pour représenter les lettres de tous les alphabets utilisés (pensons au russe, à l'hébreu, etc.), un nouveau standard a été introduit au début des années 1990 : **Unicode**.\n",
    "\n",
    "La table [**Unicode**](https://fr.wikipedia.org/wiki/Unicode) comporte la définition de près de cent cinquante mille caractères. Cependant on ne l'utilise pas directement au risque d'augmenter considérablement la taille des fichiers...\n",
    "\n",
    "Le codage le plus couramment utilisé se nomme **UTF-8**. Son principe est le suivant : une première série de caractères sont codés sur un octet. D'autres caractères sont codés sur deux octets. \n",
    "\n",
    "Les 128 premiers caractères de la table UTF-8 sont compatibles avec le codage ASCII. Ainsi le codage UTF-8 d'un texte ne comportant que des caractères présents dans la table ASCII sera le même que le codage ASCII de ce texte.\n",
    "\n",
    "Ce ne sera pas vrai pour un texte ISO-Latin-1.\n",
    "\n",
    "Il importe donc, quand on veut décoder un texte, de savoir quel est le codage utilisé sous peine de décoder improprement les caractères.\n",
    "\n",
    "**C'est pourquoi, on utilisera un encodage en UTF-8...**"
   ]
  },
  {
   "cell_type": "code",
   "execution_count": 7,
   "metadata": {},
   "outputs": [
    {
     "name": "stdout",
     "output_type": "stream",
     "text": [
      "Help on built-in function chr in module builtins:\n",
      "\n",
      "chr(i, /)\n",
      "    Return a Unicode string of one character with ordinal i; 0 <= i <= 0x10ffff.\n",
      "\n"
     ]
    }
   ],
   "source": [
    "help(chr)"
   ]
  },
  {
   "cell_type": "code",
   "execution_count": 8,
   "metadata": {},
   "outputs": [
    {
     "name": "stdout",
     "output_type": "stream",
     "text": [
      "Help on built-in function ord in module builtins:\n",
      "\n",
      "ord(c, /)\n",
      "    Return the Unicode code point for a one-character string.\n",
      "\n"
     ]
    }
   ],
   "source": [
    "help(ord)"
   ]
  },
  {
   "cell_type": "markdown",
   "metadata": {},
   "source": [
    "<h3 class='fa fa-graduation-cap' style=\"color: MediumSeaGreen\"> Exercice d'application n°1 :</h3>\n",
    "\n",
    "1. **Rechercher** avec un programme les codes numériques des lettres é, è, ê, à, â, ï, ç et ù.\n",
    "2. Même question pour les majuscules accentuées.\n",
    "3. **Écrire** une fonction qui prend en paramètres deux entiers et qui affiche toutes les lettres dont les codes numériques sont compris entre ces deux entiers.\n",
    "4. Sauriez vous décoder cette exclamation en Binaire : `010000100111001001100001011101100110111100100001`\n",
    "5. Peut-on coder cette phrase avec la table ASCII : \"un âne est passé par là\" (justifier la réponse)"
   ]
  },
  {
   "cell_type": "markdown",
   "metadata": {},
   "source": [
    "1)\n",
    "\n",
    "é -> Exx9\n",
    "\n",
    "è -> Exx8\n",
    "\n",
    "ê -> ExxA\n",
    "\n",
    "à -> Exx0\n",
    "\n",
    "â -> Exx2\n",
    "\n",
    "ï -> ExxF\n",
    "\n",
    "ç -> Exx7\n",
    "\n",
    "ù -> Fxx9"
   ]
  },
  {
   "cell_type": "markdown",
   "metadata": {},
   "source": [
    "2)\n",
    "\n",
    "\n",
    "É -> Cxx9\n",
    "\n",
    "È -> Cxx8\n",
    "\n",
    "Ê -> CxxA\n",
    "\n",
    "À -> Cxx0\n",
    "\n",
    "Â -> Cxx2\n",
    "\n",
    "Ï -> CxxF\n",
    "\n",
    "Ç -> Cxx7\n",
    "\n",
    "Ù -> Dxx9"
   ]
  },
  {
   "cell_type": "code",
   "execution_count": 1,
   "metadata": {},
   "outputs": [
    {
     "ename": "NameError",
     "evalue": "name 'decode' is not defined",
     "output_type": "error",
     "traceback": [
      "\u001b[0;31m---------------------------------------------------------------------------\u001b[0m",
      "\u001b[0;31mNameError\u001b[0m                                 Traceback (most recent call last)",
      "\u001b[0;32m<ipython-input-1-b04588e4c8ff>\u001b[0m in \u001b[0;36m<module>\u001b[0;34m\u001b[0m\n\u001b[1;32m      1\u001b[0m \u001b[0;32mfor\u001b[0m \u001b[0mi\u001b[0m \u001b[0;32min\u001b[0m \u001b[0mrange\u001b[0m\u001b[0;34m(\u001b[0m\u001b[0;36m22\u001b[0m\u001b[0;34m,\u001b[0m \u001b[0;36m65\u001b[0m\u001b[0;34m)\u001b[0m\u001b[0;34m:\u001b[0m\u001b[0;34m\u001b[0m\u001b[0;34m\u001b[0m\u001b[0m\n\u001b[0;32m----> 2\u001b[0;31m     \u001b[0mdecode\u001b[0m\u001b[0;34m(\u001b[0m\u001b[0;36m22\u001b[0m\u001b[0;34m)\u001b[0m\u001b[0;34m\u001b[0m\u001b[0;34m\u001b[0m\u001b[0m\n\u001b[0m",
      "\u001b[0;31mNameError\u001b[0m: name 'decode' is not defined"
     ]
    }
   ],
   "source": [
    "#for i in range(22, 65):\n",
    "   # decode(22)"
   ]
  },
  {
   "cell_type": "code",
   "execution_count": 31,
   "metadata": {},
   "outputs": [],
   "source": [
    "#def decode(chiffre):\n",
    "   # return chr(chiffre),chiffre,bin(chiffre)"
   ]
  },
  {
   "cell_type": "code",
   "execution_count": 32,
   "metadata": {},
   "outputs": [
    {
     "data": {
      "text/plain": [
       "('A', '0b1000001', '0x41')"
      ]
     },
     "execution_count": 32,
     "metadata": {},
     "output_type": "execute_result"
    }
   ],
   "source": [
    "#def decode(nombre):\n",
    "   # return chr(nombre),bin(nombre),hex(nombre)\n",
    "#decode(65)\n",
    "\n",
    "   "
   ]
  },
  {
   "cell_type": "code",
   "execution_count": 26,
   "metadata": {},
   "outputs": [],
   "source": [
    "#for i in range(50):\n",
    "    #decode(65)   \n",
    "\n"
   ]
  },
  {
   "cell_type": "markdown",
   "metadata": {},
   "source": [
    "4) b r a v o !"
   ]
  },
  {
   "cell_type": "markdown",
   "metadata": {},
   "source": [
    "5) Non car elle contient des caractères speciaux comme le \"â\""
   ]
  },
  {
   "cell_type": "markdown",
   "metadata": {},
   "source": [
    "<h3 class='fa fa-graduation-cap' style=\"color: MediumSeaGreen\"> Exercice d'application n°2 :</h3>\n",
    "\n",
    "*Extrait du livre [Hatier Prépabac 1<sup>ère</sup> NSI](https://www.editions-hatier.fr/livre/nsi-1re-generale-numerique-et-sciences-informatiques-prepabac-9782401052307) de Céline ADOBET, Guillaume CONNAN, Gérard ROZSAVOLGYL, Laurent SIGNAC.*\n",
    "\n",
    "En UTF-8, le codage des caractères coïncide avec l'ASCII pour les 128 premiers caractères et les autres caractères sont représentés par plusieurs octets.\n",
    "\n",
    "La série d'octets suivants, donnés en hexadécimal, a été relevée dans un fichier codé en UTF-8.\n",
    "<center><pre>43 6F 64 C3 A9 20 65 6E 20 55 54 46 2D 38</pre></center>\n",
    "\n",
    "Il contient uniquement des caractères de la table ASCII à l'exeption d'un \" é \".\n",
    "\n",
    "1. Quelle est la séquence d'octets qui représente le \" é \", et qu'est-ce qui est écrit dans le fichier ?\n",
    "\n",
    "2. Si le fichier avait été interprété en latin 1 (table ci-dessous), qu'est-ce qui se serait affiché ?\n",
    "\n",
    "<center>\n",
    "<figure>\n",
    "<table class=\"wikitable\" style=\"border-collapse:collapse;line-height:1.4;text-align:center\">\n",
    "\n",
    "<tbody><tr>\n",
    "<th colspan=\"17\" style=\"background-color:#FFCCBB\">ISO/CEI 8859-1\n",
    "</th></tr>\n",
    "<tr>\n",
    "<th>&#160;\n",
    "</th>\n",
    "<th style=\"width:2.5em\">0</th>\n",
    "<th style=\"width:2.5em\">1</th>\n",
    "<th style=\"width:2.5em\">2</th>\n",
    "<th style=\"width:2.5em\">3\n",
    "</th>\n",
    "<th style=\"width:2.5em\">4</th>\n",
    "<th style=\"width:2.5em\">5</th>\n",
    "<th style=\"width:2.5em\">6</th>\n",
    "<th style=\"width:2.5em\">7\n",
    "</th>\n",
    "<th style=\"width:2.5em\">8</th>\n",
    "<th style=\"width:2.5em\">9</th>\n",
    "<th style=\"width:2.5em\">A</th>\n",
    "<th style=\"width:2.5em\">B\n",
    "</th>\n",
    "<th style=\"width:2.5em\">C</th>\n",
    "<th style=\"width:2.5em\">D</th>\n",
    "<th style=\"width:2.5em\">E</th>\n",
    "<th style=\"width:2.5em\">F\n",
    "</th></tr>\n",
    "<tr>\n",
    "<th>0\n",
    "</th>\n",
    "<td rowspan=\"2\" colspan=\"16\" style=\"background:#DDDDDD\"><i>positions inutilisées</i>\n",
    "</td></tr>\n",
    "<tr>\n",
    "<th>1\n",
    "</th></tr>\n",
    "<tr>\n",
    "<th>2\n",
    "</th>\n",
    "<td><small style=\"border:1px dotted;padding:0 0.3em;color:#AAAAAA;font-size:87%\">SP</small></td>\n",
    "<td>!</td>\n",
    "<td>\"</td>\n",
    "<td>#</td>\n",
    "<td>$</td>\n",
    "<td>%</td>\n",
    "<td>&amp;</td>\n",
    "<td>'</td>\n",
    "<td>(</td>\n",
    "<td>)</td>\n",
    "<td>*</td>\n",
    "<td>+</td>\n",
    "<td>,</td>\n",
    "<td>-</td>\n",
    "<td>.</td>\n",
    "<td>/\n",
    "</td></tr>\n",
    "<tr>\n",
    "<th>3\n",
    "</th>\n",
    "<td>0</td>\n",
    "<td>1</td>\n",
    "<td>2</td>\n",
    "<td>3</td>\n",
    "<td>4</td>\n",
    "<td>5</td>\n",
    "<td>6</td>\n",
    "<td>7</td>\n",
    "<td>8</td>\n",
    "<td>9</td>\n",
    "<td>:</td>\n",
    "<td>;</td>\n",
    "<td>&lt;</td>\n",
    "<td>=</td>\n",
    "<td>&gt;</td>\n",
    "<td>?\n",
    "</td></tr>\n",
    "<tr>\n",
    "<th>4\n",
    "</th>\n",
    "<td>@</td>\n",
    "<td>A</td>\n",
    "<td>B</td>\n",
    "<td>C</td>\n",
    "<td>D</td>\n",
    "<td>E</td>\n",
    "<td>F</td>\n",
    "<td>G</td>\n",
    "<td>H</td>\n",
    "<td>I</td>\n",
    "<td>J</td>\n",
    "<td>K</td>\n",
    "<td>L</td>\n",
    "<td>M</td>\n",
    "<td>N</td>\n",
    "<td>O\n",
    "</td></tr>\n",
    "<tr>\n",
    "<th>5\n",
    "</th>\n",
    "<td>P</td>\n",
    "<td>Q</td>\n",
    "<td>R</td>\n",
    "<td>S</td>\n",
    "<td>T</td>\n",
    "<td>U</td>\n",
    "<td>V</td>\n",
    "<td>W</td>\n",
    "<td>X</td>\n",
    "<td>Y</td>\n",
    "<td>Z</td>\n",
    "<td>[</td>\n",
    "<td>\\</td>\n",
    "<td>]</td>\n",
    "<td>^</td>\n",
    "<td>_\n",
    "</td></tr>\n",
    "<tr>\n",
    "<th>6\n",
    "</th>\n",
    "<td>`</td>\n",
    "<td>a</td>\n",
    "<td>b</td>\n",
    "<td>c</td>\n",
    "<td>d</td>\n",
    "<td>e</td>\n",
    "<td>f</td>\n",
    "<td>g</td>\n",
    "<td>h</td>\n",
    "<td>i</td>\n",
    "<td>j</td>\n",
    "<td>k</td>\n",
    "<td>l</td>\n",
    "<td>m</td>\n",
    "<td>n</td>\n",
    "<td>o\n",
    "</td></tr>\n",
    "<tr>\n",
    "<th>7\n",
    "</th>\n",
    "<td>p</td>\n",
    "<td>q</td>\n",
    "<td>r</td>\n",
    "<td>s</td>\n",
    "<td>t</td>\n",
    "<td>u</td>\n",
    "<td>v</td>\n",
    "<td>w</td>\n",
    "<td>x</td>\n",
    "<td>y</td>\n",
    "<td>z</td>\n",
    "<td>{</td>\n",
    "<td>|</td>\n",
    "<td>}</td>\n",
    "<td>~</td>\n",
    "<td style=\"border-bottom:none;background:#DDDDDD\">\n",
    "</td></tr>\n",
    "<tr>\n",
    "<th>8\n",
    "</th>\n",
    "<td rowspan=\"2\" colspan=\"16\" style=\"background:#DDDDDD;text-align:center\"><i>positions inutilisées</i>\n",
    "</td></tr>\n",
    "<tr>\n",
    "<th>9\n",
    "</th></tr>\n",
    "<tr>\n",
    "<th>A\n",
    "</th>\n",
    "<td><span style=\"border:1px dotted;padding:0 0.3em;color:#AAAAAA;font-size:87%\">NBSP</span></td>\n",
    "<td>¡</td>\n",
    "<td>¢</td>\n",
    "<td>£</td>\n",
    "<td>¤</td>\n",
    "<td>¥</td>\n",
    "<td>¦</td>\n",
    "<td>§</td>\n",
    "<td>¨</td>\n",
    "<td>©</td>\n",
    "<td>ª</td>\n",
    "<td>«</td>\n",
    "<td>¬</td>\n",
    "<td><span style=\"border:1px dotted;padding:0 0.3em;color:#AAAAAA\">-</span></td>\n",
    "<td>®</td>\n",
    "<td>¯\n",
    "</td></tr>\n",
    "<tr>\n",
    "<th>B\n",
    "</th>\n",
    "<td>°</td>\n",
    "<td>±</td>\n",
    "<td>²</td>\n",
    "<td>³</td>\n",
    "<td>´</td>\n",
    "<td>µ</td>\n",
    "<td>¶</td>\n",
    "<td>·</td>\n",
    "<td>¸</td>\n",
    "<td>¹</td>\n",
    "<td>º</td>\n",
    "<td>»</td>\n",
    "<td>¼</td>\n",
    "<td>½</td>\n",
    "<td>¾</td>\n",
    "<td>¿\n",
    "</td></tr>\n",
    "<tr>\n",
    "<th>C\n",
    "</th>\n",
    "<td>À</td>\n",
    "<td>Á</td>\n",
    "<td>Â</td>\n",
    "<td>Ã</td>\n",
    "<td>Ä</td>\n",
    "<td>Å</td>\n",
    "<td>Æ</td>\n",
    "<td>Ç</td>\n",
    "<td>È</td>\n",
    "<td>É</td>\n",
    "<td>Ê</td>\n",
    "<td>Ë</td>\n",
    "<td>Ì</td>\n",
    "<td>Í</td>\n",
    "<td>Î</td>\n",
    "<td>Ï\n",
    "</td></tr>\n",
    "<tr>\n",
    "<th>D\n",
    "</th>\n",
    "<td>Ð</td>\n",
    "<td>Ñ</td>\n",
    "<td>Ò</td>\n",
    "<td>Ó</td>\n",
    "<td>Ô</td>\n",
    "<td>Õ</td>\n",
    "<td>Ö</td>\n",
    "<td>×</td>\n",
    "<td>Ø</td>\n",
    "<td>Ù</td>\n",
    "<td>Ú</td>\n",
    "<td>Û</td>\n",
    "<td>Ü</td>\n",
    "<td>Ý</td>\n",
    "<td>Þ</td>\n",
    "<td>ß\n",
    "</td></tr>\n",
    "<tr>\n",
    "<th>E\n",
    "</th>\n",
    "<td>à</td>\n",
    "<td>á</td>\n",
    "<td>â</td>\n",
    "<td>ã</td>\n",
    "<td>ä</td>\n",
    "<td>å</td>\n",
    "<td>æ</td>\n",
    "<td>ç</td>\n",
    "<td>è</td>\n",
    "<td>é</td>\n",
    "<td>ê</td>\n",
    "<td>ë</td>\n",
    "<td>ì</td>\n",
    "<td>í</td>\n",
    "<td>î</td>\n",
    "<td>ï\n",
    "</td></tr>\n",
    "<tr>\n",
    "<th>F\n",
    "</th>\n",
    "<td>ð</td>\n",
    "<td>ñ</td>\n",
    "<td>ò</td>\n",
    "<td>ó</td>\n",
    "<td>ô</td>\n",
    "<td>õ</td>\n",
    "<td>ö</td>\n",
    "<td>÷</td>\n",
    "<td>ø</td>\n",
    "<td>ù</td>\n",
    "<td>ú</td>\n",
    "<td>û</td>\n",
    "<td>ü</td>\n",
    "<td>ý</td>\n",
    "<td>þ</td>\n",
    "<td>ÿ\n",
    "</td></tr></tbody></table>\n",
    "<figcaption><a href=\"https://fr.wikipedia.org/wiki/ISO/CEI_8859-1\">source = wikipedia ISO/CEI_8859-1</a></figcaption>\n",
    "</figure>\n",
    "</center>\n",
    "\n",
    "Demander une correction à [Martine](https://www.apprendre-en-ligne.net/bloginfo/index.php/2009/01/21/151-martine-ecrit-en-utf-8) et/ou vérifier votre réponse à l'aide de la fonction Python suivante :"
   ]
  },
  {
   "cell_type": "markdown",
   "metadata": {},
   "source": [
    "é = E9 \n",
    "\n",
    "fichier = Codé en UTF-8"
   ]
  },
  {
   "cell_type": "markdown",
   "metadata": {},
   "source": [
    "CodÂ en UTF-8"
   ]
  },
  {
   "cell_type": "code",
   "execution_count": 3,
   "metadata": {},
   "outputs": [],
   "source": [
    "def code_decode(lettre):\n",
    "    a = lettre.encode('utf8')\n",
    "    b = a.decode('latin_1')\n",
    "    return b"
   ]
  },
  {
   "cell_type": "code",
   "execution_count": 4,
   "metadata": {},
   "outputs": [
    {
     "data": {
      "text/plain": [
       "'Ã©'"
      ]
     },
     "execution_count": 4,
     "metadata": {},
     "output_type": "execute_result"
    }
   ],
   "source": [
    "code_decode('é')"
   ]
  },
  {
   "cell_type": "markdown",
   "metadata": {},
   "source": [
    "****\n",
    "## Références aux programmes :\n",
    "\n",
    "<style type=\"text/css\">\n",
    ".tg  {border-collapse:collapse;border-spacing:0;}\n",
    ".tg td{font-family:Arial, sans-serif;font-size:14px;padding:10px 5px;border-style:solid;border-width:1px;overflow:hidden;word-break:normal;border-color:black;}\n",
    ".tg th{font-family:Arial, sans-serif;font-size:14px;font-weight:normal;padding:10px 5px;border-style:solid;border-width:1px;overflow:hidden;word-break:normal;border-color:black;}\n",
    ".tg .tg-cv16{font-weight:bold;background-color:#dae8fc;border-color:inherit;text-align:center}\n",
    ".tg .tg-xldj{border-color:inherit;text-align:left}\n",
    "</style>\n",
    "<table class=\"tg\">\n",
    "  <tr>\n",
    "    <th class=\"tg-cv16\">Compétences développées</th>\n",
    "    <th class=\"tg-cv16\">Capacités attendues</th>\n",
    "    <th class=\"tg-cv16\">Commentaires</th>\n",
    "  </tr>\n",
    "  <tr>\n",
    "    <td class=\"tg-xldj\">Représentation d’un texte en machine.<br><br>Exemples des encodages ASCII, ISO-8859-1, Unicode</td>\n",
    "    <td class=\"tg-xldj\">Identifier l’intérêt des différents systèmes d’encodage.<br><br>Convertir un fichier texte dans différents formats d’encodage.</td>\n",
    "    <td class=\"tg-xldj\">Aucune connaissance précise des normes d’encodage n’est exigible.</td>\n",
    "  </tr>\n",
    "</table>"
   ]
  },
  {
   "cell_type": "markdown",
   "metadata": {},
   "source": [
    "<a rel=\"license\" href=\"http://creativecommons.org/licenses/by-sa/4.0/\"><img alt=\"Licence Creative Commons\" style=\"border-width:0\" src=\"https://i.creativecommons.org/l/by-sa/4.0/88x31.png\" /></a><br />Ce document est mis à disposition selon les termes de la <a rel=\"license\" href=\"http://creativecommons.org/licenses/by-sa/4.0/\">Licence Creative Commons Attribution -  Partage dans les Mêmes Conditions 4.0 International</a>.\n",
    "\n",
    "Pour toute question, suggestion ou commentaire : <a href=\"mailto:eric.madec@ecmorlaix.fr\">eric.madec@ecmorlaix.fr</a>"
   ]
  }
 ],
 "metadata": {
  "kernelspec": {
   "display_name": "Python 3",
   "language": "python",
   "name": "python3"
  },
  "language_info": {
   "codemirror_mode": {
    "name": "ipython",
    "version": 3
   },
   "file_extension": ".py",
   "mimetype": "text/x-python",
   "name": "python",
   "nbconvert_exporter": "python",
   "pygments_lexer": "ipython3",
   "version": "3.7.8"
  },
  "toc": {
   "base_numbering": 1,
   "nav_menu": {},
   "number_sections": true,
   "sideBar": true,
   "skip_h1_title": false,
   "title_cell": "Table of Contents",
   "title_sidebar": "Contents",
   "toc_cell": false,
   "toc_position": {},
   "toc_section_display": true,
   "toc_window_display": false
  },
  "varInspector": {
   "cols": {
    "lenName": 16,
    "lenType": 16,
    "lenVar": 40
   },
   "kernels_config": {
    "python": {
     "delete_cmd_postfix": "",
     "delete_cmd_prefix": "del ",
     "library": "var_list.py",
     "varRefreshCmd": "print(var_dic_list())"
    },
    "r": {
     "delete_cmd_postfix": ") ",
     "delete_cmd_prefix": "rm(",
     "library": "var_list.r",
     "varRefreshCmd": "cat(var_dic_list()) "
    }
   },
   "types_to_exclude": [
    "module",
    "function",
    "builtin_function_or_method",
    "instance",
    "_Feature"
   ],
   "window_display": false
  }
 },
 "nbformat": 4,
 "nbformat_minor": 2
}
