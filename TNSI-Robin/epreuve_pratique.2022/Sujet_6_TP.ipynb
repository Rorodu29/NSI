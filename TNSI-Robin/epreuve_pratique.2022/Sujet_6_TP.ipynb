{
 "cells": [
  {
   "cell_type": "markdown",
   "metadata": {},
   "source": [
    "Exercice 1 :\n",
    "\n",
    "\n",
    "Écrire une fonction maxi qui prend en paramètre une liste tab de nombres entiers et renvoie un couple donnant le plus grand élément de cette liste, \n",
    "ainsi que l’indice de la première apparition de ce maximum dans la liste.\n",
    "\n"
   ]
  },
  {
   "cell_type": "code",
   "execution_count": 1,
   "metadata": {},
   "outputs": [],
   "source": [
    "def maxi(tab):\n",
    "    val_max = tab[0]\n",
    "    pos_max = 0\n",
    "    for i in range(len(tab)):\n",
    "        if tab[i] > val_max:\n",
    "            val_max = tab[i]\n",
    "            pos_max = i\n",
    "    return (val_max, pos_max)\n"
   ]
  },
  {
   "cell_type": "code",
   "execution_count": 2,
   "metadata": {},
   "outputs": [
    {
     "data": {
      "text/plain": [
       "(9, 3)"
      ]
     },
     "execution_count": 2,
     "metadata": {},
     "output_type": "execute_result"
    }
   ],
   "source": [
    "maxi([1,5,6,9,1,2,3,7,9,8])"
   ]
  },
  {
   "cell_type": "markdown",
   "metadata": {},
   "source": [
    "Exercice 2 :\n",
    "\n",
    "La fonction recherche prend en paramètres deux chaines de caractères gene et seq_adn et renvoie True si on retrouve gene dans seq_adn et False sinon. \n",
    "Compléter le code Python ci-dessous pour qu’il implémente la fonction recherche."
   ]
  },
  {
   "cell_type": "code",
   "execution_count": 3,
   "metadata": {},
   "outputs": [],
   "source": [
    "def recherche(gene, seq_adn):\n",
    "    n = len(seq_adn)\n",
    "    g = len(gene)\n",
    "    i = 0\n",
    "    trouve = False\n",
    "    while i < n-g+1 and trouve == False :\n",
    "        j = 0\n",
    "        while j < g and gene[j] == seq_adn[i+j]:\n",
    "            j += 1\n",
    "        if j == g:\n",
    "            trouve = True\n",
    "        i += 1\n",
    "    return trouve"
   ]
  },
  {
   "cell_type": "code",
   "execution_count": 4,
   "metadata": {},
   "outputs": [
    {
     "data": {
      "text/plain": [
       "True"
      ]
     },
     "execution_count": 4,
     "metadata": {},
     "output_type": "execute_result"
    }
   ],
   "source": [
    "recherche(\"AATC\", \"GTACAAATCTTGCC\")"
   ]
  },
  {
   "cell_type": "code",
   "execution_count": 5,
   "metadata": {},
   "outputs": [
    {
     "data": {
      "text/plain": [
       "False"
      ]
     },
     "execution_count": 5,
     "metadata": {},
     "output_type": "execute_result"
    }
   ],
   "source": [
    "recherche(\"AGTC\", \"GTACAAATCTTGCC\")"
   ]
  }
 ],
 "metadata": {
  "interpreter": {
   "hash": "a4582a75a41fb78247f9e0d5ac5dcfbd0ffd857e3944b83ed2a96ac364b75fd7"
  },
  "kernelspec": {
   "display_name": "Python 3.9.1 64-bit",
   "language": "python",
   "name": "python3"
  },
  "language_info": {
   "codemirror_mode": {
    "name": "ipython",
    "version": 3
   },
   "file_extension": ".py",
   "mimetype": "text/x-python",
   "name": "python",
   "nbconvert_exporter": "python",
   "pygments_lexer": "ipython3",
   "version": "3.9.1"
  },
  "orig_nbformat": 4
 },
 "nbformat": 4,
 "nbformat_minor": 2
}
