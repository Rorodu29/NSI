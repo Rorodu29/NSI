{
 "cells": [
  {
   "cell_type": "code",
   "execution_count": 1,
   "metadata": {},
   "outputs": [],
   "source": [
    "def delta(tab):\n",
    "    diff = [tab[0]]\n",
    "    for i in range(1, len(tab)):\n",
    "        diff.append(tab[i] - tab[i-1])\n",
    "    return diff"
   ]
  },
  {
   "cell_type": "code",
   "execution_count": 2,
   "metadata": {},
   "outputs": [
    {
     "data": {
      "text/plain": [
       "[1000, -200, 2, 198, 3]"
      ]
     },
     "execution_count": 2,
     "metadata": {},
     "output_type": "execute_result"
    }
   ],
   "source": [
    "delta([1000, 800, 802, 1000, 1003])"
   ]
  },
  {
   "cell_type": "code",
   "execution_count": 3,
   "metadata": {},
   "outputs": [
    {
     "data": {
      "text/plain": [
       "[42]"
      ]
     },
     "execution_count": 3,
     "metadata": {},
     "output_type": "execute_result"
    }
   ],
   "source": [
    "delta([42])"
   ]
  },
  {
   "cell_type": "code",
   "execution_count": null,
   "metadata": {},
   "outputs": [],
   "source": []
  },
  {
   "cell_type": "code",
   "execution_count": 4,
   "metadata": {},
   "outputs": [],
   "source": [
    "class Noeud:\n",
    "    '''\n",
    "    Classe implémentant un noeud d'arbre binaire disposant de 3\n",
    "    attributs :\n",
    "    - valeur : la valeur de l'étiquette,\n",
    "    - gauche : le sous-arbre gauche.\n",
    "    - droit : le sous-arbre droit.\n",
    "    '''\n",
    "    def __init__(self, g, v, d):\n",
    "        self.gauche = g\n",
    "        self.valeur = v\n",
    "        self.droit = d\n",
    "\n",
    "    def est_une_feuille(self):\n",
    "        '''Renvoie True si et seulement si le noeud est une feuille'''\n",
    "        return self.gauche is None and self.droit is None\n",
    "\n",
    "def expression_infixe(e):\n",
    "    s = ... # ''\n",
    "    if e.gauche is not None:\n",
    "        s = '(' + s + expression_infixe(...) # e.gauche\n",
    "    s = s + ... #str(e.valeur)\n",
    "    if ... is not None: #e.droit\n",
    "        s = s + ... + ... #expression_infixe(e.droit) + ')'\n",
    "    return s # \n"
   ]
  }
 ],
 "metadata": {
  "interpreter": {
   "hash": "a4582a75a41fb78247f9e0d5ac5dcfbd0ffd857e3944b83ed2a96ac364b75fd7"
  },
  "kernelspec": {
   "display_name": "Python 3.9.1 64-bit",
   "language": "python",
   "name": "python3"
  },
  "language_info": {
   "codemirror_mode": {
    "name": "ipython",
    "version": 3
   },
   "file_extension": ".py",
   "mimetype": "text/x-python",
   "name": "python",
   "nbconvert_exporter": "python",
   "pygments_lexer": "ipython3",
   "version": "3.9.1"
  },
  "orig_nbformat": 4
 },
 "nbformat": 4,
 "nbformat_minor": 2
}
