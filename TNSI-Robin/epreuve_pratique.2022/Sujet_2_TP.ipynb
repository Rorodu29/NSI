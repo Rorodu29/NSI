{
 "cells": [
  {
   "cell_type": "markdown",
   "metadata": {},
   "source": [
    "<h1>Sujet 2 TP 2022</h1>"
   ]
  },
  {
   "cell_type": "markdown",
   "metadata": {},
   "source": [
    "<h2>Exercice 1 :</h2>"
   ]
  },
  {
   "cell_type": "markdown",
   "metadata": {},
   "source": [
    "Soit le couple (note,coefficient):\n",
    " note est un nombre de type flottant (*float) compris entre 0 et 20 ;\n",
    " coefficient est un nombre entier positif.\n",
    "Les résultats aux évaluations d'un élève sont regroupés dans une liste composée de\n",
    "couples (note,coefficient).\n",
    "Écrire une fonction moyenne qui renvoie la moyenne pondérée de cette liste donnée en\n",
    "paramètre.\n",
    "Par exemple, l’expression moyenne([(15,2),(9,1),(12,3)]) devra renvoyer le\n",
    "résultat du calcul suivant :\n",
    "2 × 15 + 1 × 9 + 3 × 12 \n",
    "________________________ = 12,5\n",
    "2 + 1 + 3\n"
   ]
  },
  {
   "cell_type": "code",
   "execution_count": 13,
   "metadata": {},
   "outputs": [],
   "source": [
    "def moyenne(notes : list ) :\n",
    "    somme_notes = 0\n",
    "    somme_coefficients = 0\n",
    "    for controle in notes :\n",
    "        somme_notes = somme_notes + controle[0] * controle[1]\n",
    "        somme_coefficients = somme_coefficients + controle[1]\n",
    "        \n",
    "    return somme_notes / somme_coefficients\n",
    "\n"
   ]
  },
  {
   "cell_type": "code",
   "execution_count": 15,
   "metadata": {},
   "outputs": [
    {
     "data": {
      "text/plain": [
       "12.5"
      ]
     },
     "execution_count": 15,
     "metadata": {},
     "output_type": "execute_result"
    }
   ],
   "source": [
    "moyenne([(15,2),(9,1),(12,3)])"
   ]
  },
  {
   "cell_type": "markdown",
   "metadata": {},
   "source": [
    "<h2>Exercice 2 :</h2> "
   ]
  }
 ],
 "metadata": {
  "interpreter": {
   "hash": "d392c9ddaa6b365e1706bdbc6bd2786d403f6271a103ff8a7f34ee918c5830ad"
  },
  "kernelspec": {
   "display_name": "Python 3.9.1 64-bit",
   "language": "python",
   "name": "python3"
  },
  "language_info": {
   "codemirror_mode": {
    "name": "ipython",
    "version": 3
   },
   "file_extension": ".py",
   "mimetype": "text/x-python",
   "name": "python",
   "nbconvert_exporter": "python",
   "pygments_lexer": "ipython3",
   "version": "3.9.1"
  },
  "orig_nbformat": 4
 },
 "nbformat": 4,
 "nbformat_minor": 2
}
