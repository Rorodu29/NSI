{
 "cells": [
  {
   "cell_type": "markdown",
   "metadata": {},
   "source": [
    "<h1>Sujet 25 TP 2022</h1>"
   ]
  },
  {
   "cell_type": "markdown",
   "metadata": {},
   "source": [
    "<h2>Exercice 1 :</h2>"
   ]
  },
  {
   "cell_type": "markdown",
   "metadata": {},
   "source": [
    "On considère des tables (des tableaux de dictionnaires) qui contiennent des enregistrements relatifs à des animaux hébergés dans un refuge. Les attributs des enregistrements sont 'nom', 'espece', 'age', 'enclos'. Voici un exemple d'une telle table :\n",
    "\n",
    "\n",
    "\n",
    "animaux =  \n",
    "    \n",
    "         [ {'nom':'Medor', 'espece':'chien', 'age':5, 'enclos':2},\n",
    "\n",
    "            {'nom':'Titine', 'espece':'chat', 'age':2, 'enclos':5},\n",
    "\n",
    "            {'nom':'Tom', 'espece':'chat', 'age':7, 'enclos':4},\n",
    "\n",
    "            {'nom':'Belle', 'espece':'chien', 'age':6, 'enclos':3},\n",
    "\n",
    "            {'nom':'Mirza', 'espece':'chat', 'age':6, 'enclos':5}]\n",
    "\n",
    "\n",
    "Programmer une fonction selection_enclos qui :\n",
    "\n",
    "prend en paramètres :\n",
    "une table table_animaux contenant des enregistrements relatifs à des animaux (comme dans l'exemple ci-dessus),\n",
    "un numéro d'enclos num_enclos ;\n",
    "renvoie une table contenant les enregistrements de table_animaux dont l'attribut 'enclos' est num_enclos."
   ]
  },
  {
   "cell_type": "code",
   "execution_count": 5,
   "metadata": {},
   "outputs": [],
   "source": [
    "animaux =  [ {'nom':'Medor', 'espece':'chien', 'age':5, 'enclos':2},\n",
    "\n",
    "            {'nom':'Titine', 'espece':'chat', 'age':2, 'enclos':5},\n",
    "\n",
    "            {'nom':'Tom', 'espece':'chat', 'age':7, 'enclos':4},\n",
    "\n",
    "            {'nom':'Belle', 'espece':'chien', 'age':6, 'enclos':3},\n",
    "\n",
    "            {'nom':'Mirza', 'espece':'chat', 'age':6, 'enclos':5}]"
   ]
  },
  {
   "cell_type": "code",
   "execution_count": 6,
   "metadata": {},
   "outputs": [],
   "source": [
    "def selection_enclos(table_animaux,num_enclos):\n",
    "    resultat = []\n",
    "    for animal in table_animaux:\n",
    "        if animal['enclos']==num_enclos:\n",
    "            resultat.append(animal)\n",
    "    return resultat\n",
    "    \n",
    "        \n"
   ]
  },
  {
   "cell_type": "code",
   "execution_count": 7,
   "metadata": {},
   "outputs": [
    {
     "data": {
      "text/plain": [
       "[{'nom': 'Titine', 'espece': 'chat', 'age': 2, 'enclos': 5},\n",
       " {'nom': 'Mirza', 'espece': 'chat', 'age': 6, 'enclos': 5}]"
      ]
     },
     "execution_count": 7,
     "metadata": {},
     "output_type": "execute_result"
    }
   ],
   "source": [
    "selection_enclos(animaux, 5)"
   ]
  },
  {
   "cell_type": "code",
   "execution_count": 8,
   "metadata": {},
   "outputs": [
    {
     "data": {
      "text/plain": [
       "[]"
      ]
     },
     "execution_count": 8,
     "metadata": {},
     "output_type": "execute_result"
    }
   ],
   "source": [
    "selection_enclos(animaux, 7)"
   ]
  },
  {
   "cell_type": "code",
   "execution_count": 10,
   "metadata": {},
   "outputs": [],
   "source": [
    "def trouver_intrus(tab, g, d):\n",
    "    '''\n",
    "    Renvoie la valeur de l'intrus situé entre les indices g et d \n",
    "    dans la liste tab où \n",
    "    tab vérifie les conditions de l'exercice,\n",
    "        g et d sont des multiples de 3.\n",
    "    '''\n",
    "    if g == d:\n",
    "        return tab[g] #tab[g]\n",
    "\n",
    "    else:\n",
    "        nombre_de_triplets = (d - g) // 3 #3\n",
    "        indice = g + 3 * (nombre_de_triplets // 2)\n",
    "        if tab[indice] != tab[indice + 1] :  #tab[indice] != tab[indice + 1] :\n",
    "            return trouver_intrus(tab, g, indice) # trouver_intrus(tab, g, indice)\n",
    "        else:\n",
    "            return trouver_intrus(tab, indice + 3, d) # trouver_intrus(tab, indice + 3, d)\n"
   ]
  },
  {
   "cell_type": "code",
   "execution_count": 11,
   "metadata": {},
   "outputs": [
    {
     "data": {
      "text/plain": [
       "7"
      ]
     },
     "execution_count": 11,
     "metadata": {},
     "output_type": "execute_result"
    }
   ],
   "source": [
    "trouver_intrus([3, 3, 3, 9, 9, 9, 1, 1, 1, 7, 2, 2, 2, 4, 4, 4, 8, 8,\n",
    "8, 5, 5, 5], 0, 21)"
   ]
  },
  {
   "cell_type": "code",
   "execution_count": 12,
   "metadata": {},
   "outputs": [
    {
     "data": {
      "text/plain": [
       "8"
      ]
     },
     "execution_count": 12,
     "metadata": {},
     "output_type": "execute_result"
    }
   ],
   "source": [
    "trouver_intrus([8, 5, 5, 5, 9, 9, 9, 18, 18, 18, 3, 3, 3], 0, 12)"
   ]
  }
 ],
 "metadata": {
  "interpreter": {
   "hash": "a4582a75a41fb78247f9e0d5ac5dcfbd0ffd857e3944b83ed2a96ac364b75fd7"
  },
  "kernelspec": {
   "display_name": "Python 3.9.1 64-bit",
   "language": "python",
   "name": "python3"
  },
  "language_info": {
   "codemirror_mode": {
    "name": "ipython",
    "version": 3
   },
   "file_extension": ".py",
   "mimetype": "text/x-python",
   "name": "python",
   "nbconvert_exporter": "python",
   "pygments_lexer": "ipython3",
   "version": "3.9.1"
  },
  "orig_nbformat": 4
 },
 "nbformat": 4,
 "nbformat_minor": 2
}
