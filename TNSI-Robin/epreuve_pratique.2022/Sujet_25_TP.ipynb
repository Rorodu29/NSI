{
 "cells": [
  {
   "cell_type": "markdown",
   "metadata": {},
   "source": [
    "<h1>Sujet 25 TP 2022</h1>"
   ]
  },
  {
   "cell_type": "markdown",
   "metadata": {},
   "source": [
    "<h2>Exercice 1 :</h2>"
   ]
  },
  {
   "cell_type": "markdown",
   "metadata": {},
   "source": [
    "On considère des tables (des tableaux de dictionnaires) qui contiennent des enregistrements relatifs à des animaux hébergés dans un refuge. Les attributs des enregistrements sont 'nom', 'espece', 'age', 'enclos'. Voici un exemple d'une telle table :\n",
    "\n",
    "\n",
    "animaux = \n",
    "\n",
    "            [ {'nom':'Medor', 'espece':'chien', 'age':5, 'enclos':2},\n",
    "\n",
    "            {'nom':'Titine', 'espece':'chat', 'age':2, 'enclos':5},\n",
    "\n",
    "            {'nom':'Tom', 'espece':'chat', 'age':7, 'enclos':4},\n",
    "\n",
    "            {'nom':'Belle', 'espece':'chien', 'age':6, 'enclos':3},\n",
    "\n",
    "            {'nom':'Mirza', 'espece':'chat', 'age':6, 'enclos':5}]\n",
    "\n",
    "\n",
    "Programmer une fonction selection_enclos qui :\n",
    "\n",
    "prend en paramètres :\n",
    "une table table_animaux contenant des enregistrements relatifs à des animaux (comme dans l'exemple ci-dessus),\n",
    "un numéro d'enclos num_enclos ;\n",
    "renvoie une table contenant les enregistrements de table_animaux dont l'attribut 'enclos' est num_enclos."
   ]
  },
  {
   "cell_type": "code",
   "execution_count": null,
   "metadata": {},
   "outputs": [],
   "source": []
  },
  {
   "cell_type": "code",
   "execution_count": null,
   "metadata": {},
   "outputs": [],
   "source": []
  }
 ],
 "metadata": {
  "language_info": {
   "name": "python"
  },
  "orig_nbformat": 4
 },
 "nbformat": 4,
 "nbformat_minor": 2
}
