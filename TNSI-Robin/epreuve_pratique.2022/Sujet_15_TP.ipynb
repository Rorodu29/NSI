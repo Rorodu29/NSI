{
 "cells": [
  {
   "cell_type": "markdown",
   "metadata": {},
   "source": [
    "<h1>Sujet 15 TP 2022</h1>"
   ]
  },
  {
   "cell_type": "markdown",
   "metadata": {},
   "source": [
    "<h2>Exercice 1 :</h2>"
   ]
  },
  {
   "cell_type": "markdown",
   "metadata": {},
   "source": [
    "Écrire une fonction python appelée nb_repetitions qui prend en paramètres un élément elt et une liste tab et renvoie le nombre de fois où l’élément apparaît dans la liste."
   ]
  },
  {
   "cell_type": "markdown",
   "metadata": {},
   "source": [
    "nombre de répétitions (occurences) dans un tableau\t"
   ]
  },
  {
   "cell_type": "code",
   "execution_count": 1,
   "metadata": {},
   "outputs": [],
   "source": [
    "def nb_repetitions(elt, tab): \n",
    "    nombre = 0\n",
    "    for element in tab:\n",
    "        if element == elt:\n",
    "            nombre += 1\n",
    "    return nombre\n",
    "    "
   ]
  },
  {
   "cell_type": "code",
   "execution_count": 2,
   "metadata": {},
   "outputs": [
    {
     "data": {
      "text/plain": [
       "3"
      ]
     },
     "execution_count": 2,
     "metadata": {},
     "output_type": "execute_result"
    }
   ],
   "source": [
    "nb_repetitions(5, [2, 5, 3, 5, 6, 9, 5])"
   ]
  },
  {
   "cell_type": "code",
   "execution_count": 5,
   "metadata": {},
   "outputs": [
    {
     "data": {
      "text/plain": [
       "0"
      ]
     },
     "execution_count": 5,
     "metadata": {},
     "output_type": "execute_result"
    }
   ],
   "source": [
    "nb_repetitions('A', ['B', 'C', 'D', 'E', 'F'])"
   ]
  },
  {
   "cell_type": "markdown",
   "metadata": {},
   "source": [
    "<h2>Exercice 2 :</h2>"
   ]
  },
  {
   "cell_type": "markdown",
   "metadata": {},
   "source": [
    "Pour rappel, la conversion d’un nombre entier positif en binaire peut s’effectuer à l’aide des divisions successives comme illustré ici :\n",
    "\n",
    "\n",
    "Voici une fonction Python basée sur la méthode des divisions successives permettant de convertir un nombre entier positif en binaire :"
   ]
  },
  {
   "cell_type": "markdown",
   "metadata": {},
   "source": [
    "conversion décimale vers binaire"
   ]
  },
  {
   "cell_type": "code",
   "execution_count": 4,
   "metadata": {},
   "outputs": [],
   "source": [
    "    # a l'aide des divisions succecifs on va pouvoir transformer un nombre comme 29 en binaire. \n",
    "def binaire(a):\n",
    "    bin_a = str(a%2)\n",
    "    a = a // 2 # division eucledienne ( le reste de la division va determiner si le chiffre va être soit de 1 ou de 0 )\n",
    "    while a != 0 : # (une fois que le total est égale à 0 le programme s'arrete et donne le binaire)\n",
    "        bin_a = str(a%2) + bin_a\n",
    "        a = a // 2\n",
    "    return bin_a\n",
    "    "
   ]
  },
  {
   "cell_type": "code",
   "execution_count": 5,
   "metadata": {},
   "outputs": [
    {
     "data": {
      "text/plain": [
       "'11101'"
      ]
     },
     "execution_count": 5,
     "metadata": {},
     "output_type": "execute_result"
    }
   ],
   "source": [
    "binaire(29)\n"
   ]
  },
  {
   "cell_type": "markdown",
   "metadata": {},
   "source": [
    "<h2>2ème solution </h2>"
   ]
  },
  {
   "cell_type": "code",
   "execution_count": 4,
   "metadata": {},
   "outputs": [],
   "source": [
    "def binaire_recursive(n,b):\n",
    "    signes = [\"0\",\"1\",\"2\",\"3\",\"4\",\"5\",\"6\",\"7\",\"8\",\"9\",\"A\",\"B\",\"C\",\"D\",\"E\",\"F\"]\n",
    "    if n<b:\n",
    "        return signes[n]\n",
    "    else:\n",
    "        return binaire_recursive(n//b,b) + signes[n%b]"
   ]
  },
  {
   "cell_type": "code",
   "execution_count": 7,
   "metadata": {},
   "outputs": [
    {
     "data": {
      "text/plain": [
       "'11101'"
      ]
     },
     "execution_count": 7,
     "metadata": {},
     "output_type": "execute_result"
    }
   ],
   "source": [
    "binaire_recursive(29,2)"
   ]
  },
  {
   "cell_type": "markdown",
   "metadata": {},
   "source": [
    "<h2>Solution 3 conversion par soustraction</h2>"
   ]
  },
  {
   "cell_type": "code",
   "execution_count": 8,
   "metadata": {},
   "outputs": [],
   "source": [
    "def binaire2(nombre) :\n",
    "    bi = [128,64,32,16,8,4,2,1]\n",
    "    nombrebinaire = \"\"\n",
    "    for i in bi :\n",
    "        if nombre >= i :\n",
    "            nombre -= i\n",
    "            nombrebinaire = nombrebinaire + \"1\"\n",
    "        else :\n",
    "            nombrebinaire = nombrebinaire +\"0\"\n",
    "    return nombrebinaire\n",
    "    \n"
   ]
  },
  {
   "cell_type": "code",
   "execution_count": 9,
   "metadata": {},
   "outputs": [
    {
     "data": {
      "text/plain": [
       "'00011101'"
      ]
     },
     "execution_count": 9,
     "metadata": {},
     "output_type": "execute_result"
    }
   ],
   "source": [
    "binaire2(29)"
   ]
  },
  {
   "cell_type": "code",
   "execution_count": null,
   "metadata": {},
   "outputs": [],
   "source": []
  },
  {
   "cell_type": "markdown",
   "metadata": {},
   "source": [
    "<img src=http://culturemath.ens.fr/sites/default/files/Magie%20im%203.jpg alt=\"Par_Soustractions_Successives\" title=\"Par_Soustractions_Successives\" width=60%>\n",
    "\n",
    " \n",
    "\n",
    "<img src=http://culturemath.ens.fr/sites/default/files/Magie%20im%204.jpg alt=\"Par_Division_Successives\" title=\"Par_Division_Successives\" width=60%>\n",
    "\n",
    " "
   ]
  }
 ],
 "metadata": {
  "interpreter": {
   "hash": "e5b04402d85c55ee7338cabf5cac3bf307780a4b2de2e10b45514d8cb474da4d"
  },
  "kernelspec": {
   "display_name": "Python 3.9.10 64-bit (windows store)",
   "language": "python",
   "name": "python3"
  },
  "language_info": {
   "codemirror_mode": {
    "name": "ipython",
    "version": 3
   },
   "file_extension": ".py",
   "mimetype": "text/x-python",
   "name": "python",
   "nbconvert_exporter": "python",
   "pygments_lexer": "ipython3",
   "version": "3.9.1"
  },
  "orig_nbformat": 4
 },
 "nbformat": 4,
 "nbformat_minor": 2
}
