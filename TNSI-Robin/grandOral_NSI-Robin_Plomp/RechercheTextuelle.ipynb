{
 "cells": [
  {
   "cell_type": "markdown",
   "metadata": {},
   "source": [
    "https://www.lyceum.fr/tg/nsi/5-algorithmique/5-recherche-textuelle"
   ]
  },
  {
   "cell_type": "markdown",
   "metadata": {},
   "source": [
    "https://pixees.fr/informatiquelycee/n_site/nsi_term_algo_boyer.html"
   ]
  },
  {
   "cell_type": "markdown",
   "metadata": {},
   "source": [
    "https://fr.wikipedia.org/wiki/Recherche_plein_texte"
   ]
  },
  {
   "cell_type": "markdown",
   "metadata": {},
   "source": [
    "http://www.monlyceenumerique.fr/nsi_terminale/a/a5_recherche_textuelle.php"
   ]
  },
  {
   "cell_type": "markdown",
   "metadata": {},
   "source": [
    "https://fr.wikipedia.org/wiki/Algorithme_de_Boyer-Moore-Horspool"
   ]
  },
  {
   "cell_type": "markdown",
   "metadata": {},
   "source": [
    "https://docplayer.fr/210318271-Terminale-enseignement-de-specialite-nsi-recherche-textuelle-algorithme-de-boyer-moore.html"
   ]
  },
  {
   "cell_type": "markdown",
   "metadata": {},
   "source": [
    "https://fr.wikipedia.org/wiki/Algorithme_de_recherche_de_sous-cha%C3%AEne"
   ]
  },
  {
   "cell_type": "markdown",
   "metadata": {},
   "source": [
    "https://qkzk.xyz/uploads/docnsitale/algo/recherche_textuelle/cours_td_recherche_textuelle-beamer.pdf"
   ]
  },
  {
   "cell_type": "markdown",
   "metadata": {},
   "source": [
    "https://pgdg.frama.io/tnsi/algo/textuelle/"
   ]
  },
  {
   "cell_type": "markdown",
   "metadata": {},
   "source": [
    "https://eduscol.education.fr/document/30076/download"
   ]
  },
  {
   "cell_type": "markdown",
   "metadata": {},
   "source": [
    "<h2>Comment faire une recherche efficace dans un texte  ?</h2>"
   ]
  },
  {
   "cell_type": "markdown",
   "metadata": {},
   "source": [
    "<h2> I_ Présentation recherche textuelle</h2>\n",
    "\n",
    "<h2> II_ Algorithme naif </h2>\n",
    "\n",
    " <h2>III_ Algorithme de Boyer-Moore </h2>"
   ]
  },
  {
   "cell_type": "code",
   "execution_count": 2,
   "metadata": {},
   "outputs": [],
   "source": [
    "def recherche(mot, texte ):\n",
    "    texte = len(texte)\n",
    "    mot = len(mot)\n",
    "    i = 0\n",
    "    trouve = False\n",
    "    while i < texte - mot+1 and trouve == False :\n",
    "        j = 0\n",
    "        while j < mot and mot[j] == texte[i+j]:\n",
    "            j += 1\n",
    "        if j == mot:\n",
    "            trouve = True\n",
    "        i += 1\n",
    "    return trouve"
   ]
  },
  {
   "cell_type": "code",
   "execution_count": 9,
   "metadata": {},
   "outputs": [
    {
     "data": {
      "text/plain": [
       "True"
      ]
     },
     "execution_count": 9,
     "metadata": {},
     "output_type": "execute_result"
    }
   ],
   "source": [
    "recherche(\"to be or not to be\", \"to be or not to be, I there's the point\")"
   ]
  },
  {
   "cell_type": "markdown",
   "metadata": {},
   "source": []
  },
  {
   "cell_type": "code",
   "execution_count": 10,
   "metadata": {},
   "outputs": [
    {
     "data": {
      "text/plain": [
       "False"
      ]
     },
     "execution_count": 10,
     "metadata": {},
     "output_type": "execute_result"
    }
   ],
   "source": [
    "recherche(\"once upon a time\", \"THEY LIVE TOGETHER AND HAPPY\")"
   ]
  },
  {
   "cell_type": "markdown",
   "metadata": {},
   "source": [
    "ici ça renvoie False car déja une fois en parcourant tout le texte il ne trouve pas de ressemblance avec le texte et de deux l'un est en minuscule et l'autre en majuscule."
   ]
  },
  {
   "cell_type": "code",
   "execution_count": 1,
   "metadata": {},
   "outputs": [],
   "source": [
    "machaine = 'true'"
   ]
  },
  {
   "cell_type": "code",
   "execution_count": 10,
   "metadata": {},
   "outputs": [
    {
     "data": {
      "text/plain": [
       "-1"
      ]
     },
     "execution_count": 10,
     "metadata": {},
     "output_type": "execute_result"
    }
   ],
   "source": [
    "machaine.find('Yo les man, grrr.')"
   ]
  }
 ],
 "metadata": {
  "interpreter": {
   "hash": "a4582a75a41fb78247f9e0d5ac5dcfbd0ffd857e3944b83ed2a96ac364b75fd7"
  },
  "kernelspec": {
   "display_name": "Python 3.9.1 64-bit",
   "language": "python",
   "name": "python3"
  },
  "language_info": {
   "codemirror_mode": {
    "name": "ipython",
    "version": 3
   },
   "file_extension": ".py",
   "mimetype": "text/x-python",
   "name": "python",
   "nbconvert_exporter": "python",
   "pygments_lexer": "ipython3",
   "version": "3.9.1"
  },
  "orig_nbformat": 4
 },
 "nbformat": 4,
 "nbformat_minor": 2
}
