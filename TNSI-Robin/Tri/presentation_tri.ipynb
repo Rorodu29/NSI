{
 "cells": [
  {
   "cell_type": "markdown",
   "metadata": {},
   "source": [
    "<h1>Les algorithmes de Tri"
   ]
  },
  {
   "cell_type": "markdown",
   "metadata": {},
   "source": [
    "<h2>Tri par sélection"
   ]
  },
  {
   "cell_type": "markdown",
   "metadata": {},
   "source": [
    "![tri par selection](extract.gif)"
   ]
  },
  {
   "cell_type": "markdown",
   "metadata": {},
   "source": [
    "- Cet algorithme divise le tableau en sous-parties triées et non triées. \n",
    "- Et puis, à chaque itération, nous prendrons l'élément minimum du sous-partie non triée et on la place dans la dernière position du sous-partie triée."
   ]
  },
  {
   "cell_type": "markdown",
   "metadata": {},
   "source": [
    "LES ÉTAPES :\n",
    "\n",
    "- On parcours le tableau pour : \n",
    "                                 - Rechercher le plus petit élément du tableau \n",
    "                                 - Le placer à la première position du tableau\n",
    "\n",
    "- On recommence cette même opération :\n",
    "                                         - En commençant à la deuxième position du tableau\n",
    "                                         - Le plus petit élément trouvé est placé à la deuxième position de tableau\n",
    "                                \n",
    "- Et ansi de suite jusqu'a l'avant dernière position du tableau"
   ]
  },
  {
   "cell_type": "code",
   "execution_count": null,
   "metadata": {},
   "outputs": [],
   "source": []
  },
  {
   "cell_type": "code",
   "execution_count": null,
   "metadata": {},
   "outputs": [],
   "source": []
  },
  {
   "cell_type": "code",
   "execution_count": 3,
   "metadata": {},
   "outputs": [
    {
     "data": {
      "text/plain": [
       "[0, 2, 4, 4, 6, 6, 7, 9]"
      ]
     },
     "execution_count": 3,
     "metadata": {},
     "output_type": "execute_result"
    }
   ],
   "source": [
    "def tri_selection(tab):\n",
    "\n",
    "   for i in range(len(tab)):\n",
    "      \n",
    "        #Stocke l'indice du plus petit élément\n",
    "        i_min = i\n",
    "\n",
    "        #Cherche l'indice du plus petit élément\n",
    "        for j in range(i+1, len(tab)):\n",
    "           # Vérification et remplacement de l'indice de l'élément minimum\n",
    "           if tab[i_min] > tab[j]:\n",
    "               i_min = j\n",
    "\n",
    "        # Échanger l'élément actuel avec l'élément minimum\n",
    "        tmp = tab[i]      ##\n",
    "        tab[i] = tab[i_min]  ## tab[i], tab[min] = tab[min], tab[i]\n",
    "        tab[i_min] = tmp    ##\n",
    "\n",
    "   return tab\n",
    "\n",
    "tri_selection([9,4,6,7,4,0,2,6])"
   ]
  },
  {
   "cell_type": "markdown",
   "metadata": {},
   "source": [
    "<img src=\"https://geekflare.com/wp-content/uploads/2021/01/1-4.png\">"
   ]
  },
  {
   "cell_type": "markdown",
   "metadata": {},
   "source": [
    "<img src=\"https://geekflare.com/wp-content/uploads/2021/01/2-4.png\">"
   ]
  },
  {
   "cell_type": "markdown",
   "metadata": {},
   "source": [
    "<img src=\"https://geekflare.com/wp-content/uploads/2021/01/3-4.png\">"
   ]
  },
  {
   "cell_type": "markdown",
   "metadata": {},
   "source": [
    "<img src=\"https://geekflare.com/wp-content/uploads/2021/01/4-4.png\">"
   ]
  },
  {
   "cell_type": "markdown",
   "metadata": {},
   "source": [
    "<img src=\"https://geekflare.com/wp-content/uploads/2021/01/5-4.png\">"
   ]
  },
  {
   "cell_type": "markdown",
   "metadata": {},
   "source": [
    "<img src=\"https://geekflare.com/wp-content/uploads/2021/01/6-2.png\">"
   ]
  },
  {
   "cell_type": "markdown",
   "metadata": {},
   "source": [
    "<h2>Selection inversée"
   ]
  },
  {
   "cell_type": "markdown",
   "metadata": {},
   "source": [
    "- La liste est séparée en 2 parties : \n",
    "\n",
    "                                      - la partie triée, à droite : représentée par tab[n] -> tab[-1]\n",
    "\n",
    "                                      - la partie non triée, à gauche : représentée par len(tab) - n\n",
    "                                      \n",
    "- On trouve l'indice de la plus grande valeur.\n",
    "- On l'échange avec la valeur du plus petit indice de la liste triée."
   ]
  },
  {
   "cell_type": "code",
   "execution_count": 4,
   "metadata": {},
   "outputs": [
    {
     "data": {
      "text/plain": [
       "[1, 4, 4, 5, 5, 8, 8, 9, 45, 45, 54, 65, 65, 84, 87, 987, 987]"
      ]
     },
     "execution_count": 4,
     "metadata": {},
     "output_type": "execute_result"
    }
   ],
   "source": [
    "def selection_inversée(tab : list) -> list :\n",
    "    n = 0\n",
    "    for _ in range(len(tab)) :\n",
    "        i_max = 0\n",
    "        for i in range(0, len(tab)-n) :\n",
    "            if tab[i] > tab[i_max] :\n",
    "                i_max = i\n",
    "                        \n",
    "        tampon = tab[i_max]           ###\n",
    "        tab[i_max] = tab[len(tab)-n-1]  ##  tab[i_max], tab[len(tab)-n-1] = tab[len(tab)-n-1], tab[i_max]\n",
    "        tab[len(tab)-n-1] = tampon    ###\n",
    "                                   \n",
    "        n += 1\n",
    "    return tab\n",
    "\n",
    "selection_inversée([9,8,1,65,45,5,54,8,5,45,87,4,4,987,84,65,987])"
   ]
  },
  {
   "cell_type": "markdown",
   "metadata": {},
   "source": [
    "Complexité : O(n^2) avec n la longeur de la liste"
   ]
  },
  {
   "cell_type": "markdown",
   "metadata": {},
   "source": [
    "<h2>Le tri par insertion"
   ]
  },
  {
   "cell_type": "markdown",
   "metadata": {},
   "source": [
    "![Tri par insertion](220px-Insertion-sort-example-300px.gif)"
   ]
  },
  {
   "cell_type": "markdown",
   "metadata": {},
   "source": [
    "Un tri par insertion divise une liste en deux sous-listes : triées et non triées. Il compare ensuite chaque élément de la liste non triée et continue de le faire jusqu'à ce que chaque élément de la liste soit trié.\n",
    "\n",
    "Un algorithme de tri par insertion déplace un élément trié dans la sous-liste triée et le supprime de la sous-liste non triée. Les deux sous-listes font partie du même tableau, mais elles distinguent si un élément est trié.\n",
    "\n",
    "Vous pouvez penser à des sortes d'insertion comme la façon dont vous trieriez un ensemble de cartes dans votre main dans un jeu de cartes.\n",
    "\n",
    "Vous vous déplacez une par une dans la liste des cartes et les comparez entre elles. Les cartes triées apparaîtraient dans la gauche de votre main. Les cartes non triées apparaîtraient sur la droite jusqu'à ce que vous les triiez toutes."
   ]
  },
  {
   "cell_type": "code",
   "execution_count": 5,
   "metadata": {},
   "outputs": [
    {
     "data": {
      "text/plain": [
       "[984, 98444, 4981981, 98494984]"
      ]
     },
     "execution_count": 5,
     "metadata": {},
     "output_type": "execute_result"
    }
   ],
   "source": [
    "def tri_insertion(tab) :\n",
    "    for i in range(1, len(tab)) :\n",
    "        k = tab[i] \n",
    "        j = i-1    \n",
    "        while j >= 0 and k < tab[j] :\n",
    "            tab[j+1] = tab[j]\n",
    "            j -= 1\n",
    "        tab[j+1] = k\n",
    "    return tab\n",
    "\n",
    "tab = [4981981,98494984,984,98444]\n",
    "tri_insertion(tab)"
   ]
  },
  {
   "cell_type": "markdown",
   "metadata": {},
   "source": [
    "<img src=\"https://geekflare.com/wp-content/uploads/2021/01/1-3.png\">"
   ]
  },
  {
   "cell_type": "markdown",
   "metadata": {},
   "source": [
    "<img src=\"https://geekflare.com/wp-content/uploads/2021/01/2-3.png\">"
   ]
  },
  {
   "cell_type": "markdown",
   "metadata": {},
   "source": [
    "<img src=\"https://geekflare.com/wp-content/uploads/2021/01/3-3.png\">"
   ]
  },
  {
   "cell_type": "markdown",
   "metadata": {},
   "source": [
    "<img src=\"https://geekflare.com/wp-content/uploads/2021/01/4-3.png\">"
   ]
  },
  {
   "cell_type": "markdown",
   "metadata": {},
   "source": [
    "<img src=\"https://geekflare.com/wp-content/uploads/2021/01/5-3.png\">"
   ]
  },
  {
   "cell_type": "markdown",
   "metadata": {},
   "source": [
    "Complexité : O(n^2) avec n la longeur de la liste"
   ]
  },
  {
   "cell_type": "markdown",
   "metadata": {},
   "source": [
    "<h2>Tri Récursif"
   ]
  },
  {
   "cell_type": "markdown",
   "metadata": {},
   "source": [
    "- C'st un tri par selection de manière récursive.\n",
    "- On trouve le plus petit élément de la liste avec son indice.\n",
    "- On l'ajoute à la nouvelle liste (triée) et on le supprime de la liste originale (non triée)\n",
    "- On répéte jusqu'au cas ce que la liste soit vide, c'est notre cas trivial"
   ]
  },
  {
   "cell_type": "code",
   "execution_count": 20,
   "metadata": {},
   "outputs": [
    {
     "data": {
      "text/plain": [
       "[46,\n",
       " 46,\n",
       " 54,\n",
       " 64,\n",
       " 165,\n",
       " 416,\n",
       " 563,\n",
       " 986,\n",
       " 4646,\n",
       " 16568,\n",
       " 46541632,\n",
       " 93696396,\n",
       " 468465165,\n",
       " 464616541847,\n",
       " 6846468464165,\n",
       " 654164684651654,\n",
       " 4465165165165165,\n",
       " 6546546546846168465]"
      ]
     },
     "execution_count": 20,
     "metadata": {},
     "output_type": "execute_result"
    }
   ],
   "source": [
    "def tri_recursif(tab : list, new_tab = []) :\n",
    "    \"\"\"\n",
    "    Description : Une fonction récursive tro drol\n",
    "\n",
    "    Exemple : >>> tri_recursif_tro_drol([4,1,6,7,3])\n",
    "              >>> [1, 3, 4, 6, 7]\n",
    "\n",
    "    Préconditions : (list) : La liste à trier\n",
    "\n",
    "    Postconditions : (list) : la liste triée\n",
    "    \"\"\"\n",
    "\n",
    "    assert type(tab) == list, \"La liste doit être de type list\"\n",
    "    assert [type(i) for i in tab] == [int] * len(tab), \"Ca doit être des int à l'intérieur petit coquinou\"\n",
    "\n",
    "    if len(tab) == 0 :  #Cas trivial\n",
    "        return new_tab\n",
    "    else :\n",
    "        #On trouve le plus petit élément et son indice\n",
    "        mini = tab[0]\n",
    "        indice = 0\n",
    "        for i in range(len(tab)):\n",
    "            if mini > tab[i]:\n",
    "                mini = tab[i]\n",
    "                indice = i\n",
    "        #On ajoute ce plus petit élément a la liste finale (triée) et on le supprime de la liste non triée\n",
    "        new_tab.append(tab.pop(indice))\n",
    "        return tri_recursif(tab, new_tab)\n",
    "\n",
    "tri_recursif([4465165165165165,165,4646,46,464616541847,654164684651654,6846468464165,46,54,64,6546546546846168465,416,468465165,46541632,16568,563,986,93696396])"
   ]
  },
  {
   "cell_type": "markdown",
   "metadata": {},
   "source": [
    "<h2>Tri par fusion"
   ]
  },
  {
   "cell_type": "markdown",
   "metadata": {},
   "source": [
    "![Tri a bulles](./Merge-sort-example-300px.gif)"
   ]
  },
  {
   "cell_type": "markdown",
   "metadata": {},
   "source": [
    "Le tri fusion est l’un des algorithmes de tri les plus populaires et les plus efficaces. \n",
    "\n",
    "Il est basé sur le principe de l’algorithme diviser pour mieux régner. \n",
    "\n",
    "Il fonctionne en divisant le tableau en deux moitiés de manière répétée jusqu’à ce que nous obtenions un tableau divisé en éléments individuels. \n",
    "\n",
    "Un élément individuel est un tableau trié en soi. \n",
    "\n",
    "Le tri fusion fusionne de manière répétée ces petits tableaux triés pour produire de plus grands sous-réseaux triés jusqu’à ce que nous obtenions un tableau trié final."
   ]
  },
  {
   "cell_type": "markdown",
   "metadata": {},
   "source": [
    "<h4>Dans les cas ou les 2 listes sont déja triées"
   ]
  },
  {
   "cell_type": "markdown",
   "metadata": {},
   "source": [
    "- On compare les éléments des 2 listes. \n",
    "- On ajoute le plus petit a la nouvelle liste.\n",
    "- On passe a l'indice suivant dans la liste qui vient de donner un élément, pas dans l'autre.\n",
    "- On répète jusqu'a qu'une liste soit vide.\n",
    "- Ensuite on rempli la nouvelle liste avec tout le reste de la liste pas encore vide."
   ]
  },
  {
   "cell_type": "code",
   "execution_count": 7,
   "metadata": {},
   "outputs": [
    {
     "data": {
      "text/plain": [
       "[4, 7, 9, 45, 98, 987, 5874]"
      ]
     },
     "execution_count": 7,
     "metadata": {},
     "output_type": "execute_result"
    }
   ],
   "source": [
    "def fusion(L1 : list, L2 : list) -> list:\n",
    "\n",
    "    assert type(L1) == type(L2) == list, \"Les liste en entrée doivent être de type list\"\n",
    "    assert L1 == sorted(L1) and L2 == sorted(L2), \"Les listes doivent être triées\"\n",
    "\n",
    "    n1 = len(L1)\n",
    "    n2 = len(L2)\n",
    "    L12 = [0] * (n1 + n2)\n",
    "\n",
    "    i1 = 0\n",
    "    i2 = 0\n",
    "    i = 0\n",
    "\n",
    "    while i1 < n1 and i2 < n2 : #Rempli L12 jusqu'a qu'une des deux listes soit vide\n",
    "        if L1[i1] < L2[i2] :\n",
    "            L12[i] = L1[i1]\n",
    "            i1 += 1\n",
    "        else : # L2[i2] < L1[i1]\n",
    "            L12[i] = L2[i2]\n",
    "            i2 += 1\n",
    "        i += 1\n",
    "\n",
    "    while i1 < n1 : #Ce while s'execute si c'est L2 qui a rempli L12 avant L1\n",
    "        L12[i] += L1[i1]\n",
    "        i1 += 1\n",
    "        i += 1\n",
    "        \n",
    "    while i2 < n2 : #Ce while s'execute si c'est L1 qui a rempli L12 avant L2\n",
    "        L12[i] = L2[i2]\n",
    "        i2 += 1\n",
    "        i += 1\n",
    "    return L12\n",
    "\n",
    "fusion([4, 9, 45, 987], [7, 98, 5874])"
   ]
  },
  {
   "cell_type": "markdown",
   "metadata": {},
   "source": [
    "<h4>Dans les cas ou les 2 listes ne sont pas déja triées"
   ]
  },
  {
   "cell_type": "code",
   "execution_count": 8,
   "metadata": {},
   "outputs": [
    {
     "data": {
      "text/plain": [
       "[1,\n",
       " 4,\n",
       " 9,\n",
       " 68,\n",
       " 71,\n",
       " 498,\n",
       " 498,\n",
       " 749,\n",
       " 898,\n",
       " 984,\n",
       " 984,\n",
       " 984,\n",
       " 987,\n",
       " 4589,\n",
       " 7416,\n",
       " 98654,\n",
       " 91894984,\n",
       " 98498498,\n",
       " 498498189198]"
      ]
     },
     "execution_count": 8,
     "metadata": {},
     "output_type": "execute_result"
    }
   ],
   "source": [
    "def tri_fusion(tab) :\n",
    "    n = len(tab)\n",
    "\n",
    "    if n > 1 :\n",
    "\n",
    "        # Séparer la liste en 2 sous-listes\n",
    "        millieu = n // 2\n",
    "        gauche = tab[0:millieu]\n",
    "        droite = tab[millieu:n]\n",
    "\n",
    "        # Trier les sous listes\n",
    "        tri_fusion(gauche)\n",
    "        tri_fusion(droite)\n",
    "\n",
    "        #Recombiner\n",
    "        i = 0\n",
    "        i_gauche = 0\n",
    "        i_droite = 0\n",
    "\n",
    "        while i_gauche < len(gauche) and i_droite < len(droite) :\n",
    "            if gauche[i_gauche] < droite[i_droite] :\n",
    "                tab[i] = gauche[i_gauche]\n",
    "                i_gauche += 1\n",
    "            else :\n",
    "                tab[i] = droite[i_droite]\n",
    "                i_droite += 1\n",
    "            i += 1\n",
    "\n",
    "        while i_droite < len(droite) :\n",
    "            tab[i] = droite[i_droite]\n",
    "            i_droite += 1\n",
    "            i += 1\n",
    "\n",
    "        while i_gauche < len(gauche) :\n",
    "            tab[i] = gauche[i_gauche]\n",
    "            i_gauche += 1\n",
    "            i += 1\n",
    "\n",
    "    return tab\n",
    "\n",
    "\n",
    "tri_fusion([984,91894984,98498498,498498189198,498,498,4,984,984,987,9,898,4589,749,1,98654,68,7416,71])\n"
   ]
  },
  {
   "cell_type": "markdown",
   "metadata": {},
   "source": [
    "Complexité : O(n*log(n)) avec n la longeur de la liste"
   ]
  },
  {
   "cell_type": "markdown",
   "metadata": {},
   "source": [
    "<h2>Tri à bulles"
   ]
  },
  {
   "cell_type": "markdown",
   "metadata": {},
   "source": [
    "On compare un élément avec le suivant et si le nouvel élément plus petit on les inverses"
   ]
  },
  {
   "cell_type": "markdown",
   "metadata": {},
   "source": [
    "- Il consiste à comparer répétitivement les éléments consécutifs d'un tableau, et à les permuter lorsqu'ils sont mal triés.\n",
    "- Il doit son nom au fait qu'il déplace rapidement les plus grands éléments en fin de tableau, comme des bulles d'air qui remonteraient rapidement à la surface d'un liquide.\n",
    "\n",
    "- Le tri à bulles est souvent enseigné en tant qu'exemple algorithmique, car son principe est simple. \n",
    "- Mais c'est le plus lent des algorithmes de tri communément enseignés, et il n'est donc guère utilisé en pratique."
   ]
  },
  {
   "cell_type": "code",
   "execution_count": 9,
   "metadata": {},
   "outputs": [
    {
     "data": {
      "text/plain": [
       "[4, 498, 987, 987, 987, 987, 649649, 987984, 98498798]"
      ]
     },
     "execution_count": 9,
     "metadata": {},
     "output_type": "execute_result"
    }
   ],
   "source": [
    "def tri_bulles(T) :\n",
    "    n = len(T)\n",
    "    for i in range(n-1,0,-1) :\n",
    "        for j in range(i) :\n",
    "            if T[j] > T[j+1] :\n",
    "                temp = T[j]    ###\n",
    "                T[j] = T[j+1]    # T[j], T[j+1] = T[j+1], T[j] \n",
    "                T[j+1] = temp  ###\n",
    "    return T\n",
    "\n",
    "tri_bulles([649649,987984,98498798,498,4,987,987,987,987])"
   ]
  },
  {
   "cell_type": "code",
   "execution_count": 10,
   "metadata": {},
   "outputs": [
    {
     "data": {
      "text/plain": [
       "[4, 498, 987, 987, 987, 987, 649649, 987984, 98498798]"
      ]
     },
     "execution_count": 10,
     "metadata": {},
     "output_type": "execute_result"
    }
   ],
   "source": [
    "def tri_bulle2(tab):\n",
    "    n = len(tab)\n",
    "    # Traverser tous les éléments du tableau\n",
    "    for i in range(n):\n",
    "        for j in range(0, n-i-1):\n",
    "            # échanger si l'élément trouvé est plus grand que le suivant\n",
    "            if tab[j] > tab[j+1] :\n",
    "                tab[j], tab[j+1] = tab[j+1], tab[j]\n",
    "    return tab\n",
    "\n",
    "tri_bulle2([649649,987984,98498798,498,4,987,987,987,987])"
   ]
  },
  {
   "cell_type": "code",
   "execution_count": 11,
   "metadata": {},
   "outputs": [
    {
     "data": {
      "text/plain": [
       "[4, 498, 987, 987, 987, 987, 649649, 987984, 98498798]"
      ]
     },
     "execution_count": 11,
     "metadata": {},
     "output_type": "execute_result"
    }
   ],
   "source": [
    "def autre_tri_bulle(tab : list) -> list :\n",
    "\n",
    "    n = len(tab)\n",
    "    permut = True\n",
    "\n",
    "    while permut == True :\n",
    "        permut = False\n",
    "        for i in range(0, n-1) :\n",
    "            if tab[i] > tab[i+1] :\n",
    "                temp = tab[i]\n",
    "                tab[i] = tab[i+1]\n",
    "                tab[i+1] = temp\n",
    "                permut = True\n",
    "        n -= 1\n",
    "\n",
    "    return tab\n",
    "\n",
    "\n",
    "autre_tri_bulle([649649,987984,98498798,498,4,987,987,987,987])"
   ]
  },
  {
   "cell_type": "markdown",
   "metadata": {},
   "source": [
    "<img src=\"https://bts-sio-formation.com/Images/TriABulle.jpg\">\n",
    "\n",
    "![Tri a bulles](./Sorting_bubblesort_anim.gif)\n",
    "\n",
    "![Autre tri a bulles](rs4o6zjoplf9xdk9ri18.gif)"
   ]
  },
  {
   "cell_type": "markdown",
   "metadata": {},
   "source": [
    "Complexité : O(n^2) avec n la longeur de la liste"
   ]
  },
  {
   "cell_type": "markdown",
   "metadata": {},
   "source": [
    "<img src=\"https://image.slidesharecdn.com/coursalgorithmiqueetcomplexitecomplet-120919033637-phpapp02/95/cours-algorithmique-et-complexite-complet-18-728.jpg?cb=1348025833\">"
   ]
  },
  {
   "cell_type": "markdown",
   "metadata": {},
   "source": [
    "<h2>Test de comparaison des différents tris"
   ]
  },
  {
   "cell_type": "code",
   "execution_count": 12,
   "metadata": {},
   "outputs": [],
   "source": [
    "from random import *\n",
    "\n",
    "def liste_aleatoire(n) :\n",
    "    L = []\n",
    "    for _ in range(n) :\n",
    "        L.append(randrange(1, 1000))\n",
    "    return L"
   ]
  },
  {
   "cell_type": "code",
   "execution_count": 19,
   "metadata": {},
   "outputs": [
    {
     "name": "stdout",
     "output_type": "stream",
     "text": [
      "Selection : [4, 7, 39, 46, 50, 59, 61, 90, 92, 92, 100, 100, 102, 107, 115, 127, 145, 151, 170, 171, 171, 173, 177, 182, 183, 200, 231, 232, 238, 244, 249, 253, 266, 320, 323, 325, 325, 332, 343, 345, 349, 378, 389, 403, 407, 431, 444, 458, 477, 505, 507, 507, 513, 516, 517, 517, 525, 529, 558, 559, 572, 588, 589, 598, 604, 632, 647, 664, 672, 677, 679, 692, 710, 720, 724, 732, 750, 766, 766, 778, 786, 803, 817, 822, 828, 843, 849, 851, 853, 889, 891, 892, 912, 923, 925, 959, 971, 972, 992, 996] \n",
      "\n",
      "Le temps avec Selection : 0.0013612000000193802 \n",
      "\n",
      "Selection Inversée : [37, 42, 43, 62, 64, 87, 102, 103, 128, 131, 133, 135, 135, 139, 159, 160, 166, 184, 194, 212, 226, 227, 240, 250, 266, 274, 284, 285, 295, 303, 320, 322, 324, 333, 336, 344, 348, 350, 357, 366, 381, 383, 385, 387, 408, 451, 453, 470, 476, 481, 481, 494, 494, 502, 507, 508, 529, 530, 541, 541, 549, 551, 557, 566, 575, 577, 589, 637, 650, 655, 656, 658, 658, 663, 723, 743, 777, 781, 807, 827, 828, 835, 836, 839, 852, 855, 855, 871, 873, 887, 896, 896, 903, 927, 936, 947, 963, 963, 975, 979] \n",
      "\n",
      "Le temps avec Selection Inversée : 0.0010421999999152831 \n",
      "\n",
      "Insertion : [6, 12, 32, 35, 72, 75, 75, 76, 83, 99, 99, 102, 108, 116, 139, 147, 148, 155, 157, 161, 199, 203, 214, 242, 255, 263, 263, 266, 271, 296, 309, 325, 373, 382, 382, 392, 397, 400, 405, 407, 447, 453, 454, 459, 466, 470, 470, 470, 492, 518, 519, 553, 560, 564, 574, 580, 598, 602, 615, 643, 654, 665, 676, 683, 683, 700, 704, 712, 723, 743, 751, 760, 773, 797, 819, 821, 842, 843, 844, 845, 846, 849, 856, 859, 866, 868, 891, 899, 910, 910, 930, 930, 930, 931, 946, 975, 983, 987, 987, 999] \n",
      "\n",
      "Le temps avec Insertion: 0.0013136000000031345 \n",
      "\n",
      "Récursif : [46, 46, 54, 64, 165, 416, 563, 986, 4646, 16568, 46541632, 93696396, 468465165, 464616541847, 6846468464165, 654164684651654, 4465165165165165, 6546546546846168465, 23, 28, 31, 38, 52, 78, 86, 90, 96, 106, 109, 116, 154, 158, 160, 163, 167, 170, 217, 219, 235, 243, 244, 254, 259, 274, 276, 295, 306, 326, 335, 341, 356, 365, 367, 380, 390, 397, 406, 410, 430, 454, 456, 487, 498, 499, 508, 510, 521, 531, 531, 533, 542, 544, 559, 566, 587, 597, 600, 626, 635, 636, 647, 648, 658, 662, 663, 669, 672, 673, 679, 681, 693, 753, 758, 764, 768, 772, 793, 809, 820, 823, 874, 880, 888, 890, 898, 906, 912, 927, 949, 949, 949, 973, 977, 981, 990, 991, 995, 999, 1, 3, 4, 8, 11, 23, 35, 39, 40, 42, 49, 98, 106, 122, 122, 137, 140, 142, 143, 153, 161, 233, 251, 252, 271, 279, 280, 287, 291, 297, 311, 312, 331, 334, 339, 340, 345, 349, 349, 350, 354, 357, 368, 375, 404, 416, 422, 446, 460, 502, 515, 548, 551, 556, 573, 619, 623, 638, 643, 644, 651, 658, 665, 686, 696, 698, 703, 715, 718, 724, 728, 753, 770, 789, 790, 799, 822, 825, 825, 829, 829, 838, 863, 872, 872, 874, 878, 880, 886, 902, 920, 926, 936, 943, 950, 954, 960, 984, 987, 995, 3, 18, 27, 28, 37, 56, 73, 97, 99, 110, 115, 116, 122, 125, 132, 154, 159, 168, 178, 182, 211, 212, 227, 240, 247, 254, 257, 258, 260, 263, 289, 296, 306, 317, 337, 341, 347, 350, 358, 365, 369, 371, 372, 375, 386, 397, 401, 414, 415, 418, 448, 488, 489, 491, 494, 523, 525, 533, 542, 550, 552, 557, 598, 611, 631, 638, 641, 642, 648, 659, 677, 686, 709, 712, 723, 731, 735, 758, 768, 775, 787, 814, 820, 822, 827, 835, 852, 881, 885, 896, 900, 903, 930, 941, 944, 947, 956, 956, 978, 992, 2, 2, 20, 27, 31, 31, 34, 34, 45, 55, 57, 57, 62, 98, 102, 107, 108, 117, 119, 127, 158, 174, 179, 189, 207, 208, 231, 235, 252, 255, 257, 260, 263, 264, 282, 289, 294, 311, 324, 324, 336, 351, 356, 365, 425, 431, 433, 443, 458, 480, 489, 498, 500, 502, 512, 525, 544, 550, 555, 558, 567, 567, 576, 579, 592, 593, 594, 618, 618, 644, 658, 659, 669, 689, 704, 708, 714, 726, 727, 752, 770, 773, 786, 793, 797, 799, 800, 868, 882, 884, 900, 907, 910, 918, 936, 948, 963, 967, 987, 988, 2, 20, 32, 33, 34, 40, 41, 50, 54, 69, 95, 110, 127, 127, 133, 155, 173, 198, 207, 225, 225, 227, 239, 269, 272, 277, 301, 304, 329, 332, 363, 367, 400, 410, 412, 416, 419, 431, 438, 440, 456, 505, 511, 525, 531, 535, 550, 554, 555, 561, 571, 591, 596, 612, 612, 612, 625, 630, 650, 654, 660, 674, 679, 682, 684, 692, 698, 736, 762, 770, 775, 777, 788, 800, 809, 819, 819, 826, 837, 839, 850, 851, 862, 868, 878, 880, 886, 898, 902, 904, 921, 932, 949, 954, 955, 961, 963, 980, 982, 984, 16, 17, 29, 36, 39, 44, 50, 85, 101, 107, 125, 140, 144, 145, 159, 162, 173, 185, 186, 203, 216, 227, 247, 252, 292, 301, 309, 311, 311, 344, 347, 348, 348, 369, 372, 389, 396, 396, 426, 428, 435, 464, 467, 477, 478, 494, 498, 499, 505, 525, 541, 546, 547, 564, 566, 573, 579, 580, 585, 587, 588, 590, 590, 605, 633, 659, 671, 681, 681, 683, 683, 685, 691, 694, 699, 702, 703, 728, 748, 770, 792, 800, 801, 827, 827, 829, 851, 895, 900, 924, 931, 932, 946, 965, 974, 982, 986, 987, 989, 998] \n",
      "\n",
      "Le temps avec Récursif : 0.0020320000000992877 \n",
      "\n",
      "Cas 2 fusion : [10, 11, 26, 27, 37, 44, 54, 54, 74, 92, 102, 121, 137, 159, 184, 184, 220, 221, 242, 243, 249, 253, 263, 272, 298, 304, 313, 317, 328, 352, 352, 353, 374, 393, 396, 410, 414, 421, 453, 456, 457, 460, 476, 507, 510, 519, 535, 548, 549, 555, 557, 557, 581, 590, 596, 603, 604, 608, 610, 634, 636, 638, 643, 653, 659, 662, 663, 663, 670, 696, 720, 721, 731, 756, 781, 792, 807, 838, 845, 850, 865, 866, 867, 871, 883, 886, 893, 894, 912, 925, 926, 928, 944, 946, 950, 955, 969, 983, 992, 999] \n",
      "\n",
      "Le temps avec cas 2 fusion : 0.00038250000000061846 \n",
      "\n",
      "Bulles : [17, 37, 38, 42, 42, 47, 52, 73, 84, 94, 120, 129, 139, 154, 166, 168, 169, 170, 185, 188, 191, 200, 223, 224, 226, 233, 235, 266, 295, 303, 305, 314, 335, 358, 360, 415, 429, 433, 440, 440, 452, 470, 477, 481, 482, 491, 497, 499, 520, 526, 530, 543, 581, 588, 590, 600, 661, 666, 667, 676, 683, 687, 692, 694, 695, 699, 725, 732, 735, 748, 749, 754, 757, 763, 779, 795, 796, 804, 804, 826, 836, 844, 852, 853, 853, 857, 863, 881, 887, 898, 912, 922, 926, 939, 942, 962, 965, 971, 975, 982] \n",
      "\n",
      "Le temps avec Bulles : 0.0011784000000716333 \n",
      "\n"
     ]
    }
   ],
   "source": [
    "from timeit import default_timer as timer\n",
    "\n",
    "L = liste_aleatoire(100)\n",
    "\n",
    "\n",
    "#SELECTION\n",
    "debut = timer()\n",
    "print('Selection :', tri_selection(L), \"\\n\")\n",
    "fin = timer()\n",
    "print('Le temps avec Selection :', fin-debut, \"\\n\")\n",
    "\n",
    "L = liste_aleatoire(100)\n",
    "\n",
    "#SELECTION INVERSÉE\n",
    "debut = timer()\n",
    "print('Selection Inversée :', selection_inversée(L), \"\\n\")\n",
    "fin = timer()\n",
    "print('Le temps avec Selection Inversée :', fin-debut, \"\\n\")\n",
    "\n",
    "L = liste_aleatoire(100)\n",
    "\n",
    "#INSERTION\n",
    "debut = timer()\n",
    "print('Insertion :', tri_insertion(L), \"\\n\")\n",
    "fin = timer()\n",
    "print('Le temps avec Insertion:', fin-debut, \"\\n\")\n",
    "\n",
    "L = liste_aleatoire(100)\n",
    "\n",
    "#RÉCURSIF\n",
    "debut = timer()\n",
    "print('Récursif :', tri_recursif(L), \"\\n\")\n",
    "fin = timer()\n",
    "print('Le temps avec Récursif :', fin-debut, \"\\n\")\n",
    "\n",
    "L = liste_aleatoire(100)\n",
    "\n",
    "#CAS 2 FUSION\n",
    "debut = timer()\n",
    "print('Cas 2 fusion :', tri_fusion(L), \"\\n\")\n",
    "fin = timer()\n",
    "print('Le temps avec cas 2 fusion :', fin-debut, \"\\n\")\n",
    "\n",
    "L = liste_aleatoire(100)\n",
    "\n",
    "#Tri bulles\n",
    "debut = timer()\n",
    "print('Bulles :', tri_bulles(L), \"\\n\")\n",
    "fin = timer()\n",
    "print('Le temps avec Bulles :', fin-debut, \"\\n\")\n"
   ]
  },
  {
   "cell_type": "markdown",
   "metadata": {},
   "source": [
    "<h3>Récapitulatif temps (en ms) pour une liste de taille 100"
   ]
  },
  {
   "cell_type": "markdown",
   "metadata": {},
   "source": [
    "Selection | Selection Inversée | Insertion | Récursif | Fusion | Bulles |\n",
    ":---: | :---: | :---: | :---: | :---: | :---: |\n",
    "1.3 | 1.1 | 1.3 | 2.0 | 0.3 | 1.1"
   ]
  },
  {
   "cell_type": "markdown",
   "metadata": {},
   "source": [
    "Le fusion est donc bien le plus rapide"
   ]
  }
 ],
 "metadata": {
  "interpreter": {
   "hash": "c535f766096f575e5993344ecf38043c94305985d3bbdfcb24d1ab2af40cf48e"
  },
  "kernelspec": {
   "display_name": "Python 3.9.4 64-bit",
   "language": "python",
   "name": "python3"
  },
  "language_info": {
   "codemirror_mode": {
    "name": "ipython",
    "version": 3
   },
   "file_extension": ".py",
   "mimetype": "text/x-python",
   "name": "python",
   "nbconvert_exporter": "python",
   "pygments_lexer": "ipython3",
   "version": "3.9.4"
  },
  "orig_nbformat": 4
 },
 "nbformat": 4,
 "nbformat_minor": 2
}
