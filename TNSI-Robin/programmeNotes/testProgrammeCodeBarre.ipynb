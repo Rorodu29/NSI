{
 "cells": [
  {
   "cell_type": "code",
   "execution_count": null,
   "id": "ae20ba15-2ffc-420c-882b-6d2bb80f609f",
   "metadata": {},
   "outputs": [],
   "source": [
    "\n",
    "code=input(\"Entrez le code à 13 chiffres\")\n",
    "print(3*code[-1])\n",
    "print(3*int(code[-1]))"
   ]
  },
  {
   "cell_type": "markdown",
   "id": "37e828a5-af5c-48ea-b15b-eb512c2b70e9",
   "metadata": {},
   "source": [
    "A FAIRE 4 :"
   ]
  },
  {
   "cell_type": "code",
   "execution_count": null,
   "id": "f59afd26-4318-4334-bddd-4ce1c0bd6ed3",
   "metadata": {},
   "outputs": [],
   "source": [
    "code = \"9782123456803\"\n",
    "s1=0 # on initialise s1 à 0\n",
    "for i in range(0,11,2):\n",
    "    s1 = s1+int(code[i])"
   ]
  },
  {
   "cell_type": "code",
   "execution_count": null,
   "id": "1ba95088-7f52-4ecd-93bb-98d99abe940a",
   "metadata": {},
   "outputs": [],
   "source": [
    "code = \"9782123456803\"\n",
    "s2 = 0\n",
    "for i in range(1,12,2):\n",
    "      s2 = s2 + int(code[i])"
   ]
  },
  {
   "cell_type": "markdown",
   "id": "d7d64523-bfdd-4641-8bd9-9daf1126303d",
   "metadata": {},
   "source": [
    "A FAIRE 5 :"
   ]
  },
  {
   "cell_type": "code",
   "execution_count": null,
   "id": "613501d5-a142-44db-821f-ab667c6e5f28",
   "metadata": {},
   "outputs": [],
   "source": [
    "s1 = 34\n",
    "s2 = 21\n",
    "s = s1+s2 / 10\n",
    "if s == 0 :\n",
    "    print(\"la clé est égale à 0\")\n",
    "else :\n",
    "     print(\" la clé est égale à \"\"10 - s )"
   ]
  },
  {
   "cell_type": "markdown",
   "id": "de0c8a73-969d-442a-98e5-1ca5f635f6da",
   "metadata": {},
   "source": [
    "A FAIRE 6 :"
   ]
  },
  {
   "cell_type": "code",
   "execution_count": null,
   "id": "badae6da-23c3-4938-b5a8-225b015b56b9",
   "metadata": {},
   "outputs": [],
   "source": [
    "#code qui calcule avec la division eucledienne\n",
    "n=9782123456803\n",
    "code_isbn=list(str(n))\n",
    "somme=0\n",
    "for i in range(0,11,2):\n",
    "    somme=somme+eval(code_isbn[i])*1\n",
    "for i in range(1,13,2):\n",
    "    somme=somme+eval(code_isbn[i])*3\n",
    "reste=somme%10\n",
    "# déterminer la clé de contrôle\n",
    "if reste==0:\n",
    "    cle_controle=0\n",
    "else:\n",
    "    cle_controle=10-reste\n",
    "#  la validité du code ISBN, voir le dernier chiffre si il est correct \n",
    "if cle_controle==eval(code_isbn[-1]):\n",
    "    print(\"le code est valide\")\n",
    "else:\n",
    "    print(\"le code est invalide\")"
   ]
  },
  {
   "cell_type": "code",
   "execution_count": null,
   "id": "2859a9d1-13aa-47c8-b1b2-00eae792105c",
   "metadata": {},
   "outputs": [],
   "source": []
  }
 ],
 "metadata": {
  "kernelspec": {
   "display_name": "Python 3 (ipykernel)",
   "language": "python",
   "name": "python3"
  },
  "language_info": {
   "codemirror_mode": {
    "name": "ipython",
    "version": 3
   },
   "file_extension": ".py",
   "mimetype": "text/x-python",
   "name": "python",
   "nbconvert_exporter": "python",
   "pygments_lexer": "ipython3",
   "version": "3.7.10"
  }
 },
 "nbformat": 4,
 "nbformat_minor": 5
}
