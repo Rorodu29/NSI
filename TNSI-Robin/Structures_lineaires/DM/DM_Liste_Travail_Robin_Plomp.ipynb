{
 "cells": [
  {
   "cell_type": "markdown",
   "metadata": {},
   "source": [
    "# Robin PLOMP NSI-TERM \n",
    "\n",
    " ### DM-Liste \n",
    "\n",
    "\n",
    "\n",
    "# Exercice 1 :\n",
    "\n",
    "\n",
    "1) tete(l2) = 1\n",
    "\n",
    "2) tete(l1) = 6\n",
    "\n",
    "3) est_vide(queue(l1)) = false\n",
    "\n",
    "4) tete(queue(queue(queue(l4)))) = 6\n",
    "\n",
    "5) est_vide(queue(queue(l2))) = true\n",
    "\n",
    " # Exercice 2 :\n",
    "\n",
    "l1 = cons(6, cons(1, cons(7, nil)))\n",
    "\n",
    "l2 = cons(1, cons(7, nil))\n",
    "\n",
    "l3 = cons(3, cons(5, cons(6, cons(1 cons(7, nil)))))\n",
    "\n",
    "l4 = cons(8, cons(3, cons(5, cons(6, cons(1 cons(7, nil))))))"
   ]
  },
  {
   "cell_type": "markdown",
   "metadata": {},
   "source": [
    "# Exercice 3 : \n"
   ]
  },
  {
   "cell_type": "code",
   "execution_count": 13,
   "metadata": {},
   "outputs": [],
   "source": [
    "\n",
    "\n",
    "'''\n",
    ">>> longueur(nil)\n",
    "0\n",
    ">>> longueur(cons(7, cons(0, cons(12, nil))))\n",
    "3\n",
    "'''\n",
    "\n",
    "def longueur(liste) :\n",
    "    return len(liste)\n",
    "\n"
   ]
  },
  {
   "cell_type": "code",
   "execution_count": null,
   "metadata": {},
   "outputs": [
    {
     "ename": "Error",
     "evalue": "Session cannot generate requests",
     "output_type": "error",
     "traceback": [
      "Error: Session cannot generate requests",
      "at w.executeCodeCell (c:\\Users\\pc\\.vscode\\extensions\\ms-toolsai.jupyter-2021.9.1101343141\\out\\client\\extension.js:52:301180)",
      "at w.execute (c:\\Users\\pc\\.vscode\\extensions\\ms-toolsai.jupyter-2021.9.1101343141\\out\\client\\extension.js:52:300551)",
      "at w.start (c:\\Users\\pc\\.vscode\\extensions\\ms-toolsai.jupyter-2021.9.1101343141\\out\\client\\extension.js:52:296215)",
      "at runMicrotasks (<anonymous>)",
      "at processTicksAndRejections (internal/process/task_queues.js:93:5)",
      "at async t.CellExecutionQueue.executeQueuedCells (c:\\Users\\pc\\.vscode\\extensions\\ms-toolsai.jupyter-2021.9.1101343141\\out\\client\\extension.js:52:310950)",
      "at async t.CellExecutionQueue.start (c:\\Users\\pc\\.vscode\\extensions\\ms-toolsai.jupyter-2021.9.1101343141\\out\\client\\extension.js:52:310490)"
     ]
    }
   ],
   "source": [
    "\n",
    "    def longueur(liste) :\n",
    "        taille = 0\n",
    "        for i in liste :\n",
    "            taille += 1\n",
    "        return taille"
   ]
  },
  {
   "cell_type": "code",
   "execution_count": 14,
   "metadata": {},
   "outputs": [
    {
     "ename": "NameError",
     "evalue": "name 'nil' is not defined",
     "output_type": "error",
     "traceback": [
      "\u001b[1;31m---------------------------------------------------------------------------\u001b[0m",
      "\u001b[1;31mNameError\u001b[0m                                 Traceback (most recent call last)",
      "\u001b[1;32m~\\AppData\\Local\\Temp/ipykernel_7968/4215626346.py\u001b[0m in \u001b[0;36m<module>\u001b[1;34m\u001b[0m\n\u001b[1;32m----> 1\u001b[1;33m \u001b[0mlongueur\u001b[0m\u001b[1;33m(\u001b[0m\u001b[0mnil\u001b[0m\u001b[1;33m)\u001b[0m\u001b[1;33m\u001b[0m\u001b[1;33m\u001b[0m\u001b[0m\n\u001b[0m",
      "\u001b[1;31mNameError\u001b[0m: name 'nil' is not defined"
     ]
    }
   ],
   "source": [
    "longueur(nil)"
   ]
  }
 ],
 "metadata": {
  "interpreter": {
   "hash": "fe44fef87f92f48a3a32707d0df204585f471652bc0ce87358a3ce712bc24db0"
  },
  "kernelspec": {
   "display_name": "Python 3.9.7 64-bit",
   "name": "python3"
  },
  "language_info": {
   "codemirror_mode": {
    "name": "ipython",
    "version": 3
   },
   "file_extension": ".py",
   "mimetype": "text/x-python",
   "name": "python",
   "nbconvert_exporter": "python",
   "pygments_lexer": "ipython3",
   "version": "3.9.7"
  },
  "orig_nbformat": 4
 },
 "nbformat": 4,
 "nbformat_minor": 2
}
