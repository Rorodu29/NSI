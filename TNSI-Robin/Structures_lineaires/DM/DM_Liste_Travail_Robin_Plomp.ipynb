{
 "cells": [
  {
   "cell_type": "markdown",
   "metadata": {},
   "source": [
    "# Robin PLOMP NSI-TERM \n",
    "\n",
    " ### DM-Liste \n",
    "\n",
    "\n",
    "\n",
    "# Exercice 1 :\n",
    "\n",
    "\n",
    "1) tete(l2) = 1\n",
    "\n",
    "2) tete(l1) = 6\n",
    "\n",
    "3) est_vide(queue(l1)) = false\n",
    "\n",
    "4) tete(queue(queue(queue(l4)))) = 6\n",
    "\n",
    "5) est_vide(queue(queue(l2))) = true\n",
    "\n",
    " # Exercice 2 :\n",
    "\n",
    "l1 = cons(6, cons(1, cons(7, nil)))\n",
    "\n",
    "l2 = cons(1, cons(7, nil))\n",
    "\n",
    "l3 = cons(3, cons(5, cons(6, cons(1 cons(7, nil)))))\n",
    "\n",
    "l4 = cons(8, cons(3, cons(5, cons(6, cons(1 cons(7, nil))))))"
   ]
  },
  {
   "cell_type": "markdown",
   "metadata": {},
   "source": [
    "# Exercice 3 : \n"
   ]
  },
  {
   "cell_type": "code",
   "execution_count": 1,
   "metadata": {},
   "outputs": [],
   "source": [
    "\n",
    "\n",
    "'''\n",
    ">>> longueur(nil)\n",
    "0\n",
    ">>> longueur(cons(7, cons(0, cons(12, nil))))\n",
    "3\n",
    "'''\n",
    "\n",
    "def longueur(liste) :\n",
    "    return len(liste)\n",
    "\n"
   ]
  },
  {
   "cell_type": "code",
   "execution_count": 2,
   "metadata": {},
   "outputs": [],
   "source": [
    "\n",
    "    def longueur(liste) :\n",
    "        taille = 0\n",
    "        for i in liste :\n",
    "            taille += 1\n",
    "        return taille"
   ]
  }
 ],
 "metadata": {
  "interpreter": {
   "hash": "227483544e21d21530aad397e213da3ea0474c1a3162f2cb47f6636053c915ff"
  },
  "kernelspec": {
   "display_name": "Python 3.9.8 64-bit",
   "name": "python3"
  },
  "language_info": {
   "codemirror_mode": {
    "name": "ipython",
    "version": 3
   },
   "file_extension": ".py",
   "mimetype": "text/x-python",
   "name": "python",
   "nbconvert_exporter": "python",
   "pygments_lexer": "ipython3",
   "version": "3.9.8"
  },
  "orig_nbformat": 4
 },
 "nbformat": 4,
 "nbformat_minor": 2
}
