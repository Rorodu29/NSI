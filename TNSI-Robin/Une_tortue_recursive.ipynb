{
 "cells": [
  {
   "cell_type": "markdown",
   "metadata": {},
   "source": [
    "## Utilisation de la Tortue dans un notebook :\n",
    "\n",
    "\n",
    "> **/!\\ A faire avant pour fonctionner dans Carnet sur iPad :**\n",
    ">\n",
    "> Vérifier si le module `ipyturtle` n'est pas déjà installé :\n",
    "> ```python\n",
    "!pip list\n",
    "```\n",
    "> Sinon il faut l'installer en faisant :\n",
    "> ```python\n",
    "!pip install ipyturtle\n",
    "```\n",
    "\n"
   ]
  },
  {
   "cell_type": "markdown",
   "metadata": {},
   "source": [
    "<h3 class='fa fa-cog' style=\"color: MediumSeaGreen\"> A faire vous même n°1 :</h3>\n",
    "\n",
    "- Exécuter la instructions suivantes pour découvrir quelques fonctionnalités du module..."
   ]
  },
  {
   "cell_type": "code",
   "execution_count": 1,
   "metadata": {},
   "outputs": [
    {
     "name": "stdout",
     "output_type": "stream",
     "text": [
      "Requirement already satisfied: ipyturtle in c:\\users\\utilisateur\\appdata\\local\\programs\\python\\python39\\lib\\site-packages (0.2.4)\n",
      "Requirement already satisfied: ipywidgets>=7.0.0 in c:\\users\\utilisateur\\appdata\\local\\programs\\python\\python39\\lib\\site-packages (from ipyturtle) (7.6.5)\n",
      "Requirement already satisfied: traitlets>=4.3.1 in c:\\users\\utilisateur\\appdata\\local\\programs\\python\\python39\\lib\\site-packages (from ipywidgets>=7.0.0->ipyturtle) (5.0.5)\n",
      "Requirement already satisfied: widgetsnbextension~=3.5.0 in c:\\users\\utilisateur\\appdata\\local\\programs\\python\\python39\\lib\\site-packages (from ipywidgets>=7.0.0->ipyturtle) (3.5.2)\n",
      "Requirement already satisfied: jupyterlab-widgets>=1.0.0; python_version >= \"3.6\" in c:\\users\\utilisateur\\appdata\\local\\programs\\python\\python39\\lib\\site-packages (from ipywidgets>=7.0.0->ipyturtle) (1.0.2)\n",
      "Requirement already satisfied: ipykernel>=4.5.1 in c:\\users\\utilisateur\\appdata\\local\\programs\\python\\python39\\lib\\site-packages (from ipywidgets>=7.0.0->ipyturtle) (5.5.0)\n",
      "Requirement already satisfied: ipython>=4.0.0; python_version >= \"3.3\" in c:\\users\\utilisateur\\appdata\\local\\programs\\python\\python39\\lib\\site-packages (from ipywidgets>=7.0.0->ipyturtle) (7.21.0)\n",
      "Requirement already satisfied: nbformat>=4.2.0 in c:\\users\\utilisateur\\appdata\\local\\programs\\python\\python39\\lib\\site-packages (from ipywidgets>=7.0.0->ipyturtle) (5.1.2)\n",
      "Requirement already satisfied: ipython-genutils~=0.2.0 in c:\\users\\utilisateur\\appdata\\local\\programs\\python\\python39\\lib\\site-packages (from ipywidgets>=7.0.0->ipyturtle) (0.2.0)\n",
      "Requirement already satisfied: notebook>=4.4.1 in c:\\users\\utilisateur\\appdata\\local\\programs\\python\\python39\\lib\\site-packages (from widgetsnbextension~=3.5.0->ipywidgets>=7.0.0->ipyturtle) (6.2.0)\n",
      "Requirement already satisfied: tornado>=4.2 in c:\\users\\utilisateur\\appdata\\local\\programs\\python\\python39\\lib\\site-packages (from ipykernel>=4.5.1->ipywidgets>=7.0.0->ipyturtle) (6.1)\n",
      "Requirement already satisfied: jupyter-client in c:\\users\\utilisateur\\appdata\\local\\programs\\python\\python39\\lib\\site-packages (from ipykernel>=4.5.1->ipywidgets>=7.0.0->ipyturtle) (6.1.11)\n",
      "Requirement already satisfied: setuptools>=18.5 in c:\\users\\utilisateur\\appdata\\local\\programs\\python\\python39\\lib\\site-packages (from ipython>=4.0.0; python_version >= \"3.3\"->ipywidgets>=7.0.0->ipyturtle) (49.2.1)\n",
      "Requirement already satisfied: prompt-toolkit!=3.0.0,!=3.0.1,<3.1.0,>=2.0.0 in c:\\users\\utilisateur\\appdata\\local\\programs\\python\\python39\\lib\\site-packages (from ipython>=4.0.0; python_version >= \"3.3\"->ipywidgets>=7.0.0->ipyturtle) (3.0.17)\n",
      "Requirement already satisfied: pygments in c:\\users\\utilisateur\\appdata\\local\\programs\\python\\python39\\lib\\site-packages (from ipython>=4.0.0; python_version >= \"3.3\"->ipywidgets>=7.0.0->ipyturtle) (2.8.1)\n",
      "Requirement already satisfied: backcall in c:\\users\\utilisateur\\appdata\\local\\programs\\python\\python39\\lib\\site-packages (from ipython>=4.0.0; python_version >= \"3.3\"->ipywidgets>=7.0.0->ipyturtle) (0.2.0)\n",
      "Requirement already satisfied: jedi>=0.16 in c:\\users\\utilisateur\\appdata\\local\\programs\\python\\python39\\lib\\site-packages (from ipython>=4.0.0; python_version >= \"3.3\"->ipywidgets>=7.0.0->ipyturtle) (0.18.0)\n",
      "Requirement already satisfied: colorama; sys_platform == \"win32\" in c:\\users\\utilisateur\\appdata\\local\\programs\\python\\python39\\lib\\site-packages (from ipython>=4.0.0; python_version >= \"3.3\"->ipywidgets>=7.0.0->ipyturtle) (0.4.4)\n",
      "Requirement already satisfied: decorator in c:\\users\\utilisateur\\appdata\\local\\programs\\python\\python39\\lib\\site-packages (from ipython>=4.0.0; python_version >= \"3.3\"->ipywidgets>=7.0.0->ipyturtle) (4.4.2)\n",
      "Requirement already satisfied: pickleshare in c:\\users\\utilisateur\\appdata\\local\\programs\\python\\python39\\lib\\site-packages (from ipython>=4.0.0; python_version >= \"3.3\"->ipywidgets>=7.0.0->ipyturtle) (0.7.5)\n",
      "Requirement already satisfied: jsonschema!=2.5.0,>=2.4 in c:\\users\\utilisateur\\appdata\\local\\programs\\python\\python39\\lib\\site-packages (from nbformat>=4.2.0->ipywidgets>=7.0.0->ipyturtle) (3.2.0)\n",
      "Requirement already satisfied: jupyter-core in c:\\users\\utilisateur\\appdata\\local\\programs\\python\\python39\\lib\\site-packages (from nbformat>=4.2.0->ipywidgets>=7.0.0->ipyturtle) (4.7.1)\n",
      "Requirement already satisfied: jinja2 in c:\\users\\utilisateur\\appdata\\local\\programs\\python\\python39\\lib\\site-packages (from notebook>=4.4.1->widgetsnbextension~=3.5.0->ipywidgets>=7.0.0->ipyturtle) (2.11.3)\n",
      "Requirement already satisfied: Send2Trash>=1.5.0 in c:\\users\\utilisateur\\appdata\\local\\programs\\python\\python39\\lib\\site-packages (from notebook>=4.4.1->widgetsnbextension~=3.5.0->ipywidgets>=7.0.0->ipyturtle) (1.5.0)\n",
      "Requirement already satisfied: nbconvert in c:\\users\\utilisateur\\appdata\\local\\programs\\python\\python39\\lib\\site-packages (from notebook>=4.4.1->widgetsnbextension~=3.5.0->ipywidgets>=7.0.0->ipyturtle) (6.0.7)\n",
      "Requirement already satisfied: terminado>=0.8.3 in c:\\users\\utilisateur\\appdata\\local\\programs\\python\\python39\\lib\\site-packages (from notebook>=4.4.1->widgetsnbextension~=3.5.0->ipywidgets>=7.0.0->ipyturtle) (0.9.2)\n",
      "Requirement already satisfied: prometheus-client in c:\\users\\utilisateur\\appdata\\local\\programs\\python\\python39\\lib\\site-packages (from notebook>=4.4.1->widgetsnbextension~=3.5.0->ipywidgets>=7.0.0->ipyturtle) (0.9.0)\n",
      "Requirement already satisfied: argon2-cffi in c:\\users\\utilisateur\\appdata\\local\\programs\\python\\python39\\lib\\site-packages (from notebook>=4.4.1->widgetsnbextension~=3.5.0->ipywidgets>=7.0.0->ipyturtle) (20.1.0)\n",
      "Requirement already satisfied: pyzmq>=17 in c:\\users\\utilisateur\\appdata\\local\\programs\\python\\python39\\lib\\site-packages (from notebook>=4.4.1->widgetsnbextension~=3.5.0->ipywidgets>=7.0.0->ipyturtle) (22.0.3)\n",
      "Requirement already satisfied: python-dateutil>=2.1 in c:\\users\\utilisateur\\appdata\\local\\programs\\python\\python39\\lib\\site-packages (from jupyter-client->ipykernel>=4.5.1->ipywidgets>=7.0.0->ipyturtle) (2.8.1)\n",
      "Requirement already satisfied: wcwidth in c:\\users\\utilisateur\\appdata\\local\\programs\\python\\python39\\lib\\site-packages (from prompt-toolkit!=3.0.0,!=3.0.1,<3.1.0,>=2.0.0->ipython>=4.0.0; python_version >= \"3.3\"->ipywidgets>=7.0.0->ipyturtle) (0.2.5)\n",
      "Requirement already satisfied: parso<0.9.0,>=0.8.0 in c:\\users\\utilisateur\\appdata\\local\\programs\\python\\python39\\lib\\site-packages (from jedi>=0.16->ipython>=4.0.0; python_version >= \"3.3\"->ipywidgets>=7.0.0->ipyturtle) (0.8.1)\n",
      "Requirement already satisfied: pyrsistent>=0.14.0 in c:\\users\\utilisateur\\appdata\\local\\programs\\python\\python39\\lib\\site-packages (from jsonschema!=2.5.0,>=2.4->nbformat>=4.2.0->ipywidgets>=7.0.0->ipyturtle) (0.17.3)\n",
      "Requirement already satisfied: six>=1.11.0 in c:\\users\\utilisateur\\appdata\\local\\programs\\python\\python39\\lib\\site-packages (from jsonschema!=2.5.0,>=2.4->nbformat>=4.2.0->ipywidgets>=7.0.0->ipyturtle) (1.15.0)\n",
      "Requirement already satisfied: attrs>=17.4.0 in c:\\users\\utilisateur\\appdata\\local\\programs\\python\\python39\\lib\\site-packages (from jsonschema!=2.5.0,>=2.4->nbformat>=4.2.0->ipywidgets>=7.0.0->ipyturtle) (20.3.0)\n",
      "Requirement already satisfied: pywin32>=1.0; sys_platform == \"win32\" in c:\\users\\utilisateur\\appdata\\local\\programs\\python\\python39\\lib\\site-packages (from jupyter-core->nbformat>=4.2.0->ipywidgets>=7.0.0->ipyturtle) (300)\n",
      "Requirement already satisfied: MarkupSafe>=0.23 in c:\\users\\utilisateur\\appdata\\local\\programs\\python\\python39\\lib\\site-packages (from jinja2->notebook>=4.4.1->widgetsnbextension~=3.5.0->ipywidgets>=7.0.0->ipyturtle) (1.1.1)\n",
      "Requirement already satisfied: pandocfilters>=1.4.1 in c:\\users\\utilisateur\\appdata\\local\\programs\\python\\python39\\lib\\site-packages (from nbconvert->notebook>=4.4.1->widgetsnbextension~=3.5.0->ipywidgets>=7.0.0->ipyturtle) (1.4.3)\n",
      "Requirement already satisfied: mistune<2,>=0.8.1 in c:\\users\\utilisateur\\appdata\\local\\programs\\python\\python39\\lib\\site-packages (from nbconvert->notebook>=4.4.1->widgetsnbextension~=3.5.0->ipywidgets>=7.0.0->ipyturtle) (0.8.4)\n",
      "Requirement already satisfied: entrypoints>=0.2.2 in c:\\users\\utilisateur\\appdata\\local\\programs\\python\\python39\\lib\\site-packages (from nbconvert->notebook>=4.4.1->widgetsnbextension~=3.5.0->ipywidgets>=7.0.0->ipyturtle) (0.3)\n",
      "Requirement already satisfied: bleach in c:\\users\\utilisateur\\appdata\\local\\programs\\python\\python39\\lib\\site-packages (from nbconvert->notebook>=4.4.1->widgetsnbextension~=3.5.0->ipywidgets>=7.0.0->ipyturtle) (3.3.0)\n",
      "Requirement already satisfied: testpath in c:\\users\\utilisateur\\appdata\\local\\programs\\python\\python39\\lib\\site-packages (from nbconvert->notebook>=4.4.1->widgetsnbextension~=3.5.0->ipywidgets>=7.0.0->ipyturtle) (0.4.4)\n",
      "Requirement already satisfied: jupyterlab-pygments in c:\\users\\utilisateur\\appdata\\local\\programs\\python\\python39\\lib\\site-packages (from nbconvert->notebook>=4.4.1->widgetsnbextension~=3.5.0->ipywidgets>=7.0.0->ipyturtle) (0.1.2)\n",
      "Requirement already satisfied: defusedxml in c:\\users\\utilisateur\\appdata\\local\\programs\\python\\python39\\lib\\site-packages (from nbconvert->notebook>=4.4.1->widgetsnbextension~=3.5.0->ipywidgets>=7.0.0->ipyturtle) (0.7.1)\n",
      "Requirement already satisfied: nbclient<0.6.0,>=0.5.0 in c:\\users\\utilisateur\\appdata\\local\\programs\\python\\python39\\lib\\site-packages (from nbconvert->notebook>=4.4.1->widgetsnbextension~=3.5.0->ipywidgets>=7.0.0->ipyturtle) (0.5.3)\n",
      "Requirement already satisfied: pywinpty>=0.5; os_name == \"nt\" in c:\\users\\utilisateur\\appdata\\local\\programs\\python\\python39\\lib\\site-packages (from terminado>=0.8.3->notebook>=4.4.1->widgetsnbextension~=3.5.0->ipywidgets>=7.0.0->ipyturtle) (0.5.7)\n",
      "Requirement already satisfied: cffi>=1.0.0 in c:\\users\\utilisateur\\appdata\\local\\programs\\python\\python39\\lib\\site-packages (from argon2-cffi->notebook>=4.4.1->widgetsnbextension~=3.5.0->ipywidgets>=7.0.0->ipyturtle) (1.14.5)\n",
      "Requirement already satisfied: webencodings in c:\\users\\utilisateur\\appdata\\local\\programs\\python\\python39\\lib\\site-packages (from bleach->nbconvert->notebook>=4.4.1->widgetsnbextension~=3.5.0->ipywidgets>=7.0.0->ipyturtle) (0.5.1)\n",
      "Requirement already satisfied: packaging in c:\\users\\utilisateur\\appdata\\local\\programs\\python\\python39\\lib\\site-packages (from bleach->nbconvert->notebook>=4.4.1->widgetsnbextension~=3.5.0->ipywidgets>=7.0.0->ipyturtle) (20.9)\n",
      "Requirement already satisfied: async-generator in c:\\users\\utilisateur\\appdata\\local\\programs\\python\\python39\\lib\\site-packages (from nbclient<0.6.0,>=0.5.0->nbconvert->notebook>=4.4.1->widgetsnbextension~=3.5.0->ipywidgets>=7.0.0->ipyturtle) (1.10)\n",
      "Requirement already satisfied: nest-asyncio in c:\\users\\utilisateur\\appdata\\local\\programs\\python\\python39\\lib\\site-packages (from nbclient<0.6.0,>=0.5.0->nbconvert->notebook>=4.4.1->widgetsnbextension~=3.5.0->ipywidgets>=7.0.0->ipyturtle) (1.5.1)\n",
      "Requirement already satisfied: pycparser in c:\\users\\utilisateur\\appdata\\local\\programs\\python\\python39\\lib\\site-packages (from cffi>=1.0.0->argon2-cffi->notebook>=4.4.1->widgetsnbextension~=3.5.0->ipywidgets>=7.0.0->ipyturtle) (2.20)\n",
      "Requirement already satisfied: pyparsing>=2.0.2 in c:\\users\\utilisateur\\appdata\\local\\programs\\python\\python39\\lib\\site-packages (from packaging->bleach->nbconvert->notebook>=4.4.1->widgetsnbextension~=3.5.0->ipywidgets>=7.0.0->ipyturtle) (2.4.7)\n"
     ]
    },
    {
     "name": "stderr",
     "output_type": "stream",
     "text": [
      "WARNING: You are using pip version 20.2.3; however, version 21.3.1 is available.\n",
      "You should consider upgrading via the 'c:\\users\\utilisateur\\appdata\\local\\programs\\python\\python39\\python.exe -m pip install --upgrade pip' command.\n"
     ]
    }
   ],
   "source": [
    "!pip install ipyturtle"
   ]
  },
  {
   "cell_type": "code",
   "execution_count": 2,
   "metadata": {
    "collapsed": true
   },
   "outputs": [],
   "source": [
    "from ipyturtle import Turtle"
   ]
  },
  {
   "cell_type": "code",
   "execution_count": 3,
   "metadata": {
    "collapsed": true
   },
   "outputs": [],
   "source": [
    "t = Turtle(fixed=True, width=300, height=300)"
   ]
  },
  {
   "cell_type": "code",
   "execution_count": 4,
   "metadata": {
    "collapsed": true
   },
   "outputs": [
    {
     "data": {
      "application/vnd.jupyter.widget-view+json": {
       "model_id": "0983f7730f664af59af94500d01aab58",
       "version_major": 2,
       "version_minor": 0
      },
      "text/plain": [
       "Turtle()"
      ]
     },
     "metadata": {},
     "output_type": "display_data"
    }
   ],
   "source": [
    "t"
   ]
  },
  {
   "cell_type": "code",
   "execution_count": 31,
   "metadata": {
    "collapsed": true
   },
   "outputs": [],
   "source": [
    "t.back(40)"
   ]
  },
  {
   "cell_type": "code",
   "execution_count": 32,
   "metadata": {
    "collapsed": true
   },
   "outputs": [],
   "source": [
    "t.right(60)"
   ]
  },
  {
   "cell_type": "code",
   "execution_count": 7,
   "metadata": {
    "collapsed": true
   },
   "outputs": [],
   "source": [
    "t.forward(100)"
   ]
  },
  {
   "cell_type": "code",
   "execution_count": 8,
   "metadata": {
    "collapsed": true
   },
   "outputs": [],
   "source": [
    "t.left(240)"
   ]
  },
  {
   "cell_type": "code",
   "execution_count": 9,
   "metadata": {
    "collapsed": true
   },
   "outputs": [],
   "source": [
    "t.penup()"
   ]
  },
  {
   "cell_type": "code",
   "execution_count": 10,
   "metadata": {
    "collapsed": true
   },
   "outputs": [],
   "source": [
    "t.forward(40)"
   ]
  },
  {
   "cell_type": "code",
   "execution_count": 11,
   "metadata": {
    "collapsed": true
   },
   "outputs": [
    {
     "data": {
      "text/plain": [
       "(86.60254037844386, -30.000000000000007)"
      ]
     },
     "execution_count": 11,
     "metadata": {},
     "output_type": "execute_result"
    }
   ],
   "source": [
    "t.position()"
   ]
  },
  {
   "cell_type": "code",
   "execution_count": 29,
   "metadata": {
    "collapsed": true
   },
   "outputs": [],
   "source": [
    "t.pendown()"
   ]
  },
  {
   "cell_type": "code",
   "execution_count": 13,
   "metadata": {
    "collapsed": true
   },
   "outputs": [],
   "source": [
    "t.forward(50)"
   ]
  },
  {
   "cell_type": "code",
   "execution_count": 14,
   "metadata": {
    "collapsed": true
   },
   "outputs": [
    {
     "data": {
      "text/plain": [
       "270.0"
      ]
     },
     "execution_count": 14,
     "metadata": {},
     "output_type": "execute_result"
    }
   ],
   "source": [
    "t.heading()"
   ]
  },
  {
   "cell_type": "code",
   "execution_count": 62,
   "metadata": {
    "collapsed": true
   },
   "outputs": [],
   "source": [
    "t.reset()"
   ]
  },
  {
   "cell_type": "code",
   "execution_count": 33,
   "metadata": {
    "collapsed": true
   },
   "outputs": [],
   "source": [
    "def triangle():\n",
    "    for i in range(3):\n",
    "        t.forward(100)\n",
    "        t.right(90)"
   ]
  },
  {
   "cell_type": "code",
   "execution_count": 34,
   "metadata": {
    "collapsed": true
   },
   "outputs": [],
   "source": [
    "triangle()"
   ]
  },
  {
   "cell_type": "markdown",
   "metadata": {},
   "source": [
    "<h3 class='fa fa-code' style=\"color: MediumSeaGreen\"> A faire vous même n°2 :</h3>\n",
    "\n",
    "- Définir une fonction `carre(c)` qui dessine un carré de coté égale à la dimension `c` en pixels :"
   ]
  },
  {
   "cell_type": "code",
   "execution_count": 53,
   "metadata": {
    "collapsed": true
   },
   "outputs": [],
   "source": [
    "def carre(c) :\n",
    "    for i in range(4) :\n",
    "        t.forward(100)\n",
    "        t.left(90)\n",
    "    "
   ]
  },
  {
   "cell_type": "code",
   "execution_count": 54,
   "metadata": {},
   "outputs": [],
   "source": [
    "carre(1)"
   ]
  },
  {
   "cell_type": "markdown",
   "metadata": {},
   "source": [
    "L'objectif est de reproduire le dessin suivant sachant que le coté du plus petit carré aura une longueur d'au moins 5 pixels \n",
    "\n",
    "![](https://github.com/glassus/nsi/blob/master/Terminale/Theme_2_Programmation/2.2_Recursivite/data/carres_turtle.png?raw=1)\n",
    "\n",
    "\n",
    "<h3 class='fa fa-code' style=\"color: darkorange\"> A faire vous même n°3 :</h3>\n",
    "\n",
    "- Définir une fonction `base(c)` qui dessine un premier carré de coté `c` et se prépare à ajouter par la suite un nouveau carré tourné de 45° qui pourra s'inscrire dans le carré précédent tel que sur la figure  :"
   ]
  },
  {
   "cell_type": "code",
   "execution_count": 59,
   "metadata": {
    "collapsed": true
   },
   "outputs": [],
   "source": [
    "'''\n",
    "on nous demande de faire un carré qui est dans un carré tourné de 45° tout en alternant entre le carré de 90 ° et le carré de 45° \n",
    "et de plus le carré devient de plus en plus grand\n",
    "\n",
    "'''\n",
    "\n",
    "\n",
    "def base(c) :\n",
    "    for i in range(4) :\n",
    "        for i in range(4) :\n",
    "            t.forward(10)\n",
    "            t.left(90)\n",
    "        for i in range(4):\n",
    "            t.forward(20)\n",
    "            t.left(45)\n",
    "            \n",
    "    \n"
   ]
  },
  {
   "cell_type": "code",
   "execution_count": 64,
   "metadata": {},
   "outputs": [],
   "source": [
    "\n"
   ]
  },
  {
   "cell_type": "code",
   "execution_count": 61,
   "metadata": {},
   "outputs": [],
   "source": [
    "base(1)"
   ]
  },
  {
   "cell_type": "markdown",
   "metadata": {},
   "source": [
    "<h3 class='fa fa-code' style=\"color: tomato\"> A faire vous même n°4 :</h3>\n",
    "\n",
    "- Définir une fonction pour tracer la figure de façon récursive :"
   ]
  },
  {
   "cell_type": "code",
   "execution_count": null,
   "metadata": {
    "collapsed": true
   },
   "outputs": [],
   "source": [
    "def trace(c) :"
   ]
  },
  {
   "cell_type": "markdown",
   "metadata": {},
   "source": [
    "<h3 class='fa fa-rocket' style=\"color: tomato\"> A faire vous même n°5 :</h3>\n",
    "\n",
    "- Définir une fonction pour tracer la figure suivante de façon récursive :\n",
    "\n",
    "<img src=\"https://ericecmorlaix.github.io/img/arbre.gif\" alt=\"arbre recursif\" width=60%>"
   ]
  },
  {
   "cell_type": "markdown",
   "metadata": {},
   "source": [
    "## Aspect historique :\n",
    "\n",
    "**Turtle** est un hommage au langage LOGO inventé par [Seymour Papert](https://fr.wikipedia.org/wiki/Seymour_Papert) au MIT à la fin des années 60."
   ]
  },
  {
   "cell_type": "code",
   "execution_count": null,
   "metadata": {
    "collapsed": true
   },
   "outputs": [],
   "source": []
  }
 ],
 "metadata": {
  "kernelspec": {
   "display_name": "Python 3",
   "language": "python",
   "name": "python3"
  },
  "language_info": {
   "codemirror_mode": {
    "name": "ipython",
    "version": 3
   },
   "file_extension": ".py",
   "mimetype": "text/x-python",
   "name": "python",
   "nbconvert_exporter": "python",
   "pygments_lexer": "ipython3",
   "version": "3.9.1"
  },
  "toc": {
   "base_numbering": 1,
   "nav_menu": {},
   "number_sections": true,
   "sideBar": true,
   "skip_h1_title": false,
   "title_cell": "Table of Contents",
   "title_sidebar": "Contents",
   "toc_cell": false,
   "toc_position": {},
   "toc_section_display": true,
   "toc_window_display": false
  },
  "varInspector": {
   "cols": {
    "lenName": 16,
    "lenType": 16,
    "lenVar": 40
   },
   "kernels_config": {
    "python": {
     "delete_cmd_postfix": "",
     "delete_cmd_prefix": "del ",
     "library": "var_list.py",
     "varRefreshCmd": "print(var_dic_list())"
    },
    "r": {
     "delete_cmd_postfix": ") ",
     "delete_cmd_prefix": "rm(",
     "library": "var_list.r",
     "varRefreshCmd": "cat(var_dic_list()) "
    }
   },
   "types_to_exclude": [
    "module",
    "function",
    "builtin_function_or_method",
    "instance",
    "_Feature"
   ],
   "window_display": false
  }
 },
 "nbformat": 4,
 "nbformat_minor": 4
}
